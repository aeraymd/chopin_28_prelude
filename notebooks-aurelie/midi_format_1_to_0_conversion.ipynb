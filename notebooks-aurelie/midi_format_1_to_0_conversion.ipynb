{
 "cells": [
  {
   "cell_type": "code",
   "execution_count": 3,
   "metadata": {},
   "outputs": [],
   "source": [
    "import mido\n",
    "import os"
   ]
  },
  {
   "cell_type": "code",
   "execution_count": 4,
   "metadata": {},
   "outputs": [],
   "source": [
    "#m = mido.MidiFile('../raw_data/tests/chpn-p1.mid')\n",
    "#tracks = mido.merge_tracks(m.tracks)\n",
    "#type0_mid = mido.MidiFile(type=0)\n",
    "#type0_mid.tracks.append(tracks)\n",
    "#type0_mid.save('../raw_data/tests/chpn-p1_1to0.mid')"
   ]
  },
  {
   "cell_type": "code",
   "execution_count": 5,
   "metadata": {},
   "outputs": [],
   "source": [
    "format_1_directory_path = '../raw_data/midi_format_1/'\n",
    "format_0_directory_path = '../raw_data/midi_format_0_converted/'\n",
    "new_format = '_format0'\n",
    "\n",
    "def midi_0_converter():\n",
    "    for filename in os.listdir(format_1_directory_path):\n",
    "        f = os.path.join(format_1_directory_path,filename)\n",
    "        m = mido.MidiFile(f)\n",
    "        tracks = mido.merge_tracks(m.tracks)\n",
    "        type0_mid = mido.MidiFile(type=0)\n",
    "        type0_mid.tracks.append(tracks)\n",
    "        new_filename = filename + new_format\n",
    "        type0_mid.save(os.path.join(format_0_directory_path, new_filename))\n",
    "        return None"
   ]
  },
  {
   "cell_type": "code",
   "execution_count": 6,
   "metadata": {},
   "outputs": [
    {
     "ename": "FileNotFoundError",
     "evalue": "[Errno 2] No such file or directory: '../raw_data/midi_format_0_converted/ballade_third_op_47_1249_r_(nc)smythe.mid/_format0'",
     "output_type": "error",
     "traceback": [
      "\u001b[0;31m---------------------------------------------------------------------------\u001b[0m",
      "\u001b[0;31mFileNotFoundError\u001b[0m                         Traceback (most recent call last)",
      "Cell \u001b[0;32mIn [6], line 1\u001b[0m\n\u001b[0;32m----> 1\u001b[0m midi_0_converter()\n",
      "Cell \u001b[0;32mIn [5], line 12\u001b[0m, in \u001b[0;36mmidi_0_converter\u001b[0;34m()\u001b[0m\n\u001b[1;32m     10\u001b[0m type0_mid \u001b[39m=\u001b[39m mido\u001b[39m.\u001b[39mMidiFile(\u001b[39mtype\u001b[39m\u001b[39m=\u001b[39m\u001b[39m0\u001b[39m)\n\u001b[1;32m     11\u001b[0m type0_mid\u001b[39m.\u001b[39mtracks\u001b[39m.\u001b[39mappend(tracks)\n\u001b[0;32m---> 12\u001b[0m type0_mid\u001b[39m.\u001b[39;49msave(os\u001b[39m.\u001b[39;49mpath\u001b[39m.\u001b[39;49mjoin(format_0_directory_path, filename, new_format))\n\u001b[1;32m     13\u001b[0m \u001b[39mreturn\u001b[39;00m \u001b[39mNone\u001b[39;00m\n",
      "File \u001b[0;32m~/.pyenv/versions/3.10.6/envs/lewagon/lib/python3.10/site-packages/mido/midifiles/midifiles.py:445\u001b[0m, in \u001b[0;36mMidiFile.save\u001b[0;34m(self, filename, file)\u001b[0m\n\u001b[1;32m    443\u001b[0m     \u001b[39mself\u001b[39m\u001b[39m.\u001b[39m_save(file)\n\u001b[1;32m    444\u001b[0m \u001b[39melif\u001b[39;00m filename \u001b[39mis\u001b[39;00m \u001b[39mnot\u001b[39;00m \u001b[39mNone\u001b[39;00m:\n\u001b[0;32m--> 445\u001b[0m     \u001b[39mwith\u001b[39;00m io\u001b[39m.\u001b[39;49mopen(filename, \u001b[39m'\u001b[39;49m\u001b[39mwb\u001b[39;49m\u001b[39m'\u001b[39;49m) \u001b[39mas\u001b[39;00m file:\n\u001b[1;32m    446\u001b[0m         \u001b[39mself\u001b[39m\u001b[39m.\u001b[39m_save(file)\n\u001b[1;32m    447\u001b[0m \u001b[39melse\u001b[39;00m:\n",
      "\u001b[0;31mFileNotFoundError\u001b[0m: [Errno 2] No such file or directory: '../raw_data/midi_format_0_converted/ballade_third_op_47_1249_r_(nc)smythe.mid/_format0'"
     ]
    }
   ],
   "source": [
    "midi_0_converter()"
   ]
  },
  {
   "cell_type": "code",
   "execution_count": null,
   "metadata": {},
   "outputs": [],
   "source": []
  }
 ],
 "metadata": {
  "kernelspec": {
   "display_name": "Python 3.10.6 64-bit ('lewagon')",
   "language": "python",
   "name": "python3"
  },
  "language_info": {
   "codemirror_mode": {
    "name": "ipython",
    "version": 3
   },
   "file_extension": ".py",
   "mimetype": "text/x-python",
   "name": "python",
   "nbconvert_exporter": "python",
   "pygments_lexer": "ipython3",
   "version": "3.10.6"
  },
  "orig_nbformat": 4,
  "vscode": {
   "interpreter": {
    "hash": "a8a7570021751e1e44b5cb6f7d3a7e2449aa165f08b1cd960c3a5a6b6868a712"
   }
  }
 },
 "nbformat": 4,
 "nbformat_minor": 2
}
