{
 "cells": [
  {
   "cell_type": "code",
   "execution_count": 2,
   "metadata": {},
   "outputs": [],
   "source": [
    "import mido\n",
    "import os"
   ]
  },
  {
   "cell_type": "code",
   "execution_count": 3,
   "metadata": {},
   "outputs": [],
   "source": [
    "#m = mido.MidiFile('../raw_data/tests/chpn-p1.mid')\n",
    "#tracks = mido.merge_tracks(m.tracks)\n",
    "#type0_mid = mido.MidiFile(type=0)\n",
    "#type0_mid.tracks.append(tracks)\n",
    "#type0_mid.save('../raw_data/tests/chpn-p1_1to0.mid')"
   ]
  },
  {
   "cell_type": "code",
   "execution_count": 4,
   "metadata": {},
   "outputs": [],
   "source": [
    "format_1_directory_path = '../raw_data/midi_format_1/'\n",
    "format_0_directory_path = '../raw_data/midi_format_0_converted/'\n",
    "new_format = 'format0_'\n",
    "\n",
    "def midi_0_converter():\n",
    "    for filename in os.listdir(format_1_directory_path):\n",
    "        f = os.path.join(format_1_directory_path,filename)\n",
    "        m = mido.MidiFile(f)\n",
    "        tracks = mido.merge_tracks(m.tracks)\n",
    "        type0_mid = mido.MidiFile(type=0)\n",
    "        type0_mid.tracks.append(tracks)\n",
    "        new_filename = new_format + filename\n",
    "        type0_mid.save(os.path.join(format_0_directory_path, new_filename))\n",
    "    return None"
   ]
  },
  {
   "cell_type": "code",
   "execution_count": 5,
   "metadata": {},
   "outputs": [],
   "source": [
    "midi_0_converter()"
   ]
  },
  {
   "cell_type": "code",
   "execution_count": null,
   "metadata": {},
   "outputs": [],
   "source": []
  }
 ],
 "metadata": {
  "kernelspec": {
   "display_name": "Python 3.10.6 64-bit ('lewagon')",
   "language": "python",
   "name": "python3"
  },
  "language_info": {
   "codemirror_mode": {
    "name": "ipython",
    "version": 3
   },
   "file_extension": ".py",
   "mimetype": "text/x-python",
   "name": "python",
   "nbconvert_exporter": "python",
   "pygments_lexer": "ipython3",
   "version": "3.10.6"
  },
  "orig_nbformat": 4,
  "vscode": {
   "interpreter": {
    "hash": "a8a7570021751e1e44b5cb6f7d3a7e2449aa165f08b1cd960c3a5a6b6868a712"
   }
  }
 },
 "nbformat": 4,
 "nbformat_minor": 2
}
