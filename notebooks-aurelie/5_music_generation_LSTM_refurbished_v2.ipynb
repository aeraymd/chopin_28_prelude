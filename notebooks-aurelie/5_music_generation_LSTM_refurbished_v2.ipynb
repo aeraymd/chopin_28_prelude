{
  "cells": [
    {
      "cell_type": "markdown",
      "id": "e90c000a",
      "metadata": {
        "id": "e90c000a"
      },
      "source": [
        "# Generate music with an RNN\n"
      ]
    },
    {
      "cell_type": "markdown",
      "id": "d87c9ca0",
      "metadata": {
        "id": "d87c9ca0"
      },
      "source": [
        "## Setup"
      ]
    },
    {
      "cell_type": "code",
      "execution_count": 2,
      "id": "AhezIRDuvi3-",
      "metadata": {
        "colab": {
          "base_uri": "https://localhost:8080/"
        },
        "id": "AhezIRDuvi3-",
        "outputId": "4e1e2393-0f33-42b0-efd0-0a1c106e4aa8"
      },
      "outputs": [],
      "source": [
        "#from google.colab import drive\n",
        "#drive.mount('/content/drive/')"
      ]
    },
    {
      "cell_type": "code",
      "execution_count": 3,
      "id": "ecLlCHw_vsVK",
      "metadata": {
        "colab": {
          "base_uri": "https://localhost:8080/"
        },
        "id": "ecLlCHw_vsVK",
        "outputId": "3d54471c-38ce-4e09-cc4f-9c7922673ed5"
      },
      "outputs": [],
      "source": [
        "#pip install fluidsynth"
      ]
    },
    {
      "cell_type": "code",
      "execution_count": 4,
      "id": "KvmFHaFev0Tw",
      "metadata": {
        "colab": {
          "base_uri": "https://localhost:8080/"
        },
        "id": "KvmFHaFev0Tw",
        "outputId": "58e1cf6b-7dd9-4dab-aae3-2124da540891"
      },
      "outputs": [],
      "source": [
        "#pip install pretty_midi"
      ]
    },
    {
      "cell_type": "code",
      "execution_count": 1,
      "id": "22fa3202",
      "metadata": {
        "id": "22fa3202"
      },
      "outputs": [],
      "source": [
        "import collections\n",
        "import datetime\n",
        "import fluidsynth\n",
        "import glob\n",
        "import numpy as np\n",
        "import pathlib\n",
        "import pandas as pd\n",
        "import pretty_midi\n",
        "import seaborn as sns\n",
        "import tensorflow as tf\n",
        "import os\n",
        "\n",
        "from IPython import display\n",
        "from matplotlib import pyplot as plt\n",
        "from typing import Dict, List, Optional, Sequence, Tuple\n",
        "#from google.colab import files"
      ]
    },
    {
      "cell_type": "code",
      "execution_count": 2,
      "id": "efea000a",
      "metadata": {
        "colab": {
          "base_uri": "https://localhost:8080/"
        },
        "id": "efea000a",
        "outputId": "1c869c6e-8487-4ac7-b57a-0a157ed7c7ca"
      },
      "outputs": [
        {
          "name": "stdout",
          "output_type": "stream",
          "text": [
            "Number of files: 131\n"
          ]
        }
      ],
      "source": [
        "#data_folder = 'midi_chopin_format_0_dataset' #to input as a string\n",
        "#data_path = os.path.join('..','..','raw_data', data_folder)\n",
        "#data_path = pathlib.Path(data_path)\n",
        "data_path = pathlib.Path('../raw_data/midi_chopin_format_0_dataset/')\n",
        "filenames = glob.glob(str(data_path/\"*.mid\"))\n",
        "print('Number of files:', len(filenames))"
      ]
    },
    {
      "cell_type": "markdown",
      "id": "a06af01f",
      "metadata": {
        "id": "a06af01f"
      },
      "source": [
        "## Fetch dataset"
      ]
    },
    {
      "cell_type": "markdown",
      "id": "b8a53a57",
      "metadata": {
        "id": "b8a53a57"
      },
      "source": [
        "## Functions"
      ]
    },
    {
      "cell_type": "code",
      "execution_count": 3,
      "id": "1c9328b0",
      "metadata": {
        "id": "1c9328b0"
      },
      "outputs": [],
      "source": [
        "#def display_audio(pm: pretty_midi.PrettyMIDI, seconds=30):\n",
        "  #waveform = pm.fluidsynth(fs=_SAMPLING_RATE)\n",
        "  # Take a sample of the generated waveform to mitigate kernel resets\n",
        "  #waveform_short = waveform[:seconds*_SAMPLING_RATE]\n",
        "  #return display.Audio(waveform_short, rate=_SAMPLING_RATE)"
      ]
    },
    {
      "cell_type": "code",
      "execution_count": 4,
      "id": "5a1647b4",
      "metadata": {
        "id": "5a1647b4"
      },
      "outputs": [],
      "source": [
        "def midi_to_notes(midi_file: str) -> pd.DataFrame:\n",
        "  pm = pretty_midi.PrettyMIDI(midi_file)\n",
        "  instrument = pm.instruments[0]\n",
        "  notes = collections.defaultdict(list)\n",
        "\n",
        "  # Sort the notes by start time\n",
        "  sorted_notes = sorted(instrument.notes, key=lambda note: note.start)\n",
        "  prev_start = sorted_notes[0].start\n",
        "\n",
        "  for note in sorted_notes:\n",
        "    start = note.start\n",
        "    end = note.end\n",
        "    notes['pitch'].append(note.pitch)\n",
        "    notes['start'].append(start)\n",
        "    notes['end'].append(end)\n",
        "    notes['step'].append(start - prev_start)\n",
        "    notes['duration'].append(end - start)\n",
        "    prev_start = start\n",
        "\n",
        "  return pd.DataFrame({name: np.array(value) for name, value in notes.items()})"
      ]
    },
    {
      "cell_type": "code",
      "execution_count": 5,
      "id": "09ce1d85",
      "metadata": {
        "id": "09ce1d85"
      },
      "outputs": [],
      "source": [
        "def plot_piano_roll(notes: pd.DataFrame, count: Optional[int] = None):\n",
        "  if count:\n",
        "    title = f'First {count} notes'\n",
        "  else:\n",
        "    title = f'Whole track'\n",
        "    count = len(notes['pitch'])\n",
        "  plt.figure(figsize=(20, 4))\n",
        "  plot_pitch = np.stack([notes['pitch'], notes['pitch']], axis=0)\n",
        "  plot_start_stop = np.stack([notes['start'], notes['end']], axis=0)\n",
        "  plt.plot(\n",
        "      plot_start_stop[:, :count], plot_pitch[:, :count], color=\"b\", marker=\".\")\n",
        "  plt.xlabel('Time [s]')\n",
        "  plt.ylabel('Pitch')\n",
        "  _ = plt.title(title)"
      ]
    },
    {
      "cell_type": "code",
      "execution_count": 6,
      "id": "8a597697",
      "metadata": {
        "id": "8a597697"
      },
      "outputs": [],
      "source": [
        "def plot_distributions(notes: pd.DataFrame, drop_percentile=2.5):\n",
        "  plt.figure(figsize=[15, 5])\n",
        "  plt.subplot(1, 3, 1)\n",
        "  sns.histplot(notes, x=\"pitch\", bins=20)\n",
        "\n",
        "  plt.subplot(1, 3, 2)\n",
        "  max_step = np.percentile(notes['step'], 100 - drop_percentile)\n",
        "  sns.histplot(notes, x=\"step\", bins=np.linspace(0, max_step, 21))\n",
        "\n",
        "  plt.subplot(1, 3, 3)\n",
        "  max_duration = np.percentile(notes['duration'], 100 - drop_percentile)\n",
        "  sns.histplot(notes, x=\"duration\", bins=np.linspace(0, max_duration, 21))"
      ]
    },
    {
      "cell_type": "code",
      "execution_count": 7,
      "id": "a96f5a05",
      "metadata": {
        "id": "a96f5a05"
      },
      "outputs": [],
      "source": [
        "def notes_to_midi(\n",
        "  notes: pd.DataFrame,\n",
        "  out_file: str, \n",
        "  instrument_name: str,\n",
        "  velocity: int = 100,  # note loudness\n",
        ") -> pretty_midi.PrettyMIDI:\n",
        "\n",
        "  pm = pretty_midi.PrettyMIDI()\n",
        "  instrument = pretty_midi.Instrument(\n",
        "      program=pretty_midi.instrument_name_to_program(\n",
        "          instrument_name))\n",
        "\n",
        "  prev_start = 0\n",
        "  for i, note in notes.iterrows():\n",
        "    start = float(prev_start + note['step'])\n",
        "    end = float(start + note['duration'])\n",
        "    note = pretty_midi.Note(\n",
        "        velocity=velocity,\n",
        "        pitch=int(note['pitch']),\n",
        "        start=start,\n",
        "        end=end,\n",
        "    )\n",
        "    instrument.notes.append(note)\n",
        "    prev_start = start\n",
        "\n",
        "  pm.instruments.append(instrument)\n",
        "  pm.write(out_file)\n",
        "  return pm"
      ]
    },
    {
      "cell_type": "code",
      "execution_count": 8,
      "id": "d1829675",
      "metadata": {
        "id": "d1829675"
      },
      "outputs": [],
      "source": [
        "# TODO : Add padding on each piano records \n",
        "# TODO : Discuss/Ask about scaling for duration, steps \n",
        "\n",
        "def create_sequences(\n",
        "    dataset: tf.data.Dataset, \n",
        "    seq_length: int,\n",
        "    vocab_size = 128,\n",
        ") -> tf.data.Dataset:\n",
        "  \"\"\"Returns TF Dataset of sequence and label examples.\"\"\"\n",
        "  seq_length = seq_length+1\n",
        "\n",
        "  # Take 1 extra for the labels = targets = predicted notes\n",
        "  # shift : spacing between two windows\n",
        "  # stride : inside a given window, spacing between two notes ==> we don't want to skip notes so we take stride = 1*\n",
        "  # drop_remainder : representing whether the last windows should be dropped if their size is smaller than size\n",
        "    \n",
        "  windows = dataset.window(seq_length, shift=1, stride=1,\n",
        "                              drop_remainder=True)\n",
        "\n",
        "  # `flat_map` flattens the\" dataset of datasets\" into a dataset of tensors\n",
        "  flatten = lambda x: x.batch(seq_length, drop_remainder=True)\n",
        "  sequences = windows.flat_map(flatten)\n",
        "\n",
        "  # Normalize note pitch\n",
        "  def scale_pitch(x):\n",
        "    x = x/[vocab_size,1.0,1.0]\n",
        "    return x\n",
        "\n",
        "  # Split the labels\n",
        "  def split_labels(sequences):\n",
        "    inputs = sequences[:-1]\n",
        "    labels_dense = sequences[-1]\n",
        "    labels = {key:labels_dense[i] for i,key in enumerate(key_order)}\n",
        "\n",
        "    return scale_pitch(inputs), labels\n",
        "\n",
        "  return sequences.map(split_labels, num_parallel_calls=tf.data.AUTOTUNE)"
      ]
    },
    {
      "cell_type": "code",
      "execution_count": 9,
      "id": "674844f7",
      "metadata": {
        "id": "674844f7"
      },
      "outputs": [],
      "source": [
        "def mse_with_positive_pressure(y_true: tf.Tensor, y_pred: tf.Tensor):\n",
        "  mse = (y_true - y_pred) ** 2\n",
        "  positive_pressure = 10 * tf.maximum(-y_pred, 0.0)\n",
        "  return tf.reduce_mean(mse + positive_pressure)"
      ]
    },
    {
      "cell_type": "code",
      "execution_count": 10,
      "id": "327d511c",
      "metadata": {
        "id": "327d511c"
      },
      "outputs": [],
      "source": [
        "def predict_next_note(\n",
        "    notes: np.ndarray, \n",
        "    keras_model: tf.keras.Model, \n",
        "    temperature: float = 1.0) -> int:\n",
        "  \"\"\"Generates a note IDs using a trained sequence model.\"\"\"\n",
        "\n",
        "  assert temperature > 0\n",
        "\n",
        "  # Add batch dimension\n",
        "  inputs = tf.expand_dims(notes, 0)\n",
        "\n",
        "  predictions = model.predict(inputs)\n",
        "  pitch_logits = predictions['pitch']\n",
        "  step = predictions['step']\n",
        "  duration = predictions['duration']\n",
        "\n",
        "  pitch_logits /= temperature\n",
        "  pitch = tf.random.categorical(pitch_logits, num_samples=1)\n",
        "  pitch = tf.squeeze(pitch, axis=-1)\n",
        "  duration = tf.squeeze(duration, axis=-1)\n",
        "  step = tf.squeeze(step, axis=-1)\n",
        "\n",
        "  # `step` and `duration` values should be non-negative\n",
        "  step = tf.maximum(0, step)\n",
        "  duration = tf.maximum(0, duration)\n",
        "\n",
        "  return int(pitch), float(step), float(duration)"
      ]
    },
    {
      "cell_type": "markdown",
      "id": "b8a53a57",
      "metadata": {
        "id": "b8a53a57"
      },
      "source": [
        "## Parameters"
      ]
    },
    {
      "cell_type": "code",
      "execution_count": 145,
      "id": "801914b9",
      "metadata": {
        "id": "801914b9"
      },
      "outputs": [
        {
          "name": "stdout",
          "output_type": "stream",
          "text": [
            "Sample file: ../raw_data/midi_chopin_format_0_dataset/chpn-p4_format0.mid\n"
          ]
        }
      ],
      "source": [
        "# General parameters \n",
        "seed = 42\n",
        "tf.random.set_seed(seed)\n",
        "np.random.seed(seed)\n",
        "_SAMPLING_RATE = 16000 # Sampling rate for audio playback\n",
        "vocab_size = 128 # Represents the number of note pitches \n",
        "key_order = ['pitch', 'step', 'duration'] # Features we keep\n",
        "\n",
        "# Hyper-parameters \n",
        "seq_length = 25\n",
        "batch_size = 64\n",
        "pitch_weight= 0.05\n",
        "step_weight = 1.0\n",
        "duration_weight = 1.0\n",
        "patience = 10\n",
        "epochs = 100\n",
        "learning_rate = 0.001\n",
        "\n",
        "# Parameters used to generate the music notes\n",
        "temperature = 2\n",
        "file_number = 100 #Choose one file among the existing file to start the prediction \n",
        "sample_file = filenames[file_number]\n",
        "raw_notes = midi_to_notes(sample_file)\n",
        "#example_file = 'example.midi'\n",
        "#example_pm = notes_to_midi(\n",
        "#    raw_notes, out_file=example_file, instrument_name=instrument_name)\n",
        "pm = pretty_midi.PrettyMIDI(sample_file)\n",
        "instrument = pm.instruments[0]\n",
        "instrument_name = pretty_midi.program_to_instrument_name(instrument.program)\n",
        "print(f'Sample file: {sample_file}')"
      ]
    },
    {
      "cell_type": "markdown",
      "id": "1dfa87d0",
      "metadata": {
        "id": "1dfa87d0"
      },
      "source": [
        "## Create the training dataset"
      ]
    },
    {
      "cell_type": "code",
      "execution_count": 146,
      "id": "9ba012cc",
      "metadata": {
        "id": "9ba012cc"
      },
      "outputs": [],
      "source": [
        "def create_train_ds_per_file(filename) :\n",
        "\n",
        "    notes = midi_to_notes(filename)\n",
        "\n",
        "    #Fetching features and transform to tensorflow dataset \n",
        "    train_notes = np.stack([notes[key] for key in key_order], axis=1) #Keeps columns of key_order and transform to numpy.ndarray format\n",
        "    notes_ds = tf.data.Dataset.from_tensor_slices(train_notes)\n",
        "\n",
        "    seq_length_temp = seq_length+1\n",
        "    #Creating windows \n",
        "    windows = notes_ds.window(seq_length_temp, shift=1, stride=1,\n",
        "                                  drop_remainder=True)\n",
        "    # `flat_map` flattens the\" dataset of datasets\" into a dataset of tensors\n",
        "    flatten = lambda x: x.batch(seq_length_temp, drop_remainder=True)\n",
        "    sequences = windows.flat_map(flatten)\n",
        "\n",
        "    # Normalize note pitch\n",
        "    def scale_pitch(x):\n",
        "        x = x/[vocab_size,1.0,1.0]\n",
        "        return x\n",
        "\n",
        "    # Split the labels\n",
        "    def split_labels(sequences):\n",
        "        inputs = sequences[:-1]\n",
        "        labels_dense = sequences[-1]\n",
        "        labels = {key:labels_dense[i] for i,key in enumerate(key_order)}\n",
        "\n",
        "        return scale_pitch(inputs), labels\n",
        "\n",
        "    seq_ds = sequences.map(split_labels, num_parallel_calls=tf.data.AUTOTUNE)\n",
        "        \n",
        "    return seq_ds "
      ]
    },
    {
      "cell_type": "code",
      "execution_count": 147,
      "id": "839cbb10",
      "metadata": {
        "id": "839cbb10"
      },
      "outputs": [
        {
          "name": "stderr",
          "output_type": "stream",
          "text": [
            "/Users/aurelie_emma/.pyenv/versions/3.10.6/envs/lewagon/lib/python3.10/site-packages/pretty_midi/pretty_midi.py:97: RuntimeWarning: Tempo, Key or Time signature change events found on non-zero tracks.  This is not a valid type 0 or type 1 MIDI file.  Tempo, Key or Time Signature may be wrong.\n",
            "  warnings.warn(\n"
          ]
        }
      ],
      "source": [
        "#Concatenate all batches of sequences by instanciating on the first file\n",
        "seq_ds_all = create_train_ds_per_file(filenames[0])\n",
        "\n",
        "for filename in filenames[1:] :\n",
        "    seq_ds = create_train_ds_per_file(filename)\n",
        "    seq_ds_all = seq_ds_all.concatenate(seq_ds)\n",
        "\n"
      ]
    },
    {
      "cell_type": "code",
      "execution_count": 148,
      "id": "a50f6e39",
      "metadata": {
        "colab": {
          "base_uri": "https://localhost:8080/"
        },
        "id": "a50f6e39",
        "outputId": "6d3d75a9-a018-4f8a-eeb0-f86d8dbf6780"
      },
      "outputs": [
        {
          "data": {
            "text/plain": [
              "<PrefetchDataset element_spec=(TensorSpec(shape=(64, 25, 3), dtype=tf.float64, name=None), {'pitch': TensorSpec(shape=(64,), dtype=tf.float64, name=None), 'step': TensorSpec(shape=(64,), dtype=tf.float64, name=None), 'duration': TensorSpec(shape=(64,), dtype=tf.float64, name=None)})>"
            ]
          },
          "execution_count": 148,
          "metadata": {},
          "output_type": "execute_result"
        }
      ],
      "source": [
        "#Shuffling batches and optmizing the training dataset for CPU speed\n",
        "nb_elem_all = 247489 #HARDCODED - To discuss \n",
        "buffer_size = nb_elem_all - seq_length  # TO REDEFINE\n",
        "train_ds = (seq_ds\n",
        "            .shuffle(buffer_size)\n",
        "            .batch(batch_size, drop_remainder=True)\n",
        "            .cache()\n",
        "            .prefetch(tf.data.experimental.AUTOTUNE))\n",
        "train_ds"
      ]
    },
    {
      "cell_type": "markdown",
      "id": "ea892afb",
      "metadata": {
        "id": "ea892afb"
      },
      "source": [
        "## Baseline model"
      ]
    },
    {
      "cell_type": "code",
      "execution_count": 32,
      "id": "79d1b042",
      "metadata": {
        "id": "79d1b042"
      },
      "outputs": [],
      "source": [
        "def build_model() :\n",
        "    \n",
        "    ###################\n",
        "    ###**STRUCTURE**###\n",
        "    ###################\n",
        "    input_shape = (seq_length, 3)\n",
        "    inputs = tf.keras.Input(input_shape)\n",
        "    x = tf.keras.layers.LSTM(128)(inputs)\n",
        "\n",
        "    outputs = {\n",
        "      'pitch': tf.keras.layers.Dense(128, name='pitch')(x),\n",
        "      'step': tf.keras.layers.Dense(1, name='step')(x),\n",
        "      'duration': tf.keras.layers.Dense(1, name='duration')(x),\n",
        "    }\n",
        "\n",
        "    model = tf.keras.Model(inputs, outputs)\n",
        "\n",
        "    loss = {\n",
        "          'pitch': tf.keras.losses.SparseCategoricalCrossentropy(\n",
        "              from_logits=True),\n",
        "          'step': mse_with_positive_pressure,\n",
        "          'duration': mse_with_positive_pressure,\n",
        "    }\n",
        "    \n",
        "    ###################\n",
        "    ###**COMPILING**###\n",
        "    ###################\n",
        "    optimizer = tf.keras.optimizers.Adam(learning_rate=learning_rate)\n",
        "\n",
        "    model.compile(\n",
        "    loss=loss,\n",
        "    loss_weights={\n",
        "        'pitch': pitch_weight,\n",
        "        'step': step_weight,\n",
        "        'duration': duration_weight,\n",
        "    },\n",
        "    optimizer=optimizer,\n",
        "    )\n",
        "\n",
        "    return model \n",
        "\n",
        "model = build_model()"
      ]
    },
    {
      "cell_type": "code",
      "execution_count": 33,
      "id": "58d23263",
      "metadata": {
        "colab": {
          "base_uri": "https://localhost:8080/"
        },
        "id": "58d23263",
        "outputId": "443e173b-922f-4ac6-ad3f-c7bd78b0014e"
      },
      "outputs": [
        {
          "name": "stdout",
          "output_type": "stream",
          "text": [
            "Model: \"model\"\n",
            "__________________________________________________________________________________________________\n",
            " Layer (type)                   Output Shape         Param #     Connected to                     \n",
            "==================================================================================================\n",
            " input_1 (InputLayer)           [(None, 25, 3)]      0           []                               \n",
            "                                                                                                  \n",
            " lstm (LSTM)                    (None, 128)          67584       ['input_1[0][0]']                \n",
            "                                                                                                  \n",
            " duration (Dense)               (None, 1)            129         ['lstm[0][0]']                   \n",
            "                                                                                                  \n",
            " pitch (Dense)                  (None, 128)          16512       ['lstm[0][0]']                   \n",
            "                                                                                                  \n",
            " step (Dense)                   (None, 1)            129         ['lstm[0][0]']                   \n",
            "                                                                                                  \n",
            "==================================================================================================\n",
            "Total params: 84,354\n",
            "Trainable params: 84,354\n",
            "Non-trainable params: 0\n",
            "__________________________________________________________________________________________________\n"
          ]
        }
      ],
      "source": [
        "model.summary()"
      ]
    },
    {
      "cell_type": "code",
      "execution_count": 34,
      "id": "df498f69",
      "metadata": {
        "id": "df498f69"
      },
      "outputs": [],
      "source": [
        "callbacks = [\n",
        "    tf.keras.callbacks.ModelCheckpoint(\n",
        "        filepath='./training_checkpoints/ckpt_{epoch}',\n",
        "        save_weights_only=True),\n",
        "    tf.keras.callbacks.EarlyStopping(\n",
        "        monitor='loss',\n",
        "        patience=patience,\n",
        "        verbose=1,\n",
        "        restore_best_weights=True),\n",
        "]"
      ]
    },
    {
      "cell_type": "code",
      "execution_count": 35,
      "id": "45221967",
      "metadata": {
        "colab": {
          "base_uri": "https://localhost:8080/"
        },
        "id": "45221967",
        "outputId": "22712dfa-8f59-4188-d152-6ef170abb0a3",
        "scrolled": true
      },
      "outputs": [
        {
          "name": "stdout",
          "output_type": "stream",
          "text": [
            "Epoch 1/100\n"
          ]
        },
        {
          "name": "stderr",
          "output_type": "stream",
          "text": [
            "2022-12-07 17:44:39.616006: W tensorflow/core/platform/profile_utils/cpu_utils.cc:128] Failed to get CPU frequency: 0 Hz\n",
            "2022-12-07 17:44:39.619766: I tensorflow/core/grappler/optimizers/custom_graph_optimizer_registry.cc:114] Plugin optimizer for device_type GPU is enabled.\n",
            "2022-12-07 17:44:39.854039: I tensorflow/core/grappler/optimizers/custom_graph_optimizer_registry.cc:114] Plugin optimizer for device_type GPU is enabled.\n",
            "2022-12-07 17:44:43.048899: I tensorflow/core/grappler/optimizers/custom_graph_optimizer_registry.cc:114] Plugin optimizer for device_type GPU is enabled.\n"
          ]
        },
        {
          "name": "stdout",
          "output_type": "stream",
          "text": [
            "49/49 [==============================] - 6s 23ms/step - loss: 0.3626 - duration_loss: 0.0493 - pitch_loss: 4.7367 - step_loss: 0.0765\n",
            "Epoch 2/100\n",
            "49/49 [==============================] - 1s 18ms/step - loss: 0.2900 - duration_loss: 0.0393 - pitch_loss: 4.4718 - step_loss: 0.0272\n",
            "Epoch 3/100\n",
            "49/49 [==============================] - 1s 18ms/step - loss: 0.2463 - duration_loss: 0.0380 - pitch_loss: 3.6022 - step_loss: 0.0283\n",
            "Epoch 4/100\n",
            "49/49 [==============================] - 1s 18ms/step - loss: 0.2317 - duration_loss: 0.0345 - pitch_loss: 3.3795 - step_loss: 0.0282\n",
            "Epoch 5/100\n",
            "49/49 [==============================] - 1s 18ms/step - loss: 0.2291 - duration_loss: 0.0343 - pitch_loss: 3.3678 - step_loss: 0.0264\n",
            "Epoch 6/100\n",
            "49/49 [==============================] - 1s 18ms/step - loss: 0.2278 - duration_loss: 0.0316 - pitch_loss: 3.3639 - step_loss: 0.0281\n",
            "Epoch 7/100\n",
            "49/49 [==============================] - 1s 18ms/step - loss: 0.2243 - duration_loss: 0.0314 - pitch_loss: 3.3482 - step_loss: 0.0256\n",
            "Epoch 8/100\n",
            "49/49 [==============================] - 1s 19ms/step - loss: 0.2328 - duration_loss: 0.0305 - pitch_loss: 3.4095 - step_loss: 0.0318\n",
            "Epoch 9/100\n",
            "49/49 [==============================] - 1s 19ms/step - loss: 0.2235 - duration_loss: 0.0296 - pitch_loss: 3.3580 - step_loss: 0.0259\n",
            "Epoch 10/100\n",
            "49/49 [==============================] - 1s 18ms/step - loss: 0.2220 - duration_loss: 0.0304 - pitch_loss: 3.3391 - step_loss: 0.0246\n",
            "Epoch 11/100\n",
            "49/49 [==============================] - 1s 18ms/step - loss: 0.2207 - duration_loss: 0.0298 - pitch_loss: 3.3364 - step_loss: 0.0241\n",
            "Epoch 12/100\n",
            "49/49 [==============================] - 1s 20ms/step - loss: 0.2195 - duration_loss: 0.0290 - pitch_loss: 3.3343 - step_loss: 0.0238\n",
            "Epoch 13/100\n",
            "49/49 [==============================] - 1s 19ms/step - loss: 0.2197 - duration_loss: 0.0294 - pitch_loss: 3.3339 - step_loss: 0.0236\n",
            "Epoch 14/100\n",
            "49/49 [==============================] - 1s 20ms/step - loss: 0.2188 - duration_loss: 0.0286 - pitch_loss: 3.3314 - step_loss: 0.0237\n",
            "Epoch 15/100\n",
            "49/49 [==============================] - 1s 19ms/step - loss: 0.2181 - duration_loss: 0.0289 - pitch_loss: 3.3273 - step_loss: 0.0228\n",
            "Epoch 16/100\n",
            "49/49 [==============================] - 1s 19ms/step - loss: 0.2172 - duration_loss: 0.0281 - pitch_loss: 3.3224 - step_loss: 0.0230\n",
            "Epoch 17/100\n",
            "49/49 [==============================] - 1s 18ms/step - loss: 0.2189 - duration_loss: 0.0278 - pitch_loss: 3.3312 - step_loss: 0.0246\n",
            "Epoch 18/100\n",
            "49/49 [==============================] - 1s 18ms/step - loss: 0.2164 - duration_loss: 0.0282 - pitch_loss: 3.3058 - step_loss: 0.0230\n",
            "Epoch 19/100\n",
            "49/49 [==============================] - 1s 17ms/step - loss: 0.2157 - duration_loss: 0.0282 - pitch_loss: 3.2857 - step_loss: 0.0232\n",
            "Epoch 20/100\n",
            "49/49 [==============================] - 1s 19ms/step - loss: 0.2179 - duration_loss: 0.0283 - pitch_loss: 3.3107 - step_loss: 0.0240\n",
            "Epoch 21/100\n",
            "49/49 [==============================] - 1s 18ms/step - loss: 0.2154 - duration_loss: 0.0279 - pitch_loss: 3.2813 - step_loss: 0.0235\n",
            "Epoch 22/100\n",
            "49/49 [==============================] - 1s 17ms/step - loss: 0.2130 - duration_loss: 0.0280 - pitch_loss: 3.2533 - step_loss: 0.0223\n",
            "Epoch 23/100\n",
            "49/49 [==============================] - 1s 17ms/step - loss: 0.2130 - duration_loss: 0.0276 - pitch_loss: 3.2572 - step_loss: 0.0226\n",
            "Epoch 24/100\n",
            "49/49 [==============================] - 1s 17ms/step - loss: 0.2118 - duration_loss: 0.0276 - pitch_loss: 3.2385 - step_loss: 0.0224\n",
            "Epoch 25/100\n",
            "49/49 [==============================] - 1s 17ms/step - loss: 0.2157 - duration_loss: 0.0273 - pitch_loss: 3.2647 - step_loss: 0.0252\n",
            "Epoch 26/100\n",
            "49/49 [==============================] - 1s 18ms/step - loss: 0.2122 - duration_loss: 0.0278 - pitch_loss: 3.2536 - step_loss: 0.0217\n",
            "Epoch 27/100\n",
            "49/49 [==============================] - 1s 17ms/step - loss: 0.2107 - duration_loss: 0.0275 - pitch_loss: 3.2264 - step_loss: 0.0219\n",
            "Epoch 28/100\n",
            "49/49 [==============================] - 1s 17ms/step - loss: 0.2099 - duration_loss: 0.0273 - pitch_loss: 3.2235 - step_loss: 0.0214\n",
            "Epoch 29/100\n",
            "49/49 [==============================] - 1s 17ms/step - loss: 0.2098 - duration_loss: 0.0272 - pitch_loss: 3.2237 - step_loss: 0.0214\n",
            "Epoch 30/100\n",
            "49/49 [==============================] - 1s 17ms/step - loss: 0.2102 - duration_loss: 0.0271 - pitch_loss: 3.2280 - step_loss: 0.0217\n",
            "Epoch 31/100\n",
            "49/49 [==============================] - 1s 19ms/step - loss: 0.2104 - duration_loss: 0.0267 - pitch_loss: 3.2210 - step_loss: 0.0226\n",
            "Epoch 32/100\n",
            "49/49 [==============================] - 1s 24ms/step - loss: 0.2093 - duration_loss: 0.0271 - pitch_loss: 3.2140 - step_loss: 0.0215\n",
            "Epoch 33/100\n",
            "49/49 [==============================] - 1s 19ms/step - loss: 0.2087 - duration_loss: 0.0266 - pitch_loss: 3.2080 - step_loss: 0.0217\n",
            "Epoch 34/100\n",
            "49/49 [==============================] - 1s 19ms/step - loss: 0.2087 - duration_loss: 0.0267 - pitch_loss: 3.1981 - step_loss: 0.0221\n",
            "Epoch 35/100\n",
            "49/49 [==============================] - 1s 18ms/step - loss: 0.2097 - duration_loss: 0.0266 - pitch_loss: 3.2046 - step_loss: 0.0228\n",
            "Epoch 36/100\n",
            "49/49 [==============================] - 1s 19ms/step - loss: 0.2081 - duration_loss: 0.0266 - pitch_loss: 3.2030 - step_loss: 0.0213\n",
            "Epoch 37/100\n",
            "49/49 [==============================] - 1s 20ms/step - loss: 0.2108 - duration_loss: 0.0262 - pitch_loss: 3.2090 - step_loss: 0.0241\n",
            "Epoch 38/100\n",
            "49/49 [==============================] - 1s 17ms/step - loss: 0.2082 - duration_loss: 0.0265 - pitch_loss: 3.1924 - step_loss: 0.0220\n",
            "Epoch 39/100\n",
            "49/49 [==============================] - 1s 17ms/step - loss: 0.2067 - duration_loss: 0.0263 - pitch_loss: 3.1796 - step_loss: 0.0214\n",
            "Epoch 40/100\n",
            "49/49 [==============================] - 1s 18ms/step - loss: 0.2066 - duration_loss: 0.0262 - pitch_loss: 3.1768 - step_loss: 0.0215\n",
            "Epoch 41/100\n",
            "49/49 [==============================] - 1s 17ms/step - loss: 0.2072 - duration_loss: 0.0261 - pitch_loss: 3.1719 - step_loss: 0.0225\n",
            "Epoch 42/100\n",
            "49/49 [==============================] - 1s 18ms/step - loss: 0.2058 - duration_loss: 0.0261 - pitch_loss: 3.1702 - step_loss: 0.0213\n",
            "Epoch 43/100\n",
            "49/49 [==============================] - 1s 18ms/step - loss: 0.2067 - duration_loss: 0.0259 - pitch_loss: 3.1752 - step_loss: 0.0220\n",
            "Epoch 44/100\n",
            "49/49 [==============================] - 1s 18ms/step - loss: 0.2047 - duration_loss: 0.0261 - pitch_loss: 3.1557 - step_loss: 0.0208\n",
            "Epoch 45/100\n",
            "49/49 [==============================] - 1s 17ms/step - loss: 0.2056 - duration_loss: 0.0260 - pitch_loss: 3.1529 - step_loss: 0.0219\n",
            "Epoch 46/100\n",
            "49/49 [==============================] - 1s 17ms/step - loss: 0.2065 - duration_loss: 0.0261 - pitch_loss: 3.1556 - step_loss: 0.0227\n",
            "Epoch 47/100\n",
            "49/49 [==============================] - 1s 17ms/step - loss: 0.2048 - duration_loss: 0.0261 - pitch_loss: 3.1471 - step_loss: 0.0213\n",
            "Epoch 48/100\n",
            "49/49 [==============================] - 1s 17ms/step - loss: 0.2035 - duration_loss: 0.0256 - pitch_loss: 3.1386 - step_loss: 0.0209\n",
            "Epoch 49/100\n",
            "49/49 [==============================] - 1s 17ms/step - loss: 0.2028 - duration_loss: 0.0255 - pitch_loss: 3.1274 - step_loss: 0.0209\n",
            "Epoch 50/100\n",
            "49/49 [==============================] - 1s 17ms/step - loss: 0.2039 - duration_loss: 0.0254 - pitch_loss: 3.1436 - step_loss: 0.0213\n",
            "Epoch 51/100\n",
            "49/49 [==============================] - 1s 17ms/step - loss: 0.2034 - duration_loss: 0.0252 - pitch_loss: 3.1189 - step_loss: 0.0223\n",
            "Epoch 52/100\n",
            "49/49 [==============================] - 1s 17ms/step - loss: 0.2026 - duration_loss: 0.0253 - pitch_loss: 3.1177 - step_loss: 0.0214\n",
            "Epoch 53/100\n",
            "49/49 [==============================] - 1s 17ms/step - loss: 0.2031 - duration_loss: 0.0257 - pitch_loss: 3.1196 - step_loss: 0.0214\n",
            "Epoch 54/100\n",
            "49/49 [==============================] - 1s 17ms/step - loss: 0.2018 - duration_loss: 0.0254 - pitch_loss: 3.1097 - step_loss: 0.0209\n",
            "Epoch 55/100\n",
            "49/49 [==============================] - 1s 17ms/step - loss: 0.2013 - duration_loss: 0.0250 - pitch_loss: 3.0953 - step_loss: 0.0214\n",
            "Epoch 56/100\n",
            "49/49 [==============================] - 1s 17ms/step - loss: 0.2002 - duration_loss: 0.0251 - pitch_loss: 3.0870 - step_loss: 0.0208\n",
            "Epoch 57/100\n",
            "49/49 [==============================] - 1s 17ms/step - loss: 0.1994 - duration_loss: 0.0249 - pitch_loss: 3.0724 - step_loss: 0.0209\n",
            "Epoch 58/100\n",
            "49/49 [==============================] - 1s 18ms/step - loss: 0.1984 - duration_loss: 0.0246 - pitch_loss: 3.0571 - step_loss: 0.0209\n",
            "Epoch 59/100\n",
            "49/49 [==============================] - 1s 17ms/step - loss: 0.1991 - duration_loss: 0.0250 - pitch_loss: 3.0575 - step_loss: 0.0212\n",
            "Epoch 60/100\n",
            "49/49 [==============================] - 1s 17ms/step - loss: 0.1985 - duration_loss: 0.0244 - pitch_loss: 3.0620 - step_loss: 0.0211\n",
            "Epoch 61/100\n",
            "49/49 [==============================] - 1s 19ms/step - loss: 0.1980 - duration_loss: 0.0245 - pitch_loss: 3.0515 - step_loss: 0.0209\n",
            "Epoch 62/100\n",
            "49/49 [==============================] - 1s 19ms/step - loss: 0.1979 - duration_loss: 0.0244 - pitch_loss: 3.0447 - step_loss: 0.0212\n",
            "Epoch 63/100\n",
            "49/49 [==============================] - 1s 17ms/step - loss: 0.1969 - duration_loss: 0.0244 - pitch_loss: 3.0296 - step_loss: 0.0210\n",
            "Epoch 64/100\n",
            "49/49 [==============================] - 1s 19ms/step - loss: 0.1967 - duration_loss: 0.0245 - pitch_loss: 3.0235 - step_loss: 0.0210\n",
            "Epoch 65/100\n",
            "49/49 [==============================] - 1s 18ms/step - loss: 0.1935 - duration_loss: 0.0237 - pitch_loss: 2.9918 - step_loss: 0.0203\n",
            "Epoch 66/100\n",
            "49/49 [==============================] - 1s 19ms/step - loss: 0.1936 - duration_loss: 0.0240 - pitch_loss: 2.9864 - step_loss: 0.0203\n",
            "Epoch 67/100\n",
            "49/49 [==============================] - 1s 19ms/step - loss: 0.1921 - duration_loss: 0.0234 - pitch_loss: 2.9658 - step_loss: 0.0204\n",
            "Epoch 68/100\n",
            "49/49 [==============================] - 1s 18ms/step - loss: 0.1936 - duration_loss: 0.0241 - pitch_loss: 2.9838 - step_loss: 0.0203\n",
            "Epoch 69/100\n",
            "49/49 [==============================] - 1s 18ms/step - loss: 0.1922 - duration_loss: 0.0235 - pitch_loss: 2.9654 - step_loss: 0.0204\n",
            "Epoch 70/100\n",
            "49/49 [==============================] - 1s 18ms/step - loss: 0.1891 - duration_loss: 0.0232 - pitch_loss: 2.9362 - step_loss: 0.0191\n",
            "Epoch 71/100\n",
            "49/49 [==============================] - 1s 18ms/step - loss: 0.1877 - duration_loss: 0.0228 - pitch_loss: 2.9061 - step_loss: 0.0196\n",
            "Epoch 72/100\n",
            "49/49 [==============================] - 1s 18ms/step - loss: 0.1867 - duration_loss: 0.0226 - pitch_loss: 2.8990 - step_loss: 0.0192\n",
            "Epoch 73/100\n",
            "49/49 [==============================] - 1s 18ms/step - loss: 0.1868 - duration_loss: 0.0228 - pitch_loss: 2.8889 - step_loss: 0.0196\n",
            "Epoch 74/100\n",
            "49/49 [==============================] - 1s 18ms/step - loss: 0.1853 - duration_loss: 0.0222 - pitch_loss: 2.8744 - step_loss: 0.0194\n",
            "Epoch 75/100\n",
            "49/49 [==============================] - 1s 18ms/step - loss: 0.1842 - duration_loss: 0.0222 - pitch_loss: 2.8596 - step_loss: 0.0191\n",
            "Epoch 76/100\n",
            "49/49 [==============================] - 1s 18ms/step - loss: 0.1865 - duration_loss: 0.0223 - pitch_loss: 2.8942 - step_loss: 0.0195\n",
            "Epoch 77/100\n",
            "49/49 [==============================] - 1s 22ms/step - loss: 0.1859 - duration_loss: 0.0226 - pitch_loss: 2.8721 - step_loss: 0.0197\n",
            "Epoch 78/100\n",
            "49/49 [==============================] - 1s 21ms/step - loss: 0.1858 - duration_loss: 0.0224 - pitch_loss: 2.8898 - step_loss: 0.0189\n",
            "Epoch 79/100\n",
            "49/49 [==============================] - 1s 22ms/step - loss: 0.1822 - duration_loss: 0.0218 - pitch_loss: 2.8300 - step_loss: 0.0189\n",
            "Epoch 80/100\n",
            "49/49 [==============================] - 1s 18ms/step - loss: 0.1805 - duration_loss: 0.0214 - pitch_loss: 2.8119 - step_loss: 0.0186\n",
            "Epoch 81/100\n",
            "49/49 [==============================] - 1s 18ms/step - loss: 0.1816 - duration_loss: 0.0208 - pitch_loss: 2.8299 - step_loss: 0.0193\n",
            "Epoch 82/100\n",
            "49/49 [==============================] - 1s 18ms/step - loss: 0.1817 - duration_loss: 0.0222 - pitch_loss: 2.8190 - step_loss: 0.0185\n",
            "Epoch 83/100\n",
            "49/49 [==============================] - 1s 18ms/step - loss: 0.1777 - duration_loss: 0.0208 - pitch_loss: 2.7979 - step_loss: 0.0170\n",
            "Epoch 84/100\n",
            "49/49 [==============================] - 1s 19ms/step - loss: 0.1788 - duration_loss: 0.0208 - pitch_loss: 2.8015 - step_loss: 0.0180\n",
            "Epoch 85/100\n",
            "49/49 [==============================] - 1s 19ms/step - loss: 0.1761 - duration_loss: 0.0207 - pitch_loss: 2.7589 - step_loss: 0.0175\n",
            "Epoch 86/100\n",
            "49/49 [==============================] - 1s 18ms/step - loss: 0.1794 - duration_loss: 0.0225 - pitch_loss: 2.7792 - step_loss: 0.0179\n",
            "Epoch 87/100\n",
            "49/49 [==============================] - 1s 18ms/step - loss: 0.1765 - duration_loss: 0.0209 - pitch_loss: 2.7681 - step_loss: 0.0172\n",
            "Epoch 88/100\n",
            "49/49 [==============================] - 1s 18ms/step - loss: 0.1761 - duration_loss: 0.0207 - pitch_loss: 2.7423 - step_loss: 0.0183\n",
            "Epoch 89/100\n",
            "49/49 [==============================] - 1s 18ms/step - loss: 0.1736 - duration_loss: 0.0202 - pitch_loss: 2.7299 - step_loss: 0.0169\n",
            "Epoch 90/100\n",
            "49/49 [==============================] - 1s 18ms/step - loss: 0.1728 - duration_loss: 0.0196 - pitch_loss: 2.7125 - step_loss: 0.0176\n",
            "Epoch 91/100\n",
            "49/49 [==============================] - 1s 18ms/step - loss: 0.1722 - duration_loss: 0.0197 - pitch_loss: 2.6941 - step_loss: 0.0178\n",
            "Epoch 92/100\n",
            "49/49 [==============================] - 1s 18ms/step - loss: 0.1740 - duration_loss: 0.0203 - pitch_loss: 2.7005 - step_loss: 0.0187\n",
            "Epoch 93/100\n",
            "49/49 [==============================] - 1s 18ms/step - loss: 0.1705 - duration_loss: 0.0202 - pitch_loss: 2.6593 - step_loss: 0.0173\n",
            "Epoch 94/100\n",
            "49/49 [==============================] - 1s 18ms/step - loss: 0.1712 - duration_loss: 0.0199 - pitch_loss: 2.6784 - step_loss: 0.0174\n",
            "Epoch 95/100\n",
            "49/49 [==============================] - 1s 18ms/step - loss: 0.1735 - duration_loss: 0.0203 - pitch_loss: 2.6756 - step_loss: 0.0194\n",
            "Epoch 96/100\n",
            "49/49 [==============================] - 1s 18ms/step - loss: 0.1699 - duration_loss: 0.0192 - pitch_loss: 2.6528 - step_loss: 0.0180\n",
            "Epoch 97/100\n",
            "49/49 [==============================] - 1s 18ms/step - loss: 0.1663 - duration_loss: 0.0189 - pitch_loss: 2.6251 - step_loss: 0.0162\n",
            "Epoch 98/100\n",
            "49/49 [==============================] - 1s 18ms/step - loss: 0.1651 - duration_loss: 0.0184 - pitch_loss: 2.6102 - step_loss: 0.0162\n",
            "Epoch 99/100\n",
            "49/49 [==============================] - 1s 18ms/step - loss: 0.1648 - duration_loss: 0.0186 - pitch_loss: 2.5897 - step_loss: 0.0167\n",
            "Epoch 100/100\n",
            "49/49 [==============================] - 1s 18ms/step - loss: 0.1699 - duration_loss: 0.0202 - pitch_loss: 2.6343 - step_loss: 0.0180\n",
            "CPU times: user 1min 22s, sys: 32.2 s, total: 1min 54s\n",
            "Wall time: 1min 34s\n"
          ]
        }
      ],
      "source": [
        "%%time\n",
        "history = model.fit(\n",
        "    train_ds,\n",
        "    epochs=epochs,\n",
        "    callbacks=callbacks,\n",
        ")"
      ]
    },
    {
      "cell_type": "code",
      "execution_count": 36,
      "id": "e99b14d0",
      "metadata": {
        "colab": {
          "base_uri": "https://localhost:8080/",
          "height": 265
        },
        "id": "e99b14d0",
        "outputId": "63b90a53-ad61-4837-a16b-98583f2de325"
      },
      "outputs": [
        {
          "data": {
            "image/png": "[encoded data removed]",
            "text/plain": [
              "<Figure size 640x480 with 1 Axes>"
            ]
          },
          "metadata": {},
          "output_type": "display_data"
        }
      ],
      "source": [
        "plt.plot(history.epoch, history.history['loss'], label='total loss')\n",
        "plt.show()"
      ]
    },
    {
      "cell_type": "markdown",
      "id": "ea892afb",
      "metadata": {
        "id": "ea892afb"
      },
      "source": [
        "## Test model"
      ]
    },
    {
      "cell_type": "code",
      "execution_count": 149,
      "id": "3897fb7c",
      "metadata": {},
      "outputs": [],
      "source": [
        "from keras.preprocessing import sequence\n",
        "from keras.models import Sequential\n",
        "from keras.layers import Dense, Dropout, Embedding, LSTM, Bidirectional\n",
        "from keras_self_attention import SeqSelfAttention\n",
        "from keras.datasets import imdb"
      ]
    },
    {
      "cell_type": "code",
      "execution_count": 150,
      "id": "79d1b042",
      "metadata": {
        "id": "79d1b042"
      },
      "outputs": [
        {
          "name": "stderr",
          "output_type": "stream",
          "text": [
            "/Users/aurelie_emma/.pyenv/versions/3.10.6/envs/lewagon/lib/python3.10/site-packages/keras/initializers/initializers_v2.py:120: UserWarning: The initializer GlorotNormal is unseeded and being called multiple times, which will return identical values  each time (even if the initializer is unseeded). Please update your code to provide a seed to the initializer, or avoid using the same initalizer instance more than once.\n",
            "  warnings.warn(\n"
          ]
        }
      ],
      "source": [
        "def build_model() :\n",
        "    \n",
        "    ###################\n",
        "    ###**STRUCTURE**###\n",
        "    ###################\n",
        "    \n",
        "    input_shape = (seq_length, 3)\n",
        "    inputs = tf.keras.Input(input_shape)\n",
        "    x1 = tf.keras.layers.Bidirectional(tf.keras.layers.LSTM(512, return_sequences=True))(inputs)\n",
        "    x2 = SeqSelfAttention(attention_activation='sigmoid')(x1)\n",
        "    x3 = tf.keras.layers.Dropout(0.3)(x2)\n",
        "    x4 = tf.keras.layers.Bidirectional(tf.keras.layers.LSTM(512, return_sequences=True))(x3)\n",
        "    x5 = SeqSelfAttention(attention_activation='sigmoid')(x4)\n",
        "    x6 = tf.keras.layers.Dropout(0.3)(x5)\n",
        "    x7 = tf.keras.layers.Bidirectional(tf.keras.layers.LSTM(512))(x6)\n",
        "    \n",
        "    outputs = {\n",
        "  'pitch': tf.keras.layers.Dense(128, name='pitch')(x7),\n",
        "  'step': tf.keras.layers.Dense(1, name='step')(x7),\n",
        "  'duration': tf.keras.layers.Dense(1, name='duration')(x7),\n",
        "}\n",
        "    model = tf.keras.Model(inputs, outputs)\n",
        "\n",
        "    loss = {\n",
        "          'pitch': tf.keras.losses.SparseCategoricalCrossentropy(\n",
        "          from_logits=True),\n",
        "          'step': mse_with_positive_pressure,\n",
        "          'duration': mse_with_positive_pressure,\n",
        "    }\n",
        "    \n",
        "    ###################\n",
        "    ###**COMPILING**###\n",
        "    ###################\n",
        "    #optimizer = tf.keras.optimizers.Adam(learning_rate=learning_rate)\n",
        "    optimizer = tf.keras.optimizers.RMSprop()\n",
        "\n",
        "    model.compile(\n",
        "    loss=loss,\n",
        "    loss_weights={\n",
        "        'pitch': pitch_weight,\n",
        "        'step': step_weight,\n",
        "        'duration': duration_weight,\n",
        "    },\n",
        "    optimizer=optimizer,\n",
        "    )\n",
        "\n",
        "    return model \n",
        "\n",
        "model = build_model()"
      ]
    },
    {
      "cell_type": "code",
      "execution_count": 151,
      "id": "58d23263",
      "metadata": {
        "colab": {
          "base_uri": "https://localhost:8080/"
        },
        "id": "58d23263",
        "outputId": "443e173b-922f-4ac6-ad3f-c7bd78b0014e"
      },
      "outputs": [
        {
          "name": "stdout",
          "output_type": "stream",
          "text": [
            "Model: \"model_9\"\n",
            "__________________________________________________________________________________________________\n",
            " Layer (type)                   Output Shape         Param #     Connected to                     \n",
            "==================================================================================================\n",
            " input_10 (InputLayer)          [(None, 25, 3)]      0           []                               \n",
            "                                                                                                  \n",
            " bidirectional_27 (Bidirectiona  (None, 25, 1024)    2113536     ['input_10[0][0]']               \n",
            " l)                                                                                               \n",
            "                                                                                                  \n",
            " seq_self_attention_18 (SeqSelf  (None, 25, 1024)    65601       ['bidirectional_27[0][0]']       \n",
            " Attention)                                                                                       \n",
            "                                                                                                  \n",
            " dropout_18 (Dropout)           (None, 25, 1024)     0           ['seq_self_attention_18[0][0]']  \n",
            "                                                                                                  \n",
            " bidirectional_28 (Bidirectiona  (None, 25, 1024)    6295552     ['dropout_18[0][0]']             \n",
            " l)                                                                                               \n",
            "                                                                                                  \n",
            " seq_self_attention_19 (SeqSelf  (None, 25, 1024)    65601       ['bidirectional_28[0][0]']       \n",
            " Attention)                                                                                       \n",
            "                                                                                                  \n",
            " dropout_19 (Dropout)           (None, 25, 1024)     0           ['seq_self_attention_19[0][0]']  \n",
            "                                                                                                  \n",
            " bidirectional_29 (Bidirectiona  (None, 1024)        6295552     ['dropout_19[0][0]']             \n",
            " l)                                                                                               \n",
            "                                                                                                  \n",
            " duration (Dense)               (None, 1)            1025        ['bidirectional_29[0][0]']       \n",
            "                                                                                                  \n",
            " pitch (Dense)                  (None, 128)          131200      ['bidirectional_29[0][0]']       \n",
            "                                                                                                  \n",
            " step (Dense)                   (None, 1)            1025        ['bidirectional_29[0][0]']       \n",
            "                                                                                                  \n",
            "==================================================================================================\n",
            "Total params: 14,969,092\n",
            "Trainable params: 14,969,092\n",
            "Non-trainable params: 0\n",
            "__________________________________________________________________________________________________\n"
          ]
        }
      ],
      "source": [
        "model.summary()"
      ]
    },
    {
      "cell_type": "code",
      "execution_count": 152,
      "id": "df498f69",
      "metadata": {
        "id": "df498f69"
      },
      "outputs": [],
      "source": [
        "callbacks = [\n",
        "    tf.keras.callbacks.ModelCheckpoint(\n",
        "        filepath='./training_checkpoints/ckpt_{epoch}',\n",
        "        save_weights_only=True),\n",
        "    tf.keras.callbacks.EarlyStopping(\n",
        "        monitor='loss',\n",
        "        patience=patience,\n",
        "        verbose=1,\n",
        "        restore_best_weights=True),\n",
        "]"
      ]
    },
    {
      "cell_type": "code",
      "execution_count": 153,
      "id": "45221967",
      "metadata": {
        "colab": {
          "base_uri": "https://localhost:8080/"
        },
        "id": "45221967",
        "outputId": "22712dfa-8f59-4188-d152-6ef170abb0a3",
        "scrolled": true
      },
      "outputs": [
        {
          "name": "stdout",
          "output_type": "stream",
          "text": [
            "Epoch 1/100\n"
          ]
        },
        {
          "name": "stderr",
          "output_type": "stream",
          "text": [
            "2022-12-08 00:44:01.097347: I tensorflow/core/grappler/optimizers/custom_graph_optimizer_registry.cc:114] Plugin optimizer for device_type GPU is enabled.\n",
            "2022-12-08 00:44:02.189960: I tensorflow/core/grappler/optimizers/custom_graph_optimizer_registry.cc:114] Plugin optimizer for device_type GPU is enabled.\n",
            "2022-12-08 00:44:02.190215: I tensorflow/core/grappler/optimizers/custom_graph_optimizer_registry.cc:114] Plugin optimizer for device_type GPU is enabled.\n",
            "2022-12-08 00:44:02.432228: I tensorflow/core/grappler/optimizers/custom_graph_optimizer_registry.cc:114] Plugin optimizer for device_type GPU is enabled.\n",
            "2022-12-08 00:44:02.472885: I tensorflow/core/grappler/optimizers/custom_graph_optimizer_registry.cc:114] Plugin optimizer for device_type GPU is enabled.\n",
            "2022-12-08 00:44:02.692805: I tensorflow/core/grappler/optimizers/custom_graph_optimizer_registry.cc:114] Plugin optimizer for device_type GPU is enabled.\n",
            "2022-12-08 00:44:02.714077: I tensorflow/core/grappler/optimizers/custom_graph_optimizer_registry.cc:114] Plugin optimizer for device_type GPU is enabled.\n",
            "2022-12-08 00:44:03.136944: I tensorflow/core/grappler/optimizers/custom_graph_optimizer_registry.cc:114] Plugin optimizer for device_type GPU is enabled.\n",
            "2022-12-08 00:44:03.166248: I tensorflow/core/grappler/optimizers/custom_graph_optimizer_registry.cc:114] Plugin optimizer for device_type GPU is enabled.\n",
            "2022-12-08 00:44:03.793243: I tensorflow/core/grappler/optimizers/custom_graph_optimizer_registry.cc:114] Plugin optimizer for device_type GPU is enabled.\n",
            "2022-12-08 00:44:03.844976: I tensorflow/core/grappler/optimizers/custom_graph_optimizer_registry.cc:114] Plugin optimizer for device_type GPU is enabled.\n",
            "2022-12-08 00:44:04.342972: I tensorflow/core/grappler/optimizers/custom_graph_optimizer_registry.cc:114] Plugin optimizer for device_type GPU is enabled.\n",
            "2022-12-08 00:44:04.387954: I tensorflow/core/grappler/optimizers/custom_graph_optimizer_registry.cc:114] Plugin optimizer for device_type GPU is enabled.\n"
          ]
        },
        {
          "name": "stdout",
          "output_type": "stream",
          "text": [
            "24/24 [==============================] - 13s 206ms/step - loss: 2.1924 - duration_loss: 0.0508 - pitch_loss: 4.5261 - step_loss: 1.9153\n",
            "Epoch 2/100\n",
            "24/24 [==============================] - 4s 148ms/step - loss: 0.7786 - duration_loss: 0.3513 - pitch_loss: 4.1020 - step_loss: 0.2222\n",
            "Epoch 3/100\n",
            "24/24 [==============================] - 3s 143ms/step - loss: 0.2769 - duration_loss: 0.0406 - pitch_loss: 4.1415 - step_loss: 0.0292\n",
            "Epoch 4/100\n",
            "24/24 [==============================] - 3s 143ms/step - loss: 0.4251 - duration_loss: 0.0448 - pitch_loss: 4.0671 - step_loss: 0.1769\n",
            "Epoch 5/100\n",
            "24/24 [==============================] - 3s 143ms/step - loss: 0.3436 - duration_loss: 0.0714 - pitch_loss: 4.2763 - step_loss: 0.0585\n",
            "Epoch 6/100\n",
            "24/24 [==============================] - 3s 139ms/step - loss: 0.3863 - duration_loss: 0.0468 - pitch_loss: 3.9410 - step_loss: 0.1424\n",
            "Epoch 7/100\n",
            "24/24 [==============================] - 3s 141ms/step - loss: 0.2574 - duration_loss: 0.0418 - pitch_loss: 3.6530 - step_loss: 0.0329\n",
            "Epoch 8/100\n",
            "24/24 [==============================] - 3s 140ms/step - loss: 0.2497 - duration_loss: 0.0458 - pitch_loss: 3.4634 - step_loss: 0.0308\n",
            "Epoch 9/100\n",
            "24/24 [==============================] - 3s 138ms/step - loss: 0.2811 - duration_loss: 0.0430 - pitch_loss: 3.5506 - step_loss: 0.0606\n",
            "Epoch 10/100\n",
            "24/24 [==============================] - 3s 139ms/step - loss: 0.2427 - duration_loss: 0.0408 - pitch_loss: 3.4145 - step_loss: 0.0312\n",
            "Epoch 11/100\n",
            "24/24 [==============================] - 3s 137ms/step - loss: 0.2536 - duration_loss: 0.0456 - pitch_loss: 3.4543 - step_loss: 0.0353\n",
            "Epoch 12/100\n",
            "24/24 [==============================] - 3s 138ms/step - loss: 0.2868 - duration_loss: 0.0406 - pitch_loss: 3.4662 - step_loss: 0.0729\n",
            "Epoch 13/100\n",
            "24/24 [==============================] - 3s 139ms/step - loss: 0.2383 - duration_loss: 0.0412 - pitch_loss: 3.3665 - step_loss: 0.0288\n",
            "Epoch 14/100\n",
            "24/24 [==============================] - 3s 141ms/step - loss: 0.2618 - duration_loss: 0.0401 - pitch_loss: 3.4276 - step_loss: 0.0503\n",
            "Epoch 15/100\n",
            "24/24 [==============================] - 3s 139ms/step - loss: 0.2337 - duration_loss: 0.0397 - pitch_loss: 3.3241 - step_loss: 0.0278\n",
            "Epoch 16/100\n",
            "24/24 [==============================] - 3s 138ms/step - loss: 0.2656 - duration_loss: 0.0449 - pitch_loss: 3.4168 - step_loss: 0.0499\n",
            "Epoch 17/100\n",
            "24/24 [==============================] - 3s 138ms/step - loss: 0.2336 - duration_loss: 0.0380 - pitch_loss: 3.3384 - step_loss: 0.0286\n",
            "Epoch 18/100\n",
            "24/24 [==============================] - 3s 137ms/step - loss: 0.2317 - duration_loss: 0.0397 - pitch_loss: 3.2919 - step_loss: 0.0274\n",
            "Epoch 19/100\n",
            "24/24 [==============================] - 3s 138ms/step - loss: 0.2374 - duration_loss: 0.0403 - pitch_loss: 3.3068 - step_loss: 0.0317\n",
            "Epoch 20/100\n",
            "24/24 [==============================] - 3s 139ms/step - loss: 0.2514 - duration_loss: 0.0375 - pitch_loss: 3.3376 - step_loss: 0.0470\n",
            "Epoch 21/100\n",
            "24/24 [==============================] - 3s 139ms/step - loss: 0.2311 - duration_loss: 0.0378 - pitch_loss: 3.2840 - step_loss: 0.0291\n",
            "Epoch 22/100\n",
            "24/24 [==============================] - 3s 137ms/step - loss: 0.2291 - duration_loss: 0.0373 - pitch_loss: 3.2694 - step_loss: 0.0284\n",
            "Epoch 23/100\n",
            "24/24 [==============================] - 3s 136ms/step - loss: 0.2361 - duration_loss: 0.0359 - pitch_loss: 3.2992 - step_loss: 0.0352\n",
            "Epoch 24/100\n",
            "24/24 [==============================] - 3s 136ms/step - loss: 0.2298 - duration_loss: 0.0395 - pitch_loss: 3.2744 - step_loss: 0.0266\n",
            "Epoch 25/100\n",
            "24/24 [==============================] - 3s 143ms/step - loss: 0.2293 - duration_loss: 0.0375 - pitch_loss: 3.2571 - step_loss: 0.0289\n",
            "Epoch 26/100\n",
            "24/24 [==============================] - 3s 139ms/step - loss: 0.2827 - duration_loss: 0.0343 - pitch_loss: 3.3530 - step_loss: 0.0808\n",
            "Epoch 27/100\n",
            "24/24 [==============================] - 3s 141ms/step - loss: 0.2265 - duration_loss: 0.0359 - pitch_loss: 3.2446 - step_loss: 0.0284\n",
            "Epoch 28/100\n",
            "24/24 [==============================] - 3s 140ms/step - loss: 0.2196 - duration_loss: 0.0320 - pitch_loss: 3.2395 - step_loss: 0.0256\n",
            "Epoch 29/100\n",
            "24/24 [==============================] - 3s 139ms/step - loss: 0.2288 - duration_loss: 0.0370 - pitch_loss: 3.2649 - step_loss: 0.0285\n",
            "Epoch 30/100\n",
            "24/24 [==============================] - 3s 137ms/step - loss: 0.2258 - duration_loss: 0.0374 - pitch_loss: 3.2497 - step_loss: 0.0259\n",
            "Epoch 31/100\n",
            "24/24 [==============================] - 3s 138ms/step - loss: 0.2264 - duration_loss: 0.0379 - pitch_loss: 3.2369 - step_loss: 0.0266\n",
            "Epoch 32/100\n",
            "24/24 [==============================] - 3s 138ms/step - loss: 0.2231 - duration_loss: 0.0349 - pitch_loss: 3.2339 - step_loss: 0.0265\n",
            "Epoch 33/100\n",
            "24/24 [==============================] - 3s 141ms/step - loss: 0.2221 - duration_loss: 0.0345 - pitch_loss: 3.2287 - step_loss: 0.0262\n",
            "Epoch 34/100\n",
            "24/24 [==============================] - 3s 139ms/step - loss: 0.2183 - duration_loss: 0.0321 - pitch_loss: 3.2129 - step_loss: 0.0255\n",
            "Epoch 35/100\n",
            "24/24 [==============================] - 3s 138ms/step - loss: 0.2233 - duration_loss: 0.0366 - pitch_loss: 3.1999 - step_loss: 0.0267\n",
            "Epoch 36/100\n",
            "24/24 [==============================] - 3s 140ms/step - loss: 0.2168 - duration_loss: 0.0327 - pitch_loss: 3.1838 - step_loss: 0.0249\n",
            "Epoch 37/100\n",
            "24/24 [==============================] - 3s 138ms/step - loss: 0.2195 - duration_loss: 0.0318 - pitch_loss: 3.2007 - step_loss: 0.0277\n",
            "Epoch 38/100\n",
            "24/24 [==============================] - 3s 139ms/step - loss: 0.2150 - duration_loss: 0.0313 - pitch_loss: 3.1931 - step_loss: 0.0240\n",
            "Epoch 39/100\n",
            "24/24 [==============================] - 3s 138ms/step - loss: 0.2172 - duration_loss: 0.0327 - pitch_loss: 3.1875 - step_loss: 0.0251\n",
            "Epoch 40/100\n",
            "24/24 [==============================] - 3s 143ms/step - loss: 0.2125 - duration_loss: 0.0315 - pitch_loss: 3.1731 - step_loss: 0.0224\n",
            "Epoch 41/100\n",
            "24/24 [==============================] - 4s 145ms/step - loss: 0.2138 - duration_loss: 0.0303 - pitch_loss: 3.1743 - step_loss: 0.0248\n",
            "Epoch 42/100\n",
            "24/24 [==============================] - 3s 138ms/step - loss: 0.2128 - duration_loss: 0.0297 - pitch_loss: 3.1566 - step_loss: 0.0252\n",
            "Epoch 43/100\n",
            "24/24 [==============================] - 3s 137ms/step - loss: 0.2127 - duration_loss: 0.0291 - pitch_loss: 3.1429 - step_loss: 0.0265\n",
            "Epoch 44/100\n",
            "24/24 [==============================] - 3s 139ms/step - loss: 0.2111 - duration_loss: 0.0309 - pitch_loss: 3.1316 - step_loss: 0.0236\n",
            "Epoch 45/100\n",
            "24/24 [==============================] - 3s 137ms/step - loss: 0.2117 - duration_loss: 0.0282 - pitch_loss: 3.1257 - step_loss: 0.0272\n",
            "Epoch 46/100\n",
            "24/24 [==============================] - 4s 155ms/step - loss: 0.2080 - duration_loss: 0.0303 - pitch_loss: 3.0980 - step_loss: 0.0228\n",
            "Epoch 47/100\n",
            "24/24 [==============================] - 4s 145ms/step - loss: 0.2034 - duration_loss: 0.0265 - pitch_loss: 3.0747 - step_loss: 0.0232\n",
            "Epoch 48/100\n",
            "24/24 [==============================] - 3s 137ms/step - loss: 0.2010 - duration_loss: 0.0263 - pitch_loss: 3.0622 - step_loss: 0.0216\n",
            "Epoch 49/100\n",
            "24/24 [==============================] - 3s 140ms/step - loss: 0.2039 - duration_loss: 0.0269 - pitch_loss: 3.0558 - step_loss: 0.0242\n",
            "Epoch 50/100\n",
            "24/24 [==============================] - 3s 138ms/step - loss: 0.1988 - duration_loss: 0.0248 - pitch_loss: 3.0234 - step_loss: 0.0228\n",
            "Epoch 51/100\n",
            "24/24 [==============================] - 3s 140ms/step - loss: 0.1982 - duration_loss: 0.0274 - pitch_loss: 2.9794 - step_loss: 0.0218\n",
            "Epoch 52/100\n",
            "24/24 [==============================] - 4s 147ms/step - loss: 0.1966 - duration_loss: 0.0261 - pitch_loss: 2.9608 - step_loss: 0.0224\n",
            "Epoch 53/100\n",
            "24/24 [==============================] - 3s 143ms/step - loss: 0.1922 - duration_loss: 0.0251 - pitch_loss: 2.9318 - step_loss: 0.0205\n",
            "Epoch 54/100\n",
            "24/24 [==============================] - 3s 141ms/step - loss: 0.1950 - duration_loss: 0.0273 - pitch_loss: 2.8818 - step_loss: 0.0236\n",
            "Epoch 55/100\n",
            "24/24 [==============================] - 3s 138ms/step - loss: 0.1892 - duration_loss: 0.0238 - pitch_loss: 2.8594 - step_loss: 0.0224\n",
            "Epoch 56/100\n",
            "24/24 [==============================] - 3s 137ms/step - loss: 0.1857 - duration_loss: 0.0233 - pitch_loss: 2.8379 - step_loss: 0.0205\n",
            "Epoch 57/100\n",
            "24/24 [==============================] - 3s 137ms/step - loss: 0.1883 - duration_loss: 0.0246 - pitch_loss: 2.7916 - step_loss: 0.0241\n",
            "Epoch 58/100\n",
            "24/24 [==============================] - 3s 145ms/step - loss: 0.1808 - duration_loss: 0.0241 - pitch_loss: 2.7288 - step_loss: 0.0202\n",
            "Epoch 59/100\n",
            "24/24 [==============================] - 4s 155ms/step - loss: 0.1760 - duration_loss: 0.0228 - pitch_loss: 2.6822 - step_loss: 0.0191\n",
            "Epoch 60/100\n",
            "24/24 [==============================] - 4s 145ms/step - loss: 0.1781 - duration_loss: 0.0258 - pitch_loss: 2.6206 - step_loss: 0.0212\n",
            "Epoch 61/100\n",
            "24/24 [==============================] - 4s 145ms/step - loss: 0.1663 - duration_loss: 0.0201 - pitch_loss: 2.5567 - step_loss: 0.0184\n",
            "Epoch 62/100\n",
            "24/24 [==============================] - 3s 137ms/step - loss: 0.1605 - duration_loss: 0.0183 - pitch_loss: 2.4402 - step_loss: 0.0202\n",
            "Epoch 63/100\n",
            "24/24 [==============================] - 3s 139ms/step - loss: 0.1588 - duration_loss: 0.0202 - pitch_loss: 2.3629 - step_loss: 0.0204\n",
            "Epoch 64/100\n",
            "24/24 [==============================] - 3s 136ms/step - loss: 0.1539 - duration_loss: 0.0183 - pitch_loss: 2.3069 - step_loss: 0.0202\n",
            "Epoch 65/100\n",
            "24/24 [==============================] - 3s 138ms/step - loss: 0.1468 - duration_loss: 0.0174 - pitch_loss: 2.1846 - step_loss: 0.0202\n",
            "Epoch 66/100\n",
            "24/24 [==============================] - 3s 137ms/step - loss: 0.1407 - duration_loss: 0.0181 - pitch_loss: 2.0805 - step_loss: 0.0185\n",
            "Epoch 67/100\n",
            "24/24 [==============================] - 3s 140ms/step - loss: 0.1365 - duration_loss: 0.0177 - pitch_loss: 1.9777 - step_loss: 0.0199\n",
            "Epoch 68/100\n",
            "24/24 [==============================] - 4s 151ms/step - loss: 0.1324 - duration_loss: 0.0176 - pitch_loss: 1.9045 - step_loss: 0.0196\n",
            "Epoch 69/100\n",
            "24/24 [==============================] - 3s 141ms/step - loss: 0.1194 - duration_loss: 0.0135 - pitch_loss: 1.7558 - step_loss: 0.0181\n",
            "Epoch 70/100\n",
            "24/24 [==============================] - 3s 142ms/step - loss: 0.1248 - duration_loss: 0.0173 - pitch_loss: 1.7640 - step_loss: 0.0193\n",
            "Epoch 71/100\n",
            "24/24 [==============================] - 3s 142ms/step - loss: 0.1094 - duration_loss: 0.0135 - pitch_loss: 1.5228 - step_loss: 0.0198\n",
            "Epoch 72/100\n",
            "24/24 [==============================] - 3s 137ms/step - loss: 0.1104 - duration_loss: 0.0154 - pitch_loss: 1.5150 - step_loss: 0.0193\n",
            "Epoch 73/100\n",
            "24/24 [==============================] - 3s 138ms/step - loss: 0.1004 - duration_loss: 0.0145 - pitch_loss: 1.3428 - step_loss: 0.0187\n",
            "Epoch 74/100\n",
            "24/24 [==============================] - 3s 138ms/step - loss: 0.1008 - duration_loss: 0.0158 - pitch_loss: 1.3372 - step_loss: 0.0181\n",
            "Epoch 75/100\n",
            "24/24 [==============================] - 3s 138ms/step - loss: 0.0928 - duration_loss: 0.0125 - pitch_loss: 1.2570 - step_loss: 0.0174\n",
            "Epoch 76/100\n",
            "24/24 [==============================] - 3s 137ms/step - loss: 0.0844 - duration_loss: 0.0108 - pitch_loss: 1.0921 - step_loss: 0.0190\n",
            "Epoch 77/100\n",
            "24/24 [==============================] - 3s 139ms/step - loss: 0.0809 - duration_loss: 0.0104 - pitch_loss: 1.0455 - step_loss: 0.0182\n",
            "Epoch 78/100\n",
            "24/24 [==============================] - 3s 142ms/step - loss: 0.0761 - duration_loss: 0.0122 - pitch_loss: 0.9412 - step_loss: 0.0168\n",
            "Epoch 79/100\n",
            "24/24 [==============================] - 3s 141ms/step - loss: 0.0705 - duration_loss: 0.0110 - pitch_loss: 0.8943 - step_loss: 0.0148\n",
            "Epoch 80/100\n",
            "24/24 [==============================] - 3s 138ms/step - loss: 0.0726 - duration_loss: 0.0120 - pitch_loss: 0.8779 - step_loss: 0.0167\n",
            "Epoch 81/100\n",
            "24/24 [==============================] - 3s 139ms/step - loss: 0.0633 - duration_loss: 0.0096 - pitch_loss: 0.7485 - step_loss: 0.0163\n",
            "Epoch 82/100\n",
            "24/24 [==============================] - 3s 137ms/step - loss: 0.0623 - duration_loss: 0.0111 - pitch_loss: 0.7055 - step_loss: 0.0160\n",
            "Epoch 83/100\n",
            "24/24 [==============================] - 3s 137ms/step - loss: 0.0561 - duration_loss: 0.0094 - pitch_loss: 0.6328 - step_loss: 0.0151\n",
            "Epoch 84/100\n",
            "24/24 [==============================] - 3s 138ms/step - loss: 0.0550 - duration_loss: 0.0108 - pitch_loss: 0.5879 - step_loss: 0.0148\n",
            "Epoch 85/100\n",
            "24/24 [==============================] - 3s 138ms/step - loss: 0.0589 - duration_loss: 0.0093 - pitch_loss: 0.6633 - step_loss: 0.0165\n",
            "Epoch 86/100\n",
            "24/24 [==============================] - 3s 137ms/step - loss: 0.0513 - duration_loss: 0.0083 - pitch_loss: 0.5499 - step_loss: 0.0155\n",
            "Epoch 87/100\n",
            "24/24 [==============================] - 3s 138ms/step - loss: 0.0495 - duration_loss: 0.0098 - pitch_loss: 0.5202 - step_loss: 0.0137\n",
            "Epoch 88/100\n",
            "24/24 [==============================] - 3s 137ms/step - loss: 0.0450 - duration_loss: 0.0077 - pitch_loss: 0.4545 - step_loss: 0.0145\n",
            "Epoch 89/100\n",
            "24/24 [==============================] - 3s 138ms/step - loss: 0.0479 - duration_loss: 0.0093 - pitch_loss: 0.4690 - step_loss: 0.0152\n",
            "Epoch 90/100\n",
            "24/24 [==============================] - 3s 137ms/step - loss: 0.0450 - duration_loss: 0.0080 - pitch_loss: 0.4981 - step_loss: 0.0122\n",
            "Epoch 91/100\n",
            "24/24 [==============================] - 3s 138ms/step - loss: 0.0451 - duration_loss: 0.0088 - pitch_loss: 0.4577 - step_loss: 0.0135\n",
            "Epoch 92/100\n",
            "24/24 [==============================] - 3s 137ms/step - loss: 0.0479 - duration_loss: 0.0100 - pitch_loss: 0.5003 - step_loss: 0.0129\n",
            "Epoch 93/100\n",
            "24/24 [==============================] - 3s 139ms/step - loss: 0.0377 - duration_loss: 0.0067 - pitch_loss: 0.3530 - step_loss: 0.0134\n",
            "Epoch 94/100\n",
            "24/24 [==============================] - 3s 138ms/step - loss: 0.0390 - duration_loss: 0.0066 - pitch_loss: 0.3873 - step_loss: 0.0130\n",
            "Epoch 95/100\n",
            "24/24 [==============================] - 3s 138ms/step - loss: 0.0336 - duration_loss: 0.0056 - pitch_loss: 0.3004 - step_loss: 0.0129\n",
            "Epoch 96/100\n",
            "24/24 [==============================] - 3s 137ms/step - loss: 0.0378 - duration_loss: 0.0061 - pitch_loss: 0.3806 - step_loss: 0.0127\n",
            "Epoch 97/100\n",
            "24/24 [==============================] - 3s 137ms/step - loss: 0.0367 - duration_loss: 0.0075 - pitch_loss: 0.3329 - step_loss: 0.0126\n",
            "Epoch 98/100\n",
            "24/24 [==============================] - 3s 138ms/step - loss: 0.0363 - duration_loss: 0.0085 - pitch_loss: 0.3230 - step_loss: 0.0117\n",
            "Epoch 99/100\n",
            "24/24 [==============================] - 3s 142ms/step - loss: 0.0350 - duration_loss: 0.0076 - pitch_loss: 0.3043 - step_loss: 0.0122\n",
            "Epoch 100/100\n",
            "24/24 [==============================] - 3s 145ms/step - loss: 0.0365 - duration_loss: 0.0089 - pitch_loss: 0.3266 - step_loss: 0.0113\n",
            "CPU times: user 4min 7s, sys: 1min 50s, total: 5min 58s\n",
            "Wall time: 5min 45s\n"
          ]
        }
      ],
      "source": [
        "%%time\n",
        "history = model.fit(\n",
        "    train_ds,\n",
        "    epochs=epochs,\n",
        "    callbacks=callbacks,\n",
        ")"
      ]
    },
    {
      "cell_type": "code",
      "execution_count": 155,
      "id": "e99b14d0",
      "metadata": {
        "colab": {
          "base_uri": "https://localhost:8080/",
          "height": 265
        },
        "id": "e99b14d0",
        "outputId": "63b90a53-ad61-4837-a16b-98583f2de325"
      },
      "outputs": [
        {
          "data": {
            "image/png": "[encoded data removed]",
            "text/plain": [
              "<Figure size 640x480 with 1 Axes>"
            ]
          },
          "metadata": {},
          "output_type": "display_data"
        }
      ],
      "source": [
        "plt.plot(history.epoch, history.history['loss'], label='total loss')\n",
        "plt.show()\n"
      ]
    },
    {
      "cell_type": "markdown",
      "id": "e3428699",
      "metadata": {
        "id": "e3428699"
      },
      "source": [
        "## Generate notes"
      ]
    },
    {
      "cell_type": "code",
      "execution_count": 154,
      "id": "2544b946",
      "metadata": {
        "colab": {
          "base_uri": "https://localhost:8080/"
        },
        "id": "2544b946",
        "outputId": "9701ebcc-7c3d-47ea-bf54-cf2b68f5d9b0"
      },
      "outputs": [
        {
          "name": "stderr",
          "output_type": "stream",
          "text": [
            "2022-12-08 00:49:43.775009: I tensorflow/core/grappler/optimizers/custom_graph_optimizer_registry.cc:114] Plugin optimizer for device_type GPU is enabled.\n",
            "2022-12-08 00:49:44.023611: I tensorflow/core/grappler/optimizers/custom_graph_optimizer_registry.cc:114] Plugin optimizer for device_type GPU is enabled.\n",
            "2022-12-08 00:49:44.043475: I tensorflow/core/grappler/optimizers/custom_graph_optimizer_registry.cc:114] Plugin optimizer for device_type GPU is enabled.\n",
            "2022-12-08 00:49:44.241760: I tensorflow/core/grappler/optimizers/custom_graph_optimizer_registry.cc:114] Plugin optimizer for device_type GPU is enabled.\n",
            "2022-12-08 00:49:44.256662: I tensorflow/core/grappler/optimizers/custom_graph_optimizer_registry.cc:114] Plugin optimizer for device_type GPU is enabled.\n",
            "2022-12-08 00:49:44.426600: I tensorflow/core/grappler/optimizers/custom_graph_optimizer_registry.cc:114] Plugin optimizer for device_type GPU is enabled.\n",
            "2022-12-08 00:49:44.440651: I tensorflow/core/grappler/optimizers/custom_graph_optimizer_registry.cc:114] Plugin optimizer for device_type GPU is enabled.\n"
          ]
        },
        {
          "name": "stdout",
          "output_type": "stream",
          "text": [
            "1/1 [==============================] - 2s 2s/step\n",
            "1/1 [==============================] - 0s 97ms/step\n",
            "1/1 [==============================] - 0s 66ms/step\n",
            "1/1 [==============================] - 0s 56ms/step\n",
            "1/1 [==============================] - 0s 52ms/step\n",
            "1/1 [==============================] - 0s 54ms/step\n",
            "1/1 [==============================] - 0s 50ms/step\n",
            "1/1 [==============================] - 0s 47ms/step\n",
            "1/1 [==============================] - 0s 48ms/step\n",
            "1/1 [==============================] - 0s 55ms/step\n",
            "1/1 [==============================] - 0s 48ms/step\n",
            "1/1 [==============================] - 0s 49ms/step\n",
            "1/1 [==============================] - 0s 44ms/step\n",
            "1/1 [==============================] - 0s 47ms/step\n",
            "1/1 [==============================] - 0s 44ms/step\n",
            "1/1 [==============================] - 0s 44ms/step\n",
            "1/1 [==============================] - 0s 45ms/step\n",
            "1/1 [==============================] - 0s 48ms/step\n",
            "1/1 [==============================] - 0s 44ms/step\n",
            "1/1 [==============================] - 0s 44ms/step\n",
            "1/1 [==============================] - 0s 44ms/step\n",
            "1/1 [==============================] - 0s 44ms/step\n",
            "1/1 [==============================] - 0s 43ms/step\n",
            "1/1 [==============================] - 0s 44ms/step\n",
            "1/1 [==============================] - 0s 43ms/step\n",
            "1/1 [==============================] - 0s 44ms/step\n",
            "1/1 [==============================] - 0s 44ms/step\n",
            "1/1 [==============================] - 0s 44ms/step\n",
            "1/1 [==============================] - 0s 44ms/step\n",
            "1/1 [==============================] - 0s 45ms/step\n",
            "1/1 [==============================] - 0s 44ms/step\n",
            "1/1 [==============================] - 0s 45ms/step\n",
            "1/1 [==============================] - 0s 44ms/step\n",
            "1/1 [==============================] - 0s 44ms/step\n",
            "1/1 [==============================] - 0s 44ms/step\n",
            "1/1 [==============================] - 0s 43ms/step\n",
            "1/1 [==============================] - 0s 44ms/step\n",
            "1/1 [==============================] - 0s 59ms/step\n",
            "1/1 [==============================] - 0s 44ms/step\n",
            "1/1 [==============================] - 0s 44ms/step\n",
            "1/1 [==============================] - 0s 44ms/step\n",
            "1/1 [==============================] - 0s 44ms/step\n",
            "1/1 [==============================] - 0s 43ms/step\n",
            "1/1 [==============================] - 0s 44ms/step\n",
            "1/1 [==============================] - 0s 43ms/step\n",
            "1/1 [==============================] - 0s 44ms/step\n",
            "1/1 [==============================] - 0s 44ms/step\n",
            "1/1 [==============================] - 0s 44ms/step\n",
            "1/1 [==============================] - 0s 44ms/step\n",
            "1/1 [==============================] - 0s 44ms/step\n",
            "1/1 [==============================] - 0s 44ms/step\n",
            "1/1 [==============================] - 0s 47ms/step\n",
            "1/1 [==============================] - 0s 44ms/step\n",
            "1/1 [==============================] - 0s 43ms/step\n",
            "1/1 [==============================] - 0s 43ms/step\n",
            "1/1 [==============================] - 0s 45ms/step\n",
            "1/1 [==============================] - 0s 43ms/step\n",
            "1/1 [==============================] - 0s 43ms/step\n",
            "1/1 [==============================] - 0s 43ms/step\n",
            "1/1 [==============================] - 0s 45ms/step\n",
            "1/1 [==============================] - 0s 44ms/step\n",
            "1/1 [==============================] - 0s 46ms/step\n",
            "1/1 [==============================] - 0s 44ms/step\n",
            "1/1 [==============================] - 0s 45ms/step\n",
            "1/1 [==============================] - 0s 44ms/step\n",
            "1/1 [==============================] - 0s 45ms/step\n",
            "1/1 [==============================] - 0s 50ms/step\n",
            "1/1 [==============================] - 0s 55ms/step\n",
            "1/1 [==============================] - 0s 46ms/step\n",
            "1/1 [==============================] - 0s 44ms/step\n",
            "1/1 [==============================] - 0s 44ms/step\n",
            "1/1 [==============================] - 0s 44ms/step\n",
            "1/1 [==============================] - 0s 44ms/step\n",
            "1/1 [==============================] - 0s 45ms/step\n",
            "1/1 [==============================] - 0s 44ms/step\n",
            "1/1 [==============================] - 0s 44ms/step\n",
            "1/1 [==============================] - 0s 44ms/step\n",
            "1/1 [==============================] - 0s 44ms/step\n",
            "1/1 [==============================] - 0s 44ms/step\n",
            "1/1 [==============================] - 0s 43ms/step\n",
            "1/1 [==============================] - 0s 45ms/step\n",
            "1/1 [==============================] - 0s 54ms/step\n",
            "1/1 [==============================] - 0s 61ms/step\n",
            "1/1 [==============================] - 0s 48ms/step\n",
            "1/1 [==============================] - 0s 45ms/step\n",
            "1/1 [==============================] - 0s 43ms/step\n",
            "1/1 [==============================] - 0s 44ms/step\n",
            "1/1 [==============================] - 0s 46ms/step\n",
            "1/1 [==============================] - 0s 44ms/step\n",
            "1/1 [==============================] - 0s 44ms/step\n",
            "1/1 [==============================] - 0s 43ms/step\n",
            "1/1 [==============================] - 0s 44ms/step\n",
            "1/1 [==============================] - 0s 43ms/step\n",
            "1/1 [==============================] - 0s 44ms/step\n",
            "1/1 [==============================] - 0s 44ms/step\n",
            "1/1 [==============================] - 0s 44ms/step\n",
            "1/1 [==============================] - 0s 44ms/step\n",
            "1/1 [==============================] - 0s 44ms/step\n",
            "1/1 [==============================] - 0s 44ms/step\n",
            "1/1 [==============================] - 0s 43ms/step\n",
            "1/1 [==============================] - 0s 44ms/step\n",
            "1/1 [==============================] - 0s 43ms/step\n",
            "1/1 [==============================] - 0s 42ms/step\n",
            "1/1 [==============================] - 0s 46ms/step\n",
            "1/1 [==============================] - 0s 57ms/step\n",
            "1/1 [==============================] - 0s 59ms/step\n",
            "1/1 [==============================] - 0s 43ms/step\n",
            "1/1 [==============================] - 0s 49ms/step\n",
            "1/1 [==============================] - 0s 44ms/step\n",
            "1/1 [==============================] - 0s 44ms/step\n",
            "1/1 [==============================] - 0s 44ms/step\n",
            "1/1 [==============================] - 0s 44ms/step\n",
            "1/1 [==============================] - 0s 44ms/step\n",
            "1/1 [==============================] - 0s 43ms/step\n",
            "1/1 [==============================] - 0s 44ms/step\n",
            "1/1 [==============================] - 0s 43ms/step\n",
            "1/1 [==============================] - 0s 45ms/step\n",
            "1/1 [==============================] - 0s 43ms/step\n",
            "1/1 [==============================] - 0s 45ms/step\n",
            "1/1 [==============================] - 0s 45ms/step\n",
            "1/1 [==============================] - 0s 44ms/step\n",
            "1/1 [==============================] - 0s 47ms/step\n",
            "1/1 [==============================] - 0s 49ms/step\n",
            "1/1 [==============================] - 0s 46ms/step\n",
            "1/1 [==============================] - 0s 44ms/step\n",
            "1/1 [==============================] - 0s 44ms/step\n",
            "1/1 [==============================] - 0s 44ms/step\n",
            "1/1 [==============================] - 0s 47ms/step\n",
            "1/1 [==============================] - 0s 44ms/step\n",
            "1/1 [==============================] - 0s 43ms/step\n",
            "1/1 [==============================] - 0s 43ms/step\n",
            "1/1 [==============================] - 0s 45ms/step\n",
            "1/1 [==============================] - 0s 44ms/step\n",
            "1/1 [==============================] - 0s 44ms/step\n",
            "1/1 [==============================] - 0s 44ms/step\n",
            "1/1 [==============================] - 0s 45ms/step\n",
            "1/1 [==============================] - 0s 44ms/step\n",
            "1/1 [==============================] - 0s 45ms/step\n",
            "1/1 [==============================] - 0s 45ms/step\n",
            "1/1 [==============================] - 0s 44ms/step\n",
            "1/1 [==============================] - 0s 43ms/step\n",
            "1/1 [==============================] - 0s 44ms/step\n",
            "1/1 [==============================] - 0s 43ms/step\n",
            "1/1 [==============================] - 0s 45ms/step\n",
            "1/1 [==============================] - 0s 44ms/step\n",
            "1/1 [==============================] - 0s 44ms/step\n",
            "1/1 [==============================] - 0s 44ms/step\n",
            "1/1 [==============================] - 0s 44ms/step\n",
            "1/1 [==============================] - 0s 43ms/step\n",
            "1/1 [==============================] - 0s 44ms/step\n",
            "1/1 [==============================] - 0s 44ms/step\n",
            "1/1 [==============================] - 0s 43ms/step\n",
            "1/1 [==============================] - 0s 44ms/step\n",
            "1/1 [==============================] - 0s 43ms/step\n",
            "1/1 [==============================] - 0s 44ms/step\n",
            "1/1 [==============================] - 0s 44ms/step\n",
            "1/1 [==============================] - 0s 43ms/step\n",
            "1/1 [==============================] - 0s 43ms/step\n",
            "1/1 [==============================] - 0s 44ms/step\n",
            "1/1 [==============================] - 0s 43ms/step\n",
            "1/1 [==============================] - 0s 43ms/step\n",
            "1/1 [==============================] - 0s 44ms/step\n",
            "1/1 [==============================] - 0s 44ms/step\n",
            "1/1 [==============================] - 0s 43ms/step\n",
            "1/1 [==============================] - 0s 43ms/step\n",
            "1/1 [==============================] - 0s 45ms/step\n",
            "1/1 [==============================] - 0s 50ms/step\n",
            "1/1 [==============================] - 0s 43ms/step\n",
            "1/1 [==============================] - 0s 44ms/step\n",
            "1/1 [==============================] - 0s 44ms/step\n",
            "1/1 [==============================] - 0s 43ms/step\n",
            "1/1 [==============================] - 0s 44ms/step\n",
            "1/1 [==============================] - 0s 43ms/step\n",
            "1/1 [==============================] - 0s 43ms/step\n",
            "1/1 [==============================] - 0s 43ms/step\n",
            "1/1 [==============================] - 0s 43ms/step\n",
            "1/1 [==============================] - 0s 44ms/step\n",
            "1/1 [==============================] - 0s 44ms/step\n",
            "1/1 [==============================] - 0s 44ms/step\n",
            "1/1 [==============================] - 0s 44ms/step\n",
            "1/1 [==============================] - 0s 43ms/step\n",
            "1/1 [==============================] - 0s 46ms/step\n",
            "1/1 [==============================] - 0s 46ms/step\n",
            "1/1 [==============================] - 0s 47ms/step\n",
            "1/1 [==============================] - 0s 47ms/step\n",
            "1/1 [==============================] - 0s 43ms/step\n",
            "1/1 [==============================] - 0s 43ms/step\n",
            "1/1 [==============================] - 0s 45ms/step\n",
            "1/1 [==============================] - 0s 46ms/step\n",
            "1/1 [==============================] - 0s 44ms/step\n",
            "1/1 [==============================] - 0s 44ms/step\n",
            "1/1 [==============================] - 0s 44ms/step\n",
            "1/1 [==============================] - 0s 45ms/step\n",
            "1/1 [==============================] - 0s 44ms/step\n",
            "1/1 [==============================] - 0s 46ms/step\n",
            "1/1 [==============================] - 0s 56ms/step\n",
            "1/1 [==============================] - 0s 50ms/step\n",
            "1/1 [==============================] - 0s 47ms/step\n",
            "1/1 [==============================] - 0s 48ms/step\n",
            "1/1 [==============================] - 0s 45ms/step\n",
            "1/1 [==============================] - 0s 45ms/step\n",
            "1/1 [==============================] - 0s 46ms/step\n",
            "1/1 [==============================] - 0s 44ms/step\n",
            "1/1 [==============================] - 0s 44ms/step\n",
            "1/1 [==============================] - 0s 44ms/step\n",
            "1/1 [==============================] - 0s 44ms/step\n",
            "1/1 [==============================] - 0s 45ms/step\n",
            "1/1 [==============================] - 0s 49ms/step\n",
            "1/1 [==============================] - 0s 46ms/step\n",
            "1/1 [==============================] - 0s 55ms/step\n",
            "1/1 [==============================] - 0s 48ms/step\n",
            "1/1 [==============================] - 0s 49ms/step\n",
            "1/1 [==============================] - 0s 48ms/step\n",
            "1/1 [==============================] - 0s 51ms/step\n",
            "1/1 [==============================] - 0s 53ms/step\n",
            "1/1 [==============================] - 0s 50ms/step\n",
            "1/1 [==============================] - 0s 51ms/step\n",
            "1/1 [==============================] - 0s 44ms/step\n",
            "1/1 [==============================] - 0s 62ms/step\n",
            "1/1 [==============================] - 0s 54ms/step\n",
            "1/1 [==============================] - 0s 64ms/step\n",
            "1/1 [==============================] - 0s 55ms/step\n",
            "1/1 [==============================] - 0s 48ms/step\n",
            "1/1 [==============================] - 0s 49ms/step\n",
            "1/1 [==============================] - 0s 48ms/step\n",
            "1/1 [==============================] - 0s 49ms/step\n",
            "1/1 [==============================] - 0s 49ms/step\n",
            "1/1 [==============================] - 0s 48ms/step\n",
            "1/1 [==============================] - 0s 57ms/step\n",
            "1/1 [==============================] - 0s 59ms/step\n",
            "1/1 [==============================] - 0s 53ms/step\n",
            "1/1 [==============================] - 0s 46ms/step\n",
            "1/1 [==============================] - 0s 56ms/step\n",
            "1/1 [==============================] - 0s 53ms/step\n",
            "1/1 [==============================] - 0s 55ms/step\n",
            "1/1 [==============================] - 0s 45ms/step\n",
            "1/1 [==============================] - 0s 45ms/step\n",
            "1/1 [==============================] - 0s 44ms/step\n",
            "1/1 [==============================] - 0s 59ms/step\n",
            "1/1 [==============================] - 0s 71ms/step\n",
            "1/1 [==============================] - 0s 52ms/step\n",
            "1/1 [==============================] - 0s 48ms/step\n",
            "1/1 [==============================] - 0s 48ms/step\n",
            "1/1 [==============================] - 0s 44ms/step\n",
            "1/1 [==============================] - 0s 47ms/step\n",
            "1/1 [==============================] - 0s 52ms/step\n",
            "1/1 [==============================] - 0s 52ms/step\n",
            "1/1 [==============================] - 0s 62ms/step\n",
            "1/1 [==============================] - 0s 51ms/step\n",
            "1/1 [==============================] - 0s 57ms/step\n"
          ]
        }
      ],
      "source": [
        "temperature = temperature\n",
        "num_predictions = 250 #120\n",
        "\n",
        "sample_notes = np.stack([raw_notes[key] for key in key_order], axis=1)\n",
        "\n",
        "# The initial sequence of notes; pitch is normalized similar to training\n",
        "# sequences\n",
        "input_notes = (\n",
        "    sample_notes[:seq_length] / np.array([vocab_size, 1, 1]))\n",
        "\n",
        "generated_notes = []\n",
        "prev_start = 0\n",
        "for _ in range(num_predictions):\n",
        "  pitch, step, duration = predict_next_note(input_notes, model, temperature)\n",
        "  start = prev_start + step\n",
        "  end = start + duration\n",
        "  input_note = (pitch, step, duration)\n",
        "  generated_notes.append((*input_note, start, end))\n",
        "  input_notes = np.delete(input_notes, 0, axis=0)\n",
        "  input_notes = np.append(input_notes, np.expand_dims(input_note, 0), axis=0)\n",
        "  prev_start = start\n",
        "\n",
        "generated_notes = pd.DataFrame(\n",
        "    generated_notes, columns=(*key_order, 'start', 'end'))"
      ]
    },
    {
      "cell_type": "code",
      "execution_count": 156,
      "id": "b1946111",
      "metadata": {
        "colab": {
          "base_uri": "https://localhost:8080/",
          "height": 206
        },
        "id": "b1946111",
        "outputId": "3ae44f5d-c264-4760-b095-40481907f951"
      },
      "outputs": [
        {
          "data": {
            "text/html": [
              "<div>\n",
              "<style scoped>\n",
              "    .dataframe tbody tr th:only-of-type {\n",
              "        vertical-align: middle;\n",
              "    }\n",
              "\n",
              "    .dataframe tbody tr th {\n",
              "        vertical-align: top;\n",
              "    }\n",
              "\n",
              "    .dataframe thead th {\n",
              "        text-align: right;\n",
              "    }\n",
              "</style>\n",
              "<table border=\"1\" class=\"dataframe\">\n",
              "  <thead>\n",
              "    <tr style=\"text-align: right;\">\n",
              "      <th></th>\n",
              "      <th>pitch</th>\n",
              "      <th>step</th>\n",
              "      <th>duration</th>\n",
              "      <th>start</th>\n",
              "      <th>end</th>\n",
              "    </tr>\n",
              "  </thead>\n",
              "  <tbody>\n",
              "    <tr>\n",
              "      <th>0</th>\n",
              "      <td>61</td>\n",
              "      <td>0.208038</td>\n",
              "      <td>0.424027</td>\n",
              "      <td>0.208038</td>\n",
              "      <td>0.632065</td>\n",
              "    </tr>\n",
              "    <tr>\n",
              "      <th>1</th>\n",
              "      <td>74</td>\n",
              "      <td>0.065082</td>\n",
              "      <td>0.352430</td>\n",
              "      <td>0.273120</td>\n",
              "      <td>0.625550</td>\n",
              "    </tr>\n",
              "    <tr>\n",
              "      <th>2</th>\n",
              "      <td>75</td>\n",
              "      <td>0.116137</td>\n",
              "      <td>0.341176</td>\n",
              "      <td>0.389257</td>\n",
              "      <td>0.730433</td>\n",
              "    </tr>\n",
              "    <tr>\n",
              "      <th>3</th>\n",
              "      <td>62</td>\n",
              "      <td>0.128826</td>\n",
              "      <td>0.310279</td>\n",
              "      <td>0.518083</td>\n",
              "      <td>0.828362</td>\n",
              "    </tr>\n",
              "    <tr>\n",
              "      <th>4</th>\n",
              "      <td>68</td>\n",
              "      <td>0.139706</td>\n",
              "      <td>0.292352</td>\n",
              "      <td>0.657789</td>\n",
              "      <td>0.950141</td>\n",
              "    </tr>\n",
              "  </tbody>\n",
              "</table>\n",
              "</div>"
            ],
            "text/plain": [
              "   pitch      step  duration     start       end\n",
              "0     61  0.208038  0.424027  0.208038  0.632065\n",
              "1     74  0.065082  0.352430  0.273120  0.625550\n",
              "2     75  0.116137  0.341176  0.389257  0.730433\n",
              "3     62  0.128826  0.310279  0.518083  0.828362\n",
              "4     68  0.139706  0.292352  0.657789  0.950141"
            ]
          },
          "execution_count": 156,
          "metadata": {},
          "output_type": "execute_result"
        }
      ],
      "source": [
        "generated_notes.head(5)"
      ]
    },
    {
      "cell_type": "code",
      "execution_count": 157,
      "id": "99275540",
      "metadata": {
        "colab": {
          "base_uri": "https://localhost:8080/",
          "height": 17
        },
        "id": "99275540",
        "outputId": "01cacd11-85a9-4321-e218-6dae92952e92"
      },
      "outputs": [],
      "source": [
        "out_file = 'output.mid'\n",
        "out_pm = notes_to_midi(\n",
        "    generated_notes, out_file=out_file, instrument_name=instrument_name)\n",
        "#display_audio(out_pm)\n",
        "#files.download(out_file)\n",
        "model_outputs_directory_path = '../raw_data/model_outputs/'\n",
        "custom = 'o14b'\n",
        "filename = f\"{custom}_{learning_rate}lrate_{batch_size}batch{epochs}epoch_{history.epoch[-1]}early_stop_{seq_length}seqlength_from_file_nb{file_number}.mid\"\n",
        "out_pm.write(os.path.join(model_outputs_directory_path, filename))"
      ]
    },
    {
      "cell_type": "code",
      "execution_count": 158,
      "id": "25ba0af0",
      "metadata": {
        "id": "25ba0af0"
      },
      "outputs": [
        {
          "data": {
            "image/png": "[encoded data removed]",
            "text/plain": [
              "<Figure size 1500x500 with 3 Axes>"
            ]
          },
          "metadata": {},
          "output_type": "display_data"
        }
      ],
      "source": [
        "plot_distributions(generated_notes)"
      ]
    },
    {
      "cell_type": "code",
      "execution_count": null,
      "id": "13443e35",
      "metadata": {},
      "outputs": [],
      "source": []
    }
  ],
  "metadata": {
    "accelerator": "GPU",
    "colab": {
      "collapsed_sections": [
        "d87c9ca0",
        "b8a53a57"
      ],
      "provenance": []
    },
    "gpuClass": "standard",
    "kernelspec": {
      "display_name": "Python 3.10.6 64-bit ('lewagon')",
      "language": "python",
      "name": "python3"
    },
    "language_info": {
      "codemirror_mode": {
        "name": "ipython",
        "version": 3
      },
      "file_extension": ".py",
      "mimetype": "text/x-python",
      "name": "python",
      "nbconvert_exporter": "python",
      "pygments_lexer": "ipython3",
      "version": "3.10.6"
    },
    "toc": {
      "base_numbering": 1,
      "nav_menu": {},
      "number_sections": true,
      "sideBar": true,
      "skip_h1_title": false,
      "title_cell": "Table of Contents",
      "title_sidebar": "Contents",
      "toc_cell": false,
      "toc_position": {},
      "toc_section_display": true,
      "toc_window_display": false
    },
    "vscode": {
      "interpreter": {
        "hash": "a8a7570021751e1e44b5cb6f7d3a7e2449aa165f08b1cd960c3a5a6b6868a712"
      }
    }
  },
  "nbformat": 4,
  "nbformat_minor": 5
}
