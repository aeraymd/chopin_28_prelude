{
  "cells": [
    {
      "cell_type": "markdown",
      "id": "e90c000a",
      "metadata": {
        "id": "e90c000a"
      },
      "source": [
        "# Generate music with an RNN\n"
      ]
    },
    {
      "cell_type": "markdown",
      "id": "d87c9ca0",
      "metadata": {
        "id": "d87c9ca0"
      },
      "source": [
        "## Setup"
      ]
    },
    {
      "cell_type": "code",
      "execution_count": 110,
      "id": "AhezIRDuvi3-",
      "metadata": {
        "colab": {
          "base_uri": "https://localhost:8080/"
        },
        "id": "AhezIRDuvi3-",
        "outputId": "4e1e2393-0f33-42b0-efd0-0a1c106e4aa8"
      },
      "outputs": [
        {
          "name": "stdout",
          "output_type": "stream",
          "text": [
            "Drive already mounted at /content/drive/; to attempt to forcibly remount, call drive.mount(\"/content/drive/\", force_remount=True).\n"
          ]
        }
      ],
      "source": [
        "from google.colab import drive\n",
        "drive.mount('/content/drive/')"
      ]
    },
    {
      "cell_type": "code",
      "execution_count": 111,
      "id": "ecLlCHw_vsVK",
      "metadata": {
        "colab": {
          "base_uri": "https://localhost:8080/"
        },
        "id": "ecLlCHw_vsVK",
        "outputId": "3d54471c-38ce-4e09-cc4f-9c7922673ed5"
      },
      "outputs": [
        {
          "name": "stdout",
          "output_type": "stream",
          "text": [
            "Looking in indexes: https://pypi.org/simple, https://us-python.pkg.dev/colab-wheels/public/simple/\n",
            "Requirement already satisfied: fluidsynth in /usr/local/lib/python3.8/dist-packages (0.2)\n"
          ]
        }
      ],
      "source": [
        "pip install fluidsynth"
      ]
    },
    {
      "cell_type": "code",
      "execution_count": 112,
      "id": "KvmFHaFev0Tw",
      "metadata": {
        "colab": {
          "base_uri": "https://localhost:8080/"
        },
        "id": "KvmFHaFev0Tw",
        "outputId": "58e1cf6b-7dd9-4dab-aae3-2124da540891"
      },
      "outputs": [
        {
          "name": "stdout",
          "output_type": "stream",
          "text": [
            "Looking in indexes: https://pypi.org/simple, https://us-python.pkg.dev/colab-wheels/public/simple/\n",
            "Requirement already satisfied: pretty_midi in /usr/local/lib/python3.8/dist-packages (0.2.9)\n",
            "Requirement already satisfied: numpy>=1.7.0 in /usr/local/lib/python3.8/dist-packages (from pretty_midi) (1.21.6)\n",
            "Requirement already satisfied: six in /usr/local/lib/python3.8/dist-packages (from pretty_midi) (1.15.0)\n",
            "Requirement already satisfied: mido>=1.1.16 in /usr/local/lib/python3.8/dist-packages (from pretty_midi) (1.2.10)\n"
          ]
        }
      ],
      "source": [
        "pip install pretty_midi"
      ]
    },
    {
      "cell_type": "code",
      "execution_count": 113,
      "id": "22fa3202",
      "metadata": {
        "id": "22fa3202"
      },
      "outputs": [],
      "source": [
        "import collections\n",
        "import datetime\n",
        "import fluidsynth\n",
        "import glob\n",
        "import numpy as np\n",
        "import pathlib\n",
        "import pandas as pd\n",
        "import pretty_midi\n",
        "import seaborn as sns\n",
        "import tensorflow as tf\n",
        "import os\n",
        "\n",
        "from IPython import display\n",
        "from matplotlib import pyplot as plt\n",
        "from typing import Dict, List, Optional, Sequence, Tuple\n",
        "from google.colab import files"
      ]
    },
    {
      "cell_type": "code",
      "execution_count": 114,
      "id": "efea000a",
      "metadata": {
        "colab": {
          "base_uri": "https://localhost:8080/"
        },
        "id": "efea000a",
        "outputId": "1c869c6e-8487-4ac7-b57a-0a157ed7c7ca"
      },
      "outputs": [
        {
          "name": "stdout",
          "output_type": "stream",
          "text": [
            "Number of files: 131\n"
          ]
        }
      ],
      "source": [
        "#data_folder = 'midi_chopin_format_0_dataset' #to input as a string\n",
        "#data_path = os.path.join('..','..','raw_data', data_folder)\n",
        "#data_path = pathlib.Path(data_path)\n",
        "data_path = pathlib.Path('drive/MyDrive/Colab Notebooks/tensorflow-music-generation/data/midi_chopin_format_0_dataset')\n",
        "filenames = glob.glob(str(data_path/\"*.mid\"))\n",
        "print('Number of files:', len(filenames))"
      ]
    },
    {
      "cell_type": "code",
      "execution_count": 115,
      "id": "801914b9",
      "metadata": {
        "id": "801914b9"
      },
      "outputs": [],
      "source": [
        "# General parameters \n",
        "seed = 42\n",
        "tf.random.set_seed(seed)\n",
        "np.random.seed(seed)\n",
        "_SAMPLING_RATE = 16000 # Sampling rate for audio playback\n",
        "vocab_size = 128 # Represents the number of note pitches \n",
        "key_order = ['pitch', 'step', 'duration'] # Features we keep\n",
        "\n",
        "# Hyper-parameters \n",
        "seq_length = 25\n",
        "batch_size = 32\n",
        "pitch_weight= 0.05\n",
        "step_weight = 1.0\n",
        "duration_weight = 1.0\n",
        "patience = 5\n",
        "epochs = 100\n",
        "learning_rate = 0.001\n",
        "\n",
        "# Parameters used to generate the music notes\n",
        "temperature = 2\n",
        "file_number = 1 #Choose one file among the existing file to start the prediction \n",
        "sample_file = filenames[file_number]\n",
        "raw_notes = midi_to_notes(sample_file)\n",
        "#example_file = 'example.midi'\n",
        "#example_pm = notes_to_midi(\n",
        "#    raw_notes, out_file=example_file, instrument_name=instrument_name)\n",
        "pm = pretty_midi.PrettyMIDI(sample_file)\n",
        "instrument = pm.instruments[0]\n",
        "instrument_name = pretty_midi.program_to_instrument_name(instrument.program)"
      ]
    },
    {
      "cell_type": "markdown",
      "id": "a06af01f",
      "metadata": {
        "id": "a06af01f"
      },
      "source": [
        "## Fetch dataset"
      ]
    },
    {
      "cell_type": "markdown",
      "id": "b8a53a57",
      "metadata": {
        "id": "b8a53a57"
      },
      "source": [
        "## Functions"
      ]
    },
    {
      "cell_type": "code",
      "execution_count": 116,
      "id": "1c9328b0",
      "metadata": {
        "id": "1c9328b0"
      },
      "outputs": [],
      "source": [
        "def display_audio(pm: pretty_midi.PrettyMIDI, seconds=30):\n",
        "  waveform = pm.fluidsynth(fs=_SAMPLING_RATE)\n",
        "  # Take a sample of the generated waveform to mitigate kernel resets\n",
        "  waveform_short = waveform[:seconds*_SAMPLING_RATE]\n",
        "  return display.Audio(waveform_short, rate=_SAMPLING_RATE)"
      ]
    },
    {
      "cell_type": "code",
      "execution_count": 117,
      "id": "5a1647b4",
      "metadata": {
        "id": "5a1647b4"
      },
      "outputs": [],
      "source": [
        "def midi_to_notes(midi_file: str) -> pd.DataFrame:\n",
        "  pm = pretty_midi.PrettyMIDI(midi_file)\n",
        "  instrument = pm.instruments[0]\n",
        "  notes = collections.defaultdict(list)\n",
        "\n",
        "  # Sort the notes by start time\n",
        "  sorted_notes = sorted(instrument.notes, key=lambda note: note.start)\n",
        "  prev_start = sorted_notes[0].start\n",
        "\n",
        "  for note in sorted_notes:\n",
        "    start = note.start\n",
        "    end = note.end\n",
        "    notes['pitch'].append(note.pitch)\n",
        "    notes['start'].append(start)\n",
        "    notes['end'].append(end)\n",
        "    notes['step'].append(start - prev_start)\n",
        "    notes['duration'].append(end - start)\n",
        "    prev_start = start\n",
        "\n",
        "  return pd.DataFrame({name: np.array(value) for name, value in notes.items()})"
      ]
    },
    {
      "cell_type": "code",
      "execution_count": 118,
      "id": "09ce1d85",
      "metadata": {
        "id": "09ce1d85"
      },
      "outputs": [],
      "source": [
        "def plot_piano_roll(notes: pd.DataFrame, count: Optional[int] = None):\n",
        "  if count:\n",
        "    title = f'First {count} notes'\n",
        "  else:\n",
        "    title = f'Whole track'\n",
        "    count = len(notes['pitch'])\n",
        "  plt.figure(figsize=(20, 4))\n",
        "  plot_pitch = np.stack([notes['pitch'], notes['pitch']], axis=0)\n",
        "  plot_start_stop = np.stack([notes['start'], notes['end']], axis=0)\n",
        "  plt.plot(\n",
        "      plot_start_stop[:, :count], plot_pitch[:, :count], color=\"b\", marker=\".\")\n",
        "  plt.xlabel('Time [s]')\n",
        "  plt.ylabel('Pitch')\n",
        "  _ = plt.title(title)"
      ]
    },
    {
      "cell_type": "code",
      "execution_count": 119,
      "id": "8a597697",
      "metadata": {
        "id": "8a597697"
      },
      "outputs": [],
      "source": [
        "def plot_distributions(notes: pd.DataFrame, drop_percentile=2.5):\n",
        "  plt.figure(figsize=[15, 5])\n",
        "  plt.subplot(1, 3, 1)\n",
        "  sns.histplot(notes, x=\"pitch\", bins=20)\n",
        "\n",
        "  plt.subplot(1, 3, 2)\n",
        "  max_step = np.percentile(notes['step'], 100 - drop_percentile)\n",
        "  sns.histplot(notes, x=\"step\", bins=np.linspace(0, max_step, 21))\n",
        "\n",
        "  plt.subplot(1, 3, 3)\n",
        "  max_duration = np.percentile(notes['duration'], 100 - drop_percentile)\n",
        "  sns.histplot(notes, x=\"duration\", bins=np.linspace(0, max_duration, 21))"
      ]
    },
    {
      "cell_type": "code",
      "execution_count": 120,
      "id": "a96f5a05",
      "metadata": {
        "id": "a96f5a05"
      },
      "outputs": [],
      "source": [
        "def notes_to_midi(\n",
        "  notes: pd.DataFrame,\n",
        "  out_file: str, \n",
        "  instrument_name: str,\n",
        "  velocity: int = 100,  # note loudness\n",
        ") -> pretty_midi.PrettyMIDI:\n",
        "\n",
        "  pm = pretty_midi.PrettyMIDI()\n",
        "  instrument = pretty_midi.Instrument(\n",
        "      program=pretty_midi.instrument_name_to_program(\n",
        "          instrument_name))\n",
        "\n",
        "  prev_start = 0\n",
        "  for i, note in notes.iterrows():\n",
        "    start = float(prev_start + note['step'])\n",
        "    end = float(start + note['duration'])\n",
        "    note = pretty_midi.Note(\n",
        "        velocity=velocity,\n",
        "        pitch=int(note['pitch']),\n",
        "        start=start,\n",
        "        end=end,\n",
        "    )\n",
        "    instrument.notes.append(note)\n",
        "    prev_start = start\n",
        "\n",
        "  pm.instruments.append(instrument)\n",
        "  pm.write(out_file)\n",
        "  return pm"
      ]
    },
    {
      "cell_type": "code",
      "execution_count": 121,
      "id": "d1829675",
      "metadata": {
        "id": "d1829675"
      },
      "outputs": [],
      "source": [
        "# TODO : Add padding on each piano records \n",
        "# TODO : Discuss/Ask about scaling for duration, steps \n",
        "\n",
        "def create_sequences(\n",
        "    dataset: tf.data.Dataset, \n",
        "    seq_length: int,\n",
        "    vocab_size = 128,\n",
        ") -> tf.data.Dataset:\n",
        "  \"\"\"Returns TF Dataset of sequence and label examples.\"\"\"\n",
        "  seq_length = seq_length+1\n",
        "\n",
        "  # Take 1 extra for the labels = targets = predicted notes\n",
        "  # shift : spacing between two windows\n",
        "  # stride : inside a given window, spacing between two notes ==> we don't want to skip notes so we take stride = 1*\n",
        "  # drop_remainder : representing whether the last windows should be dropped if their size is smaller than size\n",
        "    \n",
        "  windows = dataset.window(seq_length, shift=1, stride=1,\n",
        "                              drop_remainder=True)\n",
        "\n",
        "  # `flat_map` flattens the\" dataset of datasets\" into a dataset of tensors\n",
        "  flatten = lambda x: x.batch(seq_length, drop_remainder=True)\n",
        "  sequences = windows.flat_map(flatten)\n",
        "\n",
        "  # Normalize note pitch\n",
        "  def scale_pitch(x):\n",
        "    x = x/[vocab_size,1.0,1.0]\n",
        "    return x\n",
        "\n",
        "  # Split the labels\n",
        "  def split_labels(sequences):\n",
        "    inputs = sequences[:-1]\n",
        "    labels_dense = sequences[-1]\n",
        "    labels = {key:labels_dense[i] for i,key in enumerate(key_order)}\n",
        "\n",
        "    return scale_pitch(inputs), labels\n",
        "\n",
        "  return sequences.map(split_labels, num_parallel_calls=tf.data.AUTOTUNE)"
      ]
    },
    {
      "cell_type": "code",
      "execution_count": 122,
      "id": "674844f7",
      "metadata": {
        "id": "674844f7"
      },
      "outputs": [],
      "source": [
        "def mse_with_positive_pressure(y_true: tf.Tensor, y_pred: tf.Tensor):\n",
        "  mse = (y_true - y_pred) ** 2\n",
        "  positive_pressure = 10 * tf.maximum(-y_pred, 0.0)\n",
        "  return tf.reduce_mean(mse + positive_pressure)"
      ]
    },
    {
      "cell_type": "code",
      "execution_count": 123,
      "id": "327d511c",
      "metadata": {
        "id": "327d511c"
      },
      "outputs": [],
      "source": [
        "def predict_next_note(\n",
        "    notes: np.ndarray, \n",
        "    keras_model: tf.keras.Model, \n",
        "    temperature: float = 1.0) -> int:\n",
        "  \"\"\"Generates a note IDs using a trained sequence model.\"\"\"\n",
        "\n",
        "  assert temperature > 0\n",
        "\n",
        "  # Add batch dimension\n",
        "  inputs = tf.expand_dims(notes, 0)\n",
        "\n",
        "  predictions = model.predict(inputs)\n",
        "  pitch_logits = predictions['pitch']\n",
        "  step = predictions['step']\n",
        "  duration = predictions['duration']\n",
        "\n",
        "  pitch_logits /= temperature\n",
        "  pitch = tf.random.categorical(pitch_logits, num_samples=1)\n",
        "  pitch = tf.squeeze(pitch, axis=-1)\n",
        "  duration = tf.squeeze(duration, axis=-1)\n",
        "  step = tf.squeeze(step, axis=-1)\n",
        "\n",
        "  # `step` and `duration` values should be non-negative\n",
        "  step = tf.maximum(0, step)\n",
        "  duration = tf.maximum(0, duration)\n",
        "\n",
        "  return int(pitch), float(step), float(duration)"
      ]
    },
    {
      "cell_type": "markdown",
      "id": "1dfa87d0",
      "metadata": {
        "id": "1dfa87d0"
      },
      "source": [
        "## Create the training dataset"
      ]
    },
    {
      "cell_type": "code",
      "execution_count": 124,
      "id": "9ba012cc",
      "metadata": {
        "id": "9ba012cc"
      },
      "outputs": [],
      "source": [
        "def create_train_ds_per_file(filename) :\n",
        "\n",
        "    notes = midi_to_notes(filename)\n",
        "\n",
        "    #Fetching features and transform to tensorflow dataset \n",
        "    train_notes = np.stack([notes[key] for key in key_order], axis=1) #Keeps columns of key_order and transform to numpy.ndarray format\n",
        "    notes_ds = tf.data.Dataset.from_tensor_slices(train_notes)\n",
        "\n",
        "    seq_length_temp = seq_length+1\n",
        "    #Creating windows \n",
        "    windows = notes_ds.window(seq_length_temp, shift=1, stride=1,\n",
        "                                  drop_remainder=True)\n",
        "    # `flat_map` flattens the\" dataset of datasets\" into a dataset of tensors\n",
        "    flatten = lambda x: x.batch(seq_length_temp, drop_remainder=True)\n",
        "    sequences = windows.flat_map(flatten)\n",
        "\n",
        "    # Normalize note pitch\n",
        "    def scale_pitch(x):\n",
        "        x = x/[vocab_size,1.0,1.0]\n",
        "        return x\n",
        "\n",
        "    # Split the labels\n",
        "    def split_labels(sequences):\n",
        "        inputs = sequences[:-1]\n",
        "        labels_dense = sequences[-1]\n",
        "        labels = {key:labels_dense[i] for i,key in enumerate(key_order)}\n",
        "\n",
        "        return scale_pitch(inputs), labels\n",
        "\n",
        "    seq_ds = sequences.map(split_labels, num_parallel_calls=tf.data.AUTOTUNE)\n",
        "        \n",
        "    return seq_ds "
      ]
    },
    {
      "cell_type": "code",
      "execution_count": 126,
      "id": "839cbb10",
      "metadata": {
        "id": "839cbb10"
      },
      "outputs": [],
      "source": [
        "#Concatenate all batches of sequences by instanciating on the first file\n",
        "seq_ds_all = create_train_ds_per_file(filenames[0])\n",
        "\n",
        "for filename in filenames[1:] :\n",
        "    seq_ds = create_train_ds_per_file(filename)\n",
        "    seq_ds_all = seq_ds_all.concatenate(seq_ds)\n",
        "\n"
      ]
    },
    {
      "cell_type": "code",
      "execution_count": 127,
      "id": "a50f6e39",
      "metadata": {
        "colab": {
          "base_uri": "https://localhost:8080/"
        },
        "id": "a50f6e39",
        "outputId": "6d3d75a9-a018-4f8a-eeb0-f86d8dbf6780"
      },
      "outputs": [
        {
          "data": {
            "text/plain": [
              "<PrefetchDataset element_spec=(TensorSpec(shape=(32, 25, 3), dtype=tf.float64, name=None), {'pitch': TensorSpec(shape=(32,), dtype=tf.float64, name=None), 'step': TensorSpec(shape=(32,), dtype=tf.float64, name=None), 'duration': TensorSpec(shape=(32,), dtype=tf.float64, name=None)})>"
            ]
          },
          "execution_count": 127,
          "metadata": {},
          "output_type": "execute_result"
        }
      ],
      "source": [
        "#Shuffling batches and optmizing the training dataset for CPU speed\n",
        "nb_elem_all = 247489 #HARDCODED - To discuss \n",
        "buffer_size = nb_elem_all - seq_length  # TO REDEFINE\n",
        "train_ds = (seq_ds\n",
        "            .shuffle(buffer_size)\n",
        "            .batch(batch_size, drop_remainder=True)\n",
        "            .cache()\n",
        "            .prefetch(tf.data.experimental.AUTOTUNE))\n",
        "train_ds"
      ]
    },
    {
      "cell_type": "markdown",
      "id": "ea892afb",
      "metadata": {
        "id": "ea892afb"
      },
      "source": [
        "## Create and train the model"
      ]
    },
    {
      "cell_type": "code",
      "execution_count": 128,
      "id": "79d1b042",
      "metadata": {
        "id": "79d1b042"
      },
      "outputs": [],
      "source": [
        "def build_model() :\n",
        "    \n",
        "    ###################\n",
        "    ###**STRUCTURE**###\n",
        "    ###################\n",
        "    input_shape = (seq_length, 3)\n",
        "    inputs = tf.keras.Input(input_shape)\n",
        "    x = tf.keras.layers.LSTM(128)(inputs)\n",
        "\n",
        "    outputs = {\n",
        "      'pitch': tf.keras.layers.Dense(128, name='pitch')(x),\n",
        "      'step': tf.keras.layers.Dense(1, name='step')(x),\n",
        "      'duration': tf.keras.layers.Dense(1, name='duration')(x),\n",
        "    }\n",
        "\n",
        "    model = tf.keras.Model(inputs, outputs)\n",
        "\n",
        "    loss = {\n",
        "          'pitch': tf.keras.losses.SparseCategoricalCrossentropy(\n",
        "              from_logits=True),\n",
        "          'step': mse_with_positive_pressure,\n",
        "          'duration': mse_with_positive_pressure,\n",
        "    }\n",
        "    \n",
        "    ###################\n",
        "    ###**COMPILING**###\n",
        "    ###################\n",
        "    optimizer = tf.keras.optimizers.Adam(learning_rate=learning_rate)\n",
        "\n",
        "    model.compile(\n",
        "    loss=loss,\n",
        "    loss_weights={\n",
        "        'pitch': pitch_weight,\n",
        "        'step': step_weight,\n",
        "        'duration': duration_weight,\n",
        "    },\n",
        "    optimizer=optimizer,\n",
        "    )\n",
        "\n",
        "    return model \n",
        "\n",
        "model = build_model()"
      ]
    },
    {
      "cell_type": "code",
      "execution_count": 129,
      "id": "58d23263",
      "metadata": {
        "colab": {
          "base_uri": "https://localhost:8080/"
        },
        "id": "58d23263",
        "outputId": "443e173b-922f-4ac6-ad3f-c7bd78b0014e"
      },
      "outputs": [
        {
          "name": "stdout",
          "output_type": "stream",
          "text": [
            "Model: \"model_3\"\n",
            "__________________________________________________________________________________________________\n",
            " Layer (type)                   Output Shape         Param #     Connected to                     \n",
            "==================================================================================================\n",
            " input_4 (InputLayer)           [(None, 25, 3)]      0           []                               \n",
            "                                                                                                  \n",
            " lstm_3 (LSTM)                  (None, 128)          67584       ['input_4[0][0]']                \n",
            "                                                                                                  \n",
            " duration (Dense)               (None, 1)            129         ['lstm_3[0][0]']                 \n",
            "                                                                                                  \n",
            " pitch (Dense)                  (None, 128)          16512       ['lstm_3[0][0]']                 \n",
            "                                                                                                  \n",
            " step (Dense)                   (None, 1)            129         ['lstm_3[0][0]']                 \n",
            "                                                                                                  \n",
            "==================================================================================================\n",
            "Total params: 84,354\n",
            "Trainable params: 84,354\n",
            "Non-trainable params: 0\n",
            "__________________________________________________________________________________________________\n"
          ]
        }
      ],
      "source": [
        "model.summary()"
      ]
    },
    {
      "cell_type": "code",
      "execution_count": 130,
      "id": "df498f69",
      "metadata": {
        "id": "df498f69"
      },
      "outputs": [],
      "source": [
        "callbacks = [\n",
        "    tf.keras.callbacks.ModelCheckpoint(\n",
        "        filepath='./training_checkpoints/ckpt_{epoch}',\n",
        "        save_weights_only=True),\n",
        "    tf.keras.callbacks.EarlyStopping(\n",
        "        monitor='loss',\n",
        "        patience=patience,\n",
        "        verbose=1,\n",
        "        restore_best_weights=True),\n",
        "]"
      ]
    },
    {
      "cell_type": "code",
      "execution_count": 131,
      "id": "45221967",
      "metadata": {
        "colab": {
          "base_uri": "https://localhost:8080/"
        },
        "id": "45221967",
        "outputId": "22712dfa-8f59-4188-d152-6ef170abb0a3",
        "scrolled": true
      },
      "outputs": [
        {
          "name": "stdout",
          "output_type": "stream",
          "text": [
            "Epoch 1/100\n",
            "49/49 [==============================] - 2s 7ms/step - loss: 0.2978 - duration_loss: 0.0370 - pitch_loss: 4.6788 - step_loss: 0.0269\n",
            "Epoch 2/100\n",
            "49/49 [==============================] - 0s 6ms/step - loss: 0.3084 - duration_loss: 0.0349 - pitch_loss: 4.2038 - step_loss: 0.0633\n",
            "Epoch 3/100\n",
            "49/49 [==============================] - 0s 6ms/step - loss: 0.2659 - duration_loss: 0.0318 - pitch_loss: 4.1737 - step_loss: 0.0255\n",
            "Epoch 4/100\n",
            "49/49 [==============================] - 0s 6ms/step - loss: 0.2329 - duration_loss: 0.0317 - pitch_loss: 3.5229 - step_loss: 0.0250\n",
            "Epoch 5/100\n",
            "49/49 [==============================] - 0s 6ms/step - loss: 0.2262 - duration_loss: 0.0321 - pitch_loss: 3.3780 - step_loss: 0.0252\n",
            "Epoch 6/100\n",
            "49/49 [==============================] - 0s 6ms/step - loss: 0.2231 - duration_loss: 0.0303 - pitch_loss: 3.3606 - step_loss: 0.0248\n",
            "Epoch 7/100\n",
            "49/49 [==============================] - 0s 6ms/step - loss: 0.2224 - duration_loss: 0.0301 - pitch_loss: 3.3549 - step_loss: 0.0246\n",
            "Epoch 8/100\n",
            "49/49 [==============================] - 0s 6ms/step - loss: 0.2213 - duration_loss: 0.0296 - pitch_loss: 3.3501 - step_loss: 0.0243\n",
            "Epoch 9/100\n",
            "49/49 [==============================] - 0s 6ms/step - loss: 0.2207 - duration_loss: 0.0295 - pitch_loss: 3.3474 - step_loss: 0.0239\n",
            "Epoch 10/100\n",
            "49/49 [==============================] - 0s 6ms/step - loss: 0.2219 - duration_loss: 0.0296 - pitch_loss: 3.3520 - step_loss: 0.0248\n",
            "Epoch 11/100\n",
            "49/49 [==============================] - 0s 6ms/step - loss: 0.2197 - duration_loss: 0.0287 - pitch_loss: 3.3434 - step_loss: 0.0238\n",
            "Epoch 12/100\n",
            "49/49 [==============================] - 0s 5ms/step - loss: 0.2194 - duration_loss: 0.0287 - pitch_loss: 3.3414 - step_loss: 0.0237\n",
            "Epoch 13/100\n",
            "49/49 [==============================] - 0s 6ms/step - loss: 0.2189 - duration_loss: 0.0285 - pitch_loss: 3.3390 - step_loss: 0.0234\n",
            "Epoch 14/100\n",
            "49/49 [==============================] - 0s 6ms/step - loss: 0.2179 - duration_loss: 0.0281 - pitch_loss: 3.3362 - step_loss: 0.0231\n",
            "Epoch 15/100\n",
            "49/49 [==============================] - 0s 6ms/step - loss: 0.2186 - duration_loss: 0.0286 - pitch_loss: 3.3355 - step_loss: 0.0232\n",
            "Epoch 16/100\n",
            "49/49 [==============================] - 0s 5ms/step - loss: 0.2187 - duration_loss: 0.0281 - pitch_loss: 3.3347 - step_loss: 0.0239\n",
            "Epoch 17/100\n",
            "49/49 [==============================] - 0s 6ms/step - loss: 0.2176 - duration_loss: 0.0280 - pitch_loss: 3.3334 - step_loss: 0.0229\n",
            "Epoch 18/100\n",
            "49/49 [==============================] - 0s 6ms/step - loss: 0.2190 - duration_loss: 0.0279 - pitch_loss: 3.3340 - step_loss: 0.0244\n",
            "Epoch 19/100\n",
            "49/49 [==============================] - 0s 6ms/step - loss: 0.2160 - duration_loss: 0.0274 - pitch_loss: 3.3216 - step_loss: 0.0225\n",
            "Epoch 20/100\n",
            "49/49 [==============================] - 0s 6ms/step - loss: 0.2175 - duration_loss: 0.0278 - pitch_loss: 3.3203 - step_loss: 0.0237\n",
            "Epoch 21/100\n",
            "49/49 [==============================] - 0s 5ms/step - loss: 0.2158 - duration_loss: 0.0277 - pitch_loss: 3.3011 - step_loss: 0.0231\n",
            "Epoch 22/100\n",
            "49/49 [==============================] - 0s 5ms/step - loss: 0.2144 - duration_loss: 0.0274 - pitch_loss: 3.2738 - step_loss: 0.0234\n",
            "Epoch 23/100\n",
            "49/49 [==============================] - 0s 6ms/step - loss: 0.2154 - duration_loss: 0.0276 - pitch_loss: 3.2950 - step_loss: 0.0230\n",
            "Epoch 24/100\n",
            "49/49 [==============================] - 0s 6ms/step - loss: 0.2155 - duration_loss: 0.0272 - pitch_loss: 3.2783 - step_loss: 0.0243\n",
            "Epoch 25/100\n",
            "49/49 [==============================] - 0s 6ms/step - loss: 0.2139 - duration_loss: 0.0275 - pitch_loss: 3.2593 - step_loss: 0.0235\n",
            "Epoch 26/100\n",
            "49/49 [==============================] - 0s 6ms/step - loss: 0.2117 - duration_loss: 0.0274 - pitch_loss: 3.2440 - step_loss: 0.0222\n",
            "Epoch 27/100\n",
            "49/49 [==============================] - 0s 6ms/step - loss: 0.2109 - duration_loss: 0.0272 - pitch_loss: 3.2348 - step_loss: 0.0219\n",
            "Epoch 28/100\n",
            "49/49 [==============================] - 0s 6ms/step - loss: 0.2109 - duration_loss: 0.0270 - pitch_loss: 3.2346 - step_loss: 0.0221\n",
            "Epoch 29/100\n",
            "49/49 [==============================] - 0s 5ms/step - loss: 0.2102 - duration_loss: 0.0272 - pitch_loss: 3.2260 - step_loss: 0.0217\n",
            "Epoch 30/100\n",
            "49/49 [==============================] - 0s 6ms/step - loss: 0.2110 - duration_loss: 0.0268 - pitch_loss: 3.2342 - step_loss: 0.0225\n",
            "Epoch 31/100\n",
            "49/49 [==============================] - 0s 6ms/step - loss: 0.2094 - duration_loss: 0.0270 - pitch_loss: 3.2201 - step_loss: 0.0214\n",
            "Epoch 32/100\n",
            "49/49 [==============================] - 0s 5ms/step - loss: 0.2111 - duration_loss: 0.0267 - pitch_loss: 3.2345 - step_loss: 0.0226\n",
            "Epoch 33/100\n",
            "49/49 [==============================] - 0s 5ms/step - loss: 0.2115 - duration_loss: 0.0265 - pitch_loss: 3.2272 - step_loss: 0.0236\n",
            "Epoch 34/100\n",
            "49/49 [==============================] - 0s 6ms/step - loss: 0.2115 - duration_loss: 0.0266 - pitch_loss: 3.2251 - step_loss: 0.0237\n",
            "Epoch 35/100\n",
            "49/49 [==============================] - 0s 5ms/step - loss: 0.2107 - duration_loss: 0.0264 - pitch_loss: 3.2241 - step_loss: 0.0231\n",
            "Epoch 36/100\n",
            "49/49 [==============================] - 0s 6ms/step - loss: 0.2092 - duration_loss: 0.0266 - pitch_loss: 3.2142 - step_loss: 0.0219\n",
            "Epoch 37/100\n",
            "49/49 [==============================] - 0s 6ms/step - loss: 0.2080 - duration_loss: 0.0265 - pitch_loss: 3.2063 - step_loss: 0.0212\n",
            "Epoch 38/100\n",
            "49/49 [==============================] - 0s 5ms/step - loss: 0.2110 - duration_loss: 0.0262 - pitch_loss: 3.2186 - step_loss: 0.0239\n",
            "Epoch 39/100\n",
            "49/49 [==============================] - 0s 6ms/step - loss: 0.2099 - duration_loss: 0.0262 - pitch_loss: 3.2198 - step_loss: 0.0227\n",
            "Epoch 40/100\n",
            "49/49 [==============================] - 0s 6ms/step - loss: 0.2094 - duration_loss: 0.0262 - pitch_loss: 3.2043 - step_loss: 0.0230\n",
            "Epoch 41/100\n",
            "49/49 [==============================] - 0s 6ms/step - loss: 0.2083 - duration_loss: 0.0261 - pitch_loss: 3.2028 - step_loss: 0.0220\n",
            "Epoch 42/100\n",
            "49/49 [==============================] - 0s 6ms/step - loss: 0.2074 - duration_loss: 0.0260 - pitch_loss: 3.1946 - step_loss: 0.0216\n",
            "Epoch 43/100\n",
            "49/49 [==============================] - 0s 6ms/step - loss: 0.2068 - duration_loss: 0.0261 - pitch_loss: 3.1904 - step_loss: 0.0212\n",
            "Epoch 44/100\n",
            "49/49 [==============================] - 0s 6ms/step - loss: 0.2080 - duration_loss: 0.0258 - pitch_loss: 3.1882 - step_loss: 0.0228\n",
            "Epoch 45/100\n",
            "49/49 [==============================] - 0s 6ms/step - loss: 0.2069 - duration_loss: 0.0260 - pitch_loss: 3.1856 - step_loss: 0.0217\n",
            "Epoch 46/100\n",
            "49/49 [==============================] - 0s 6ms/step - loss: 0.2058 - duration_loss: 0.0259 - pitch_loss: 3.1760 - step_loss: 0.0211\n",
            "Epoch 47/100\n",
            "49/49 [==============================] - 0s 6ms/step - loss: 0.2060 - duration_loss: 0.0259 - pitch_loss: 3.1748 - step_loss: 0.0214\n",
            "Epoch 48/100\n",
            "49/49 [==============================] - 0s 6ms/step - loss: 0.2056 - duration_loss: 0.0258 - pitch_loss: 3.1702 - step_loss: 0.0213\n",
            "Epoch 49/100\n",
            "49/49 [==============================] - 0s 6ms/step - loss: 0.2059 - duration_loss: 0.0257 - pitch_loss: 3.1679 - step_loss: 0.0218\n",
            "Epoch 50/100\n",
            "49/49 [==============================] - 0s 6ms/step - loss: 0.2042 - duration_loss: 0.0257 - pitch_loss: 3.1528 - step_loss: 0.0208\n",
            "Epoch 51/100\n",
            "49/49 [==============================] - 0s 6ms/step - loss: 0.2046 - duration_loss: 0.0255 - pitch_loss: 3.1524 - step_loss: 0.0215\n",
            "Epoch 52/100\n",
            "49/49 [==============================] - 0s 6ms/step - loss: 0.2038 - duration_loss: 0.0255 - pitch_loss: 3.1444 - step_loss: 0.0211\n",
            "Epoch 53/100\n",
            "49/49 [==============================] - 0s 6ms/step - loss: 0.2052 - duration_loss: 0.0256 - pitch_loss: 3.1491 - step_loss: 0.0222\n",
            "Epoch 54/100\n",
            "49/49 [==============================] - 0s 6ms/step - loss: 0.2041 - duration_loss: 0.0256 - pitch_loss: 3.1477 - step_loss: 0.0212\n",
            "Epoch 55/100\n",
            "49/49 [==============================] - 0s 6ms/step - loss: 0.2042 - duration_loss: 0.0255 - pitch_loss: 3.1390 - step_loss: 0.0218\n",
            "Epoch 56/100\n",
            "49/49 [==============================] - 0s 6ms/step - loss: 0.2030 - duration_loss: 0.0252 - pitch_loss: 3.1270 - step_loss: 0.0215\n",
            "Epoch 57/100\n",
            "49/49 [==============================] - 0s 6ms/step - loss: 0.2023 - duration_loss: 0.0254 - pitch_loss: 3.1260 - step_loss: 0.0206\n",
            "Epoch 58/100\n",
            "49/49 [==============================] - 0s 6ms/step - loss: 0.2028 - duration_loss: 0.0252 - pitch_loss: 3.1242 - step_loss: 0.0214\n",
            "Epoch 59/100\n",
            "49/49 [==============================] - 0s 5ms/step - loss: 0.2018 - duration_loss: 0.0250 - pitch_loss: 3.1160 - step_loss: 0.0210\n",
            "Epoch 60/100\n",
            "49/49 [==============================] - 0s 6ms/step - loss: 0.2040 - duration_loss: 0.0250 - pitch_loss: 3.1191 - step_loss: 0.0231\n",
            "Epoch 61/100\n",
            "49/49 [==============================] - 0s 6ms/step - loss: 0.2021 - duration_loss: 0.0247 - pitch_loss: 3.1131 - step_loss: 0.0218\n",
            "Epoch 62/100\n",
            "49/49 [==============================] - 0s 6ms/step - loss: 0.1998 - duration_loss: 0.0248 - pitch_loss: 3.0875 - step_loss: 0.0206\n",
            "Epoch 63/100\n",
            "49/49 [==============================] - 0s 6ms/step - loss: 0.1989 - duration_loss: 0.0249 - pitch_loss: 3.0677 - step_loss: 0.0206\n",
            "Epoch 64/100\n",
            "49/49 [==============================] - 0s 6ms/step - loss: 0.1991 - duration_loss: 0.0246 - pitch_loss: 3.0808 - step_loss: 0.0205\n",
            "Epoch 65/100\n",
            "49/49 [==============================] - 0s 6ms/step - loss: 0.1991 - duration_loss: 0.0245 - pitch_loss: 3.0637 - step_loss: 0.0214\n",
            "Epoch 66/100\n",
            "49/49 [==============================] - 0s 6ms/step - loss: 0.1985 - duration_loss: 0.0243 - pitch_loss: 3.0594 - step_loss: 0.0212\n",
            "Epoch 67/100\n",
            "49/49 [==============================] - 0s 6ms/step - loss: 0.1978 - duration_loss: 0.0244 - pitch_loss: 3.0439 - step_loss: 0.0212\n",
            "Epoch 68/100\n",
            "49/49 [==============================] - 0s 6ms/step - loss: 0.1971 - duration_loss: 0.0240 - pitch_loss: 3.0498 - step_loss: 0.0206\n",
            "Epoch 69/100\n",
            "49/49 [==============================] - 0s 6ms/step - loss: 0.1951 - duration_loss: 0.0239 - pitch_loss: 3.0290 - step_loss: 0.0198\n",
            "Epoch 70/100\n",
            "49/49 [==============================] - 0s 6ms/step - loss: 0.1965 - duration_loss: 0.0238 - pitch_loss: 3.0415 - step_loss: 0.0206\n",
            "Epoch 71/100\n",
            "49/49 [==============================] - 0s 6ms/step - loss: 0.1940 - duration_loss: 0.0237 - pitch_loss: 3.0044 - step_loss: 0.0201\n",
            "Epoch 72/100\n",
            "49/49 [==============================] - 0s 6ms/step - loss: 0.1929 - duration_loss: 0.0236 - pitch_loss: 2.9840 - step_loss: 0.0201\n",
            "Epoch 73/100\n",
            "49/49 [==============================] - 0s 6ms/step - loss: 0.1968 - duration_loss: 0.0235 - pitch_loss: 3.0170 - step_loss: 0.0225\n",
            "Epoch 74/100\n",
            "49/49 [==============================] - 0s 7ms/step - loss: 0.1919 - duration_loss: 0.0233 - pitch_loss: 2.9688 - step_loss: 0.0202\n",
            "Epoch 75/100\n",
            "49/49 [==============================] - 0s 6ms/step - loss: 0.1927 - duration_loss: 0.0235 - pitch_loss: 2.9806 - step_loss: 0.0202\n",
            "Epoch 76/100\n",
            "49/49 [==============================] - 0s 6ms/step - loss: 0.1892 - duration_loss: 0.0227 - pitch_loss: 2.9448 - step_loss: 0.0193\n",
            "Epoch 77/100\n",
            "49/49 [==============================] - 0s 6ms/step - loss: 0.1888 - duration_loss: 0.0225 - pitch_loss: 2.9360 - step_loss: 0.0195\n",
            "Epoch 78/100\n",
            "49/49 [==============================] - 0s 6ms/step - loss: 0.1886 - duration_loss: 0.0225 - pitch_loss: 2.9253 - step_loss: 0.0199\n",
            "Epoch 79/100\n",
            "49/49 [==============================] - 0s 6ms/step - loss: 0.1886 - duration_loss: 0.0225 - pitch_loss: 2.9206 - step_loss: 0.0201\n",
            "Epoch 80/100\n",
            "49/49 [==============================] - 0s 6ms/step - loss: 0.1854 - duration_loss: 0.0222 - pitch_loss: 2.8934 - step_loss: 0.0185\n",
            "Epoch 81/100\n",
            "49/49 [==============================] - 0s 6ms/step - loss: 0.1856 - duration_loss: 0.0224 - pitch_loss: 2.8775 - step_loss: 0.0194\n",
            "Epoch 82/100\n",
            "49/49 [==============================] - 0s 6ms/step - loss: 0.1845 - duration_loss: 0.0220 - pitch_loss: 2.8678 - step_loss: 0.0191\n",
            "Epoch 83/100\n",
            "49/49 [==============================] - 0s 6ms/step - loss: 0.1825 - duration_loss: 0.0221 - pitch_loss: 2.8434 - step_loss: 0.0182\n",
            "Epoch 84/100\n",
            "49/49 [==============================] - 0s 6ms/step - loss: 0.1818 - duration_loss: 0.0216 - pitch_loss: 2.8337 - step_loss: 0.0185\n",
            "Epoch 85/100\n",
            "49/49 [==============================] - 0s 6ms/step - loss: 0.1825 - duration_loss: 0.0220 - pitch_loss: 2.8307 - step_loss: 0.0190\n",
            "Epoch 86/100\n",
            "49/49 [==============================] - 0s 6ms/step - loss: 0.1811 - duration_loss: 0.0214 - pitch_loss: 2.8129 - step_loss: 0.0191\n",
            "Epoch 87/100\n",
            "49/49 [==============================] - 0s 6ms/step - loss: 0.1831 - duration_loss: 0.0213 - pitch_loss: 2.8234 - step_loss: 0.0206\n",
            "Epoch 88/100\n",
            "49/49 [==============================] - 1s 11ms/step - loss: 0.1793 - duration_loss: 0.0214 - pitch_loss: 2.7982 - step_loss: 0.0180\n",
            "Epoch 89/100\n",
            "49/49 [==============================] - 0s 6ms/step - loss: 0.1802 - duration_loss: 0.0220 - pitch_loss: 2.7931 - step_loss: 0.0185\n",
            "Epoch 90/100\n",
            "49/49 [==============================] - 0s 6ms/step - loss: 0.1800 - duration_loss: 0.0219 - pitch_loss: 2.7815 - step_loss: 0.0190\n",
            "Epoch 91/100\n",
            "49/49 [==============================] - 0s 6ms/step - loss: 0.1800 - duration_loss: 0.0211 - pitch_loss: 2.7935 - step_loss: 0.0192\n",
            "Epoch 92/100\n",
            "49/49 [==============================] - 0s 6ms/step - loss: 0.1774 - duration_loss: 0.0211 - pitch_loss: 2.7496 - step_loss: 0.0188\n",
            "Epoch 93/100\n",
            "49/49 [==============================] - 0s 7ms/step - loss: 0.1752 - duration_loss: 0.0207 - pitch_loss: 2.7491 - step_loss: 0.0171\n",
            "Epoch 94/100\n",
            "49/49 [==============================] - 0s 6ms/step - loss: 0.1745 - duration_loss: 0.0205 - pitch_loss: 2.7209 - step_loss: 0.0180\n",
            "Epoch 95/100\n",
            "49/49 [==============================] - 0s 6ms/step - loss: 0.1740 - duration_loss: 0.0201 - pitch_loss: 2.7296 - step_loss: 0.0174\n",
            "Epoch 96/100\n",
            "49/49 [==============================] - 0s 5ms/step - loss: 0.1755 - duration_loss: 0.0206 - pitch_loss: 2.7431 - step_loss: 0.0178\n",
            "Epoch 97/100\n",
            "49/49 [==============================] - 0s 6ms/step - loss: 0.1736 - duration_loss: 0.0205 - pitch_loss: 2.7102 - step_loss: 0.0176\n",
            "Epoch 98/100\n",
            "49/49 [==============================] - 0s 6ms/step - loss: 0.1727 - duration_loss: 0.0196 - pitch_loss: 2.7052 - step_loss: 0.0178\n",
            "Epoch 99/100\n",
            "49/49 [==============================] - 0s 6ms/step - loss: 0.1700 - duration_loss: 0.0195 - pitch_loss: 2.6609 - step_loss: 0.0174\n",
            "Epoch 100/100\n",
            "49/49 [==============================] - 0s 6ms/step - loss: 0.1718 - duration_loss: 0.0195 - pitch_loss: 2.6869 - step_loss: 0.0180\n",
            "CPU times: user 35 s, sys: 3.2 s, total: 38.2 s\n",
            "Wall time: 34.1 s\n"
          ]
        }
      ],
      "source": [
        "%%time\n",
        "history = model.fit(\n",
        "    train_ds,\n",
        "    epochs=epochs,\n",
        "    callbacks=callbacks,\n",
        ")"
      ]
    },
    {
      "cell_type": "code",
      "execution_count": 132,
      "id": "e99b14d0",
      "metadata": {
        "colab": {
          "base_uri": "https://localhost:8080/",
          "height": 265
        },
        "id": "e99b14d0",
        "outputId": "63b90a53-ad61-4837-a16b-98583f2de325"
      },
      "outputs": [
        {
          "data": {
            "image/png": "[encoded data removed]",
            "text/plain": [
              "<Figure size 432x288 with 1 Axes>"
            ]
          },
          "metadata": {
            "needs_background": "light"
          },
          "output_type": "display_data"
        }
      ],
      "source": [
        "plt.plot(history.epoch, history.history['loss'], label='total loss')\n",
        "plt.show()"
      ]
    },
    {
      "cell_type": "markdown",
      "id": "e3428699",
      "metadata": {
        "id": "e3428699"
      },
      "source": [
        "## Generate notes"
      ]
    },
    {
      "cell_type": "code",
      "execution_count": 134,
      "id": "2544b946",
      "metadata": {
        "colab": {
          "base_uri": "https://localhost:8080/"
        },
        "id": "2544b946",
        "outputId": "9701ebcc-7c3d-47ea-bf54-cf2b68f5d9b0"
      },
      "outputs": [
        {
          "name": "stdout",
          "output_type": "stream",
          "text": [
            "1/1 [==============================] - 0s 19ms/step\n",
            "1/1 [==============================] - 0s 15ms/step\n",
            "1/1 [==============================] - 0s 17ms/step\n",
            "1/1 [==============================] - 0s 16ms/step\n",
            "1/1 [==============================] - 0s 16ms/step\n",
            "1/1 [==============================] - 0s 19ms/step\n",
            "1/1 [==============================] - 0s 17ms/step\n",
            "1/1 [==============================] - 0s 17ms/step\n",
            "1/1 [==============================] - 0s 16ms/step\n",
            "1/1 [==============================] - 0s 17ms/step\n",
            "1/1 [==============================] - 0s 16ms/step\n",
            "1/1 [==============================] - 0s 16ms/step\n",
            "1/1 [==============================] - 0s 17ms/step\n",
            "1/1 [==============================] - 0s 16ms/step\n",
            "1/1 [==============================] - 0s 16ms/step\n",
            "1/1 [==============================] - 0s 15ms/step\n",
            "1/1 [==============================] - 0s 15ms/step\n",
            "1/1 [==============================] - 0s 19ms/step\n",
            "1/1 [==============================] - 0s 17ms/step\n",
            "1/1 [==============================] - 0s 19ms/step\n",
            "1/1 [==============================] - 0s 15ms/step\n",
            "1/1 [==============================] - 0s 17ms/step\n",
            "1/1 [==============================] - 0s 17ms/step\n",
            "1/1 [==============================] - 0s 16ms/step\n",
            "1/1 [==============================] - 0s 16ms/step\n",
            "1/1 [==============================] - 0s 14ms/step\n",
            "1/1 [==============================] - 0s 17ms/step\n",
            "1/1 [==============================] - 0s 15ms/step\n",
            "1/1 [==============================] - 0s 20ms/step\n",
            "1/1 [==============================] - 0s 16ms/step\n",
            "1/1 [==============================] - 0s 17ms/step\n",
            "1/1 [==============================] - 0s 24ms/step\n",
            "1/1 [==============================] - 0s 18ms/step\n",
            "1/1 [==============================] - 0s 17ms/step\n",
            "1/1 [==============================] - 0s 17ms/step\n",
            "1/1 [==============================] - 0s 18ms/step\n",
            "1/1 [==============================] - 0s 17ms/step\n",
            "1/1 [==============================] - 0s 17ms/step\n",
            "1/1 [==============================] - 0s 21ms/step\n",
            "1/1 [==============================] - 0s 18ms/step\n",
            "1/1 [==============================] - 0s 24ms/step\n",
            "1/1 [==============================] - 0s 17ms/step\n",
            "1/1 [==============================] - 0s 16ms/step\n",
            "1/1 [==============================] - 0s 17ms/step\n",
            "1/1 [==============================] - 0s 16ms/step\n",
            "1/1 [==============================] - 0s 18ms/step\n",
            "1/1 [==============================] - 0s 16ms/step\n",
            "1/1 [==============================] - 0s 16ms/step\n",
            "1/1 [==============================] - 0s 19ms/step\n",
            "1/1 [==============================] - 0s 16ms/step\n",
            "1/1 [==============================] - 0s 15ms/step\n",
            "1/1 [==============================] - 0s 16ms/step\n",
            "1/1 [==============================] - 0s 18ms/step\n",
            "1/1 [==============================] - 0s 15ms/step\n",
            "1/1 [==============================] - 0s 16ms/step\n",
            "1/1 [==============================] - 0s 19ms/step\n",
            "1/1 [==============================] - 0s 17ms/step\n",
            "1/1 [==============================] - 0s 16ms/step\n",
            "1/1 [==============================] - 0s 16ms/step\n",
            "1/1 [==============================] - 0s 18ms/step\n",
            "1/1 [==============================] - 0s 19ms/step\n",
            "1/1 [==============================] - 0s 23ms/step\n",
            "1/1 [==============================] - 0s 19ms/step\n",
            "1/1 [==============================] - 0s 17ms/step\n",
            "1/1 [==============================] - 0s 20ms/step\n",
            "1/1 [==============================] - 0s 19ms/step\n",
            "1/1 [==============================] - 0s 18ms/step\n",
            "1/1 [==============================] - 0s 16ms/step\n",
            "1/1 [==============================] - 0s 18ms/step\n",
            "1/1 [==============================] - 0s 24ms/step\n",
            "1/1 [==============================] - 0s 18ms/step\n",
            "1/1 [==============================] - 0s 19ms/step\n",
            "1/1 [==============================] - 0s 19ms/step\n",
            "1/1 [==============================] - 0s 18ms/step\n",
            "1/1 [==============================] - 0s 17ms/step\n",
            "1/1 [==============================] - 0s 20ms/step\n",
            "1/1 [==============================] - 0s 18ms/step\n",
            "1/1 [==============================] - 0s 18ms/step\n",
            "1/1 [==============================] - 0s 17ms/step\n",
            "1/1 [==============================] - 0s 20ms/step\n",
            "1/1 [==============================] - 0s 17ms/step\n",
            "1/1 [==============================] - 0s 18ms/step\n",
            "1/1 [==============================] - 0s 18ms/step\n",
            "1/1 [==============================] - 0s 18ms/step\n",
            "1/1 [==============================] - 0s 16ms/step\n",
            "1/1 [==============================] - 0s 15ms/step\n",
            "1/1 [==============================] - 0s 20ms/step\n",
            "1/1 [==============================] - 0s 16ms/step\n",
            "1/1 [==============================] - 0s 16ms/step\n",
            "1/1 [==============================] - 0s 18ms/step\n",
            "1/1 [==============================] - 0s 16ms/step\n",
            "1/1 [==============================] - 0s 20ms/step\n",
            "1/1 [==============================] - 0s 52ms/step\n",
            "1/1 [==============================] - 0s 25ms/step\n",
            "1/1 [==============================] - 0s 30ms/step\n",
            "1/1 [==============================] - 0s 49ms/step\n",
            "1/1 [==============================] - 0s 42ms/step\n",
            "1/1 [==============================] - 0s 44ms/step\n",
            "1/1 [==============================] - 0s 24ms/step\n",
            "1/1 [==============================] - 0s 84ms/step\n",
            "1/1 [==============================] - 0s 51ms/step\n",
            "1/1 [==============================] - 0s 39ms/step\n",
            "1/1 [==============================] - 0s 63ms/step\n",
            "1/1 [==============================] - 0s 29ms/step\n",
            "1/1 [==============================] - 0s 53ms/step\n",
            "1/1 [==============================] - 0s 25ms/step\n",
            "1/1 [==============================] - 0s 39ms/step\n",
            "1/1 [==============================] - 0s 41ms/step\n",
            "1/1 [==============================] - 0s 35ms/step\n",
            "1/1 [==============================] - 0s 100ms/step\n",
            "1/1 [==============================] - 0s 46ms/step\n",
            "1/1 [==============================] - 0s 81ms/step\n",
            "1/1 [==============================] - 0s 30ms/step\n",
            "1/1 [==============================] - 0s 64ms/step\n",
            "1/1 [==============================] - 0s 62ms/step\n",
            "1/1 [==============================] - 0s 56ms/step\n",
            "1/1 [==============================] - 0s 72ms/step\n",
            "1/1 [==============================] - 0s 84ms/step\n",
            "1/1 [==============================] - 0s 53ms/step\n",
            "1/1 [==============================] - 0s 30ms/step\n"
          ]
        }
      ],
      "source": [
        "temperature = temperature\n",
        "num_predictions = 120\n",
        "\n",
        "sample_notes = np.stack([raw_notes[key] for key in key_order], axis=1)\n",
        "\n",
        "# The initial sequence of notes; pitch is normalized similar to training\n",
        "# sequences\n",
        "input_notes = (\n",
        "    sample_notes[:seq_length] / np.array([vocab_size, 1, 1]))\n",
        "\n",
        "generated_notes = []\n",
        "prev_start = 0\n",
        "for _ in range(num_predictions):\n",
        "  pitch, step, duration = predict_next_note(input_notes, model, temperature)\n",
        "  start = prev_start + step\n",
        "  end = start + duration\n",
        "  input_note = (pitch, step, duration)\n",
        "  generated_notes.append((*input_note, start, end))\n",
        "  input_notes = np.delete(input_notes, 0, axis=0)\n",
        "  input_notes = np.append(input_notes, np.expand_dims(input_note, 0), axis=0)\n",
        "  prev_start = start\n",
        "\n",
        "generated_notes = pd.DataFrame(\n",
        "    generated_notes, columns=(*key_order, 'start', 'end'))"
      ]
    },
    {
      "cell_type": "code",
      "execution_count": 135,
      "id": "b1946111",
      "metadata": {
        "colab": {
          "base_uri": "https://localhost:8080/",
          "height": 206
        },
        "id": "b1946111",
        "outputId": "3ae44f5d-c264-4760-b095-40481907f951"
      },
      "outputs": [
        {
          "data": {
            "text/html": [
              "\n",
              "  <div id=\"df-875fdff8-2458-41b8-92d2-8b3ecdcc54e5\">\n",
              "    <div class=\"colab-df-container\">\n",
              "      <div>\n",
              "<style scoped>\n",
              "    .dataframe tbody tr th:only-of-type {\n",
              "        vertical-align: middle;\n",
              "    }\n",
              "\n",
              "    .dataframe tbody tr th {\n",
              "        vertical-align: top;\n",
              "    }\n",
              "\n",
              "    .dataframe thead th {\n",
              "        text-align: right;\n",
              "    }\n",
              "</style>\n",
              "<table border=\"1\" class=\"dataframe\">\n",
              "  <thead>\n",
              "    <tr style=\"text-align: right;\">\n",
              "      <th></th>\n",
              "      <th>pitch</th>\n",
              "      <th>step</th>\n",
              "      <th>duration</th>\n",
              "      <th>start</th>\n",
              "      <th>end</th>\n",
              "    </tr>\n",
              "  </thead>\n",
              "  <tbody>\n",
              "    <tr>\n",
              "      <th>0</th>\n",
              "      <td>55</td>\n",
              "      <td>0.350186</td>\n",
              "      <td>0.839716</td>\n",
              "      <td>0.350186</td>\n",
              "      <td>1.189901</td>\n",
              "    </tr>\n",
              "    <tr>\n",
              "      <th>1</th>\n",
              "      <td>72</td>\n",
              "      <td>0.589285</td>\n",
              "      <td>3.009212</td>\n",
              "      <td>0.939471</td>\n",
              "      <td>3.948683</td>\n",
              "    </tr>\n",
              "    <tr>\n",
              "      <th>2</th>\n",
              "      <td>55</td>\n",
              "      <td>0.566126</td>\n",
              "      <td>3.256825</td>\n",
              "      <td>1.505597</td>\n",
              "      <td>4.762423</td>\n",
              "    </tr>\n",
              "    <tr>\n",
              "      <th>3</th>\n",
              "      <td>68</td>\n",
              "      <td>0.480643</td>\n",
              "      <td>3.323794</td>\n",
              "      <td>1.986241</td>\n",
              "      <td>5.310035</td>\n",
              "    </tr>\n",
              "    <tr>\n",
              "      <th>4</th>\n",
              "      <td>64</td>\n",
              "      <td>0.527632</td>\n",
              "      <td>3.306801</td>\n",
              "      <td>2.513872</td>\n",
              "      <td>5.820673</td>\n",
              "    </tr>\n",
              "  </tbody>\n",
              "</table>\n",
              "</div>\n",
              "      <button class=\"colab-df-convert\" onclick=\"convertToInteractive('df-875fdff8-2458-41b8-92d2-8b3ecdcc54e5')\"\n",
              "              title=\"Convert this dataframe to an interactive table.\"\n",
              "              style=\"display:none;\">\n",
              "        \n",
              "  <svg xmlns=\"http://www.w3.org/2000/svg\" height=\"24px\"viewBox=\"0 0 24 24\"\n",
              "       width=\"24px\">\n",
              "    <path d=\"M0 0h24v24H0V0z\" fill=\"none\"/>\n",
              "    <path d=\"M18.56 5.44l.94 2.06.94-2.06 2.06-.94-2.06-.94-.94-2.06-.94 2.06-2.06.94zm-11 1L8.5 8.5l.94-2.06 2.06-.94-2.06-.94L8.5 2.5l-.94 2.06-2.06.94zm10 10l.94 2.06.94-2.06 2.06-.94-2.06-.94-.94-2.06-.94 2.06-2.06.94z\"/><path d=\"M17.41 7.96l-1.37-1.37c-.4-.4-.92-.59-1.43-.59-.52 0-1.04.2-1.43.59L10.3 9.45l-7.72 7.72c-.78.78-.78 2.05 0 2.83L4 21.41c.39.39.9.59 1.41.59.51 0 1.02-.2 1.41-.59l7.78-7.78 2.81-2.81c.8-.78.8-2.07 0-2.86zM5.41 20L4 18.59l7.72-7.72 1.47 1.35L5.41 20z\"/>\n",
              "  </svg>\n",
              "      </button>\n",
              "      \n",
              "  <style>\n",
              "    .colab-df-container {\n",
              "      display:flex;\n",
              "      flex-wrap:wrap;\n",
              "      gap: 12px;\n",
              "    }\n",
              "\n",
              "    .colab-df-convert {\n",
              "      background-color: #E8F0FE;\n",
              "      border: none;\n",
              "      border-radius: 50%;\n",
              "      cursor: pointer;\n",
              "      display: none;\n",
              "      fill: #1967D2;\n",
              "      height: 32px;\n",
              "      padding: 0 0 0 0;\n",
              "      width: 32px;\n",
              "    }\n",
              "\n",
              "    .colab-df-convert:hover {\n",
              "      background-color: #E2EBFA;\n",
              "      box-shadow: 0px 1px 2px rgba(60, 64, 67, 0.3), 0px 1px 3px 1px rgba(60, 64, 67, 0.15);\n",
              "      fill: #174EA6;\n",
              "    }\n",
              "\n",
              "    [theme=dark] .colab-df-convert {\n",
              "      background-color: #3B4455;\n",
              "      fill: #D2E3FC;\n",
              "    }\n",
              "\n",
              "    [theme=dark] .colab-df-convert:hover {\n",
              "      background-color: #434B5C;\n",
              "      box-shadow: 0px 1px 3px 1px rgba(0, 0, 0, 0.15);\n",
              "      filter: drop-shadow(0px 1px 2px rgba(0, 0, 0, 0.3));\n",
              "      fill: #FFFFFF;\n",
              "    }\n",
              "  </style>\n",
              "\n",
              "      <script>\n",
              "        const buttonEl =\n",
              "          document.querySelector('#df-875fdff8-2458-41b8-92d2-8b3ecdcc54e5 button.colab-df-convert');\n",
              "        buttonEl.style.display =\n",
              "          google.colab.kernel.accessAllowed ? 'block' : 'none';\n",
              "\n",
              "        async function convertToInteractive(key) {\n",
              "          const element = document.querySelector('#df-875fdff8-2458-41b8-92d2-8b3ecdcc54e5');\n",
              "          const dataTable =\n",
              "            await google.colab.kernel.invokeFunction('convertToInteractive',\n",
              "                                                     [key], {});\n",
              "          if (!dataTable) return;\n",
              "\n",
              "          const docLinkHtml = 'Like what you see? Visit the ' +\n",
              "            '<a target=\"_blank\" href=https://colab.research.google.com/notebooks/data_table.ipynb>data table notebook</a>'\n",
              "            + ' to learn more about interactive tables.';\n",
              "          element.innerHTML = '';\n",
              "          dataTable['output_type'] = 'display_data';\n",
              "          await google.colab.output.renderOutput(dataTable, element);\n",
              "          const docLink = document.createElement('div');\n",
              "          docLink.innerHTML = docLinkHtml;\n",
              "          element.appendChild(docLink);\n",
              "        }\n",
              "      </script>\n",
              "    </div>\n",
              "  </div>\n",
              "  "
            ],
            "text/plain": [
              "   pitch      step  duration     start       end\n",
              "0     55  0.350186  0.839716  0.350186  1.189901\n",
              "1     72  0.589285  3.009212  0.939471  3.948683\n",
              "2     55  0.566126  3.256825  1.505597  4.762423\n",
              "3     68  0.480643  3.323794  1.986241  5.310035\n",
              "4     64  0.527632  3.306801  2.513872  5.820673"
            ]
          },
          "execution_count": 135,
          "metadata": {},
          "output_type": "execute_result"
        }
      ],
      "source": [
        "generated_notes.head(5)"
      ]
    },
    {
      "cell_type": "code",
      "execution_count": 136,
      "id": "99275540",
      "metadata": {
        "colab": {
          "base_uri": "https://localhost:8080/",
          "height": 17
        },
        "id": "99275540",
        "outputId": "01cacd11-85a9-4321-e218-6dae92952e92"
      },
      "outputs": [
        {
          "data": {
            "application/javascript": "\n    async function download(id, filename, size) {\n      if (!google.colab.kernel.accessAllowed) {\n        return;\n      }\n      const div = document.createElement('div');\n      const label = document.createElement('label');\n      label.textContent = `Downloading \"${filename}\": `;\n      div.appendChild(label);\n      const progress = document.createElement('progress');\n      progress.max = size;\n      div.appendChild(progress);\n      document.body.appendChild(div);\n\n      const buffers = [];\n      let downloaded = 0;\n\n      const channel = await google.colab.kernel.comms.open(id);\n      // Send a message to notify the kernel that we're ready.\n      channel.send({})\n\n      for await (const message of channel.messages) {\n        // Send a message to notify the kernel that we're ready.\n        channel.send({})\n        if (message.buffers) {\n          for (const buffer of message.buffers) {\n            buffers.push(buffer);\n            downloaded += buffer.byteLength;\n            progress.value = downloaded;\n          }\n        }\n      }\n      const blob = new Blob(buffers, {type: 'application/binary'});\n      const a = document.createElement('a');\n      a.href = window.URL.createObjectURL(blob);\n      a.download = filename;\n      div.appendChild(a);\n      a.click();\n      div.remove();\n    }\n  ",
            "text/plain": [
              "<IPython.core.display.Javascript object>"
            ]
          },
          "metadata": {},
          "output_type": "display_data"
        },
        {
          "data": {
            "application/javascript": "download(\"download_b75c01b0-ae4b-45a0-a3f4-77f5ddacfe96\", \"0.001lrate_32batch100epoch_25seqlength_from_file_nb1.mid\", 902)",
            "text/plain": [
              "<IPython.core.display.Javascript object>"
            ]
          },
          "metadata": {},
          "output_type": "display_data"
        }
      ],
      "source": [
        "out_file = f\"{learning_rate}lrate_{batch_size}batch{epochs}epoch_{seq_length}seqlength_from_file_nb{file_number}.mid\"\n",
        "out_pm = notes_to_midi(\n",
        "    generated_notes, out_file=out_file, instrument_name=instrument_name)\n",
        "#display_audio(out_pm)\n",
        "files.download(out_file)"
      ]
    },
    {
      "cell_type": "code",
      "execution_count": null,
      "id": "25ba0af0",
      "metadata": {
        "id": "25ba0af0"
      },
      "outputs": [],
      "source": [
        "plot_distributions(generated_notes)"
      ]
    }
  ],
  "metadata": {
    "accelerator": "GPU",
    "colab": {
      "collapsed_sections": [
        "d87c9ca0",
        "b8a53a57"
      ],
      "provenance": []
    },
    "gpuClass": "standard",
    "kernelspec": {
      "display_name": "Python 3 (ipykernel)",
      "language": "python",
      "name": "python3"
    },
    "language_info": {
      "codemirror_mode": {
        "name": "ipython",
        "version": 3
      },
      "file_extension": ".py",
      "mimetype": "text/x-python",
      "name": "python",
      "nbconvert_exporter": "python",
      "pygments_lexer": "ipython3",
      "version": "3.10.6"
    },
    "toc": {
      "base_numbering": 1,
      "nav_menu": {},
      "number_sections": true,
      "sideBar": true,
      "skip_h1_title": false,
      "title_cell": "Table of Contents",
      "title_sidebar": "Contents",
      "toc_cell": false,
      "toc_position": {},
      "toc_section_display": true,
      "toc_window_display": false
    }
  },
  "nbformat": 4,
  "nbformat_minor": 5
}
