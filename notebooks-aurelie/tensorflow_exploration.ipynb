{
 "cells": [
  {
   "cell_type": "code",
   "execution_count": 50,
   "metadata": {},
   "outputs": [],
   "source": [
    "import collections\n",
    "import datetime\n",
    "import fluidsynth\n",
    "import glob\n",
    "import numpy as np\n",
    "import pathlib\n",
    "import pandas as pd\n",
    "import pretty_midi\n",
    "import seaborn as sns\n",
    "import tensorflow as tf\n",
    "\n",
    "from IPython import display\n",
    "from matplotlib import pyplot as plt\n",
    "from typing import Dict, List, Optional, Sequence, Tuple\n",
    "\n",
    "import os"
   ]
  },
  {
   "cell_type": "code",
   "execution_count": 2,
   "metadata": {},
   "outputs": [],
   "source": [
    "seed = 42\n",
    "tf.random.set_seed(seed)\n",
    "np.random.seed(seed)\n",
    "\n",
    "# Sampling rate for audio playback\n",
    "_SAMPLING_RATE = 16000"
   ]
  },
  {
   "cell_type": "code",
   "execution_count": 5,
   "metadata": {},
   "outputs": [
    {
     "name": "stdout",
     "output_type": "stream",
     "text": [
      "Number of files: 38\n"
     ]
    }
   ],
   "source": [
    "data_dir = pathlib.Path('../raw_data/midi_dataset/')\n",
    "filenames = glob.glob(str(data_dir/'*.mid*'))\n",
    "print('Number of files:', len(filenames))"
   ]
  },
  {
   "cell_type": "markdown",
   "metadata": {},
   "source": [
    "### Process a MIDI file"
   ]
  },
  {
   "cell_type": "code",
   "execution_count": 6,
   "metadata": {},
   "outputs": [
    {
     "name": "stdout",
     "output_type": "stream",
     "text": [
      "../raw_data/midi_dataset/chpn_op25_e12_format0.mid\n"
     ]
    }
   ],
   "source": [
    "sample_file = filenames[1]\n",
    "print(sample_file)"
   ]
  },
  {
   "cell_type": "code",
   "execution_count": 7,
   "metadata": {},
   "outputs": [],
   "source": [
    "pm = pretty_midi.PrettyMIDI(sample_file)"
   ]
  },
  {
   "cell_type": "code",
   "execution_count": 8,
   "metadata": {},
   "outputs": [],
   "source": [
    "def display_audio(pm: pretty_midi.PrettyMIDI, seconds=30):\n",
    "  waveform = pm.fluidsynth(fs=_SAMPLING_RATE)\n",
    "  # Take a sample of the generated waveform to mitigate kernel resets\n",
    "  waveform_short = waveform[:seconds*_SAMPLING_RATE]\n",
    "  return display.Audio(waveform_short, rate=_SAMPLING_RATE)"
   ]
  },
  {
   "cell_type": "code",
   "execution_count": null,
   "metadata": {},
   "outputs": [],
   "source": [
    "#display_audio(pm)"
   ]
  },
  {
   "cell_type": "code",
   "execution_count": 10,
   "metadata": {},
   "outputs": [
    {
     "name": "stdout",
     "output_type": "stream",
     "text": [
      "Number of instruments: 1\n",
      "Instrument name: Bright Acoustic Piano\n"
     ]
    }
   ],
   "source": [
    "print('Number of instruments:', len(pm.instruments))\n",
    "instrument = pm.instruments[0]\n",
    "instrument_name = pretty_midi.program_to_instrument_name(instrument.program)\n",
    "print('Instrument name:', instrument_name)"
   ]
  },
  {
   "cell_type": "markdown",
   "metadata": {},
   "source": [
    "### Extract notes"
   ]
  },
  {
   "cell_type": "code",
   "execution_count": 11,
   "metadata": {},
   "outputs": [
    {
     "name": "stdout",
     "output_type": "stream",
     "text": [
      "0: pitch=36, note_name=C2, duration=0.1055\n",
      "1: pitch=51, note_name=D#3, duration=0.1055\n",
      "2: pitch=43, note_name=G2, duration=0.1033\n",
      "3: pitch=55, note_name=G3, duration=0.1033\n",
      "4: pitch=48, note_name=C3, duration=0.1009\n",
      "5: pitch=63, note_name=D#4, duration=0.1009\n",
      "6: pitch=48, note_name=C3, duration=0.0987\n",
      "7: pitch=63, note_name=D#4, duration=0.0987\n",
      "8: pitch=55, note_name=G3, duration=0.0973\n",
      "9: pitch=67, note_name=G4, duration=0.0973\n"
     ]
    }
   ],
   "source": [
    "for i, note in enumerate(instrument.notes[:10]):\n",
    "  note_name = pretty_midi.note_number_to_name(note.pitch)\n",
    "  duration = note.end - note.start\n",
    "  print(f'{i}: pitch={note.pitch}, note_name={note_name},'\n",
    "        f' duration={duration:.4f}')"
   ]
  },
  {
   "cell_type": "code",
   "execution_count": 12,
   "metadata": {},
   "outputs": [],
   "source": [
    "def midi_to_notes(midi_file: str) -> pd.DataFrame:\n",
    "  pm = pretty_midi.PrettyMIDI(midi_file)\n",
    "  instrument = pm.instruments[0]\n",
    "  notes = collections.defaultdict(list)\n",
    "\n",
    "  # Sort the notes by start time\n",
    "  sorted_notes = sorted(instrument.notes, key=lambda note: note.start)\n",
    "  prev_start = sorted_notes[0].start\n",
    "\n",
    "  for note in sorted_notes:\n",
    "    start = note.start\n",
    "    end = note.end\n",
    "    notes['pitch'].append(note.pitch)\n",
    "    notes['start'].append(start)\n",
    "    notes['end'].append(end)\n",
    "    notes['step'].append(start - prev_start)\n",
    "    notes['duration'].append(end - start)\n",
    "    prev_start = start\n",
    "\n",
    "  return pd.DataFrame({name: np.array(value) for name, value in notes.items()})"
   ]
  },
  {
   "cell_type": "code",
   "execution_count": 13,
   "metadata": {},
   "outputs": [
    {
     "data": {
      "text/html": [
       "<div>\n",
       "<style scoped>\n",
       "    .dataframe tbody tr th:only-of-type {\n",
       "        vertical-align: middle;\n",
       "    }\n",
       "\n",
       "    .dataframe tbody tr th {\n",
       "        vertical-align: top;\n",
       "    }\n",
       "\n",
       "    .dataframe thead th {\n",
       "        text-align: right;\n",
       "    }\n",
       "</style>\n",
       "<table border=\"1\" class=\"dataframe\">\n",
       "  <thead>\n",
       "    <tr style=\"text-align: right;\">\n",
       "      <th></th>\n",
       "      <th>pitch</th>\n",
       "      <th>start</th>\n",
       "      <th>end</th>\n",
       "      <th>step</th>\n",
       "      <th>duration</th>\n",
       "    </tr>\n",
       "  </thead>\n",
       "  <tbody>\n",
       "    <tr>\n",
       "      <th>0</th>\n",
       "      <td>36</td>\n",
       "      <td>0.000000</td>\n",
       "      <td>0.105506</td>\n",
       "      <td>0.000000</td>\n",
       "      <td>0.105506</td>\n",
       "    </tr>\n",
       "    <tr>\n",
       "      <th>1</th>\n",
       "      <td>51</td>\n",
       "      <td>0.000000</td>\n",
       "      <td>0.105506</td>\n",
       "      <td>0.000000</td>\n",
       "      <td>0.105506</td>\n",
       "    </tr>\n",
       "    <tr>\n",
       "      <th>2</th>\n",
       "      <td>43</td>\n",
       "      <td>0.106386</td>\n",
       "      <td>0.209694</td>\n",
       "      <td>0.106386</td>\n",
       "      <td>0.103308</td>\n",
       "    </tr>\n",
       "    <tr>\n",
       "      <th>3</th>\n",
       "      <td>55</td>\n",
       "      <td>0.106386</td>\n",
       "      <td>0.209694</td>\n",
       "      <td>0.000000</td>\n",
       "      <td>0.103308</td>\n",
       "    </tr>\n",
       "    <tr>\n",
       "      <th>4</th>\n",
       "      <td>48</td>\n",
       "      <td>0.210557</td>\n",
       "      <td>0.311413</td>\n",
       "      <td>0.104170</td>\n",
       "      <td>0.100856</td>\n",
       "    </tr>\n",
       "  </tbody>\n",
       "</table>\n",
       "</div>"
      ],
      "text/plain": [
       "   pitch     start       end      step  duration\n",
       "0     36  0.000000  0.105506  0.000000  0.105506\n",
       "1     51  0.000000  0.105506  0.000000  0.105506\n",
       "2     43  0.106386  0.209694  0.106386  0.103308\n",
       "3     55  0.106386  0.209694  0.000000  0.103308\n",
       "4     48  0.210557  0.311413  0.104170  0.100856"
      ]
     },
     "execution_count": 13,
     "metadata": {},
     "output_type": "execute_result"
    }
   ],
   "source": [
    "raw_notes = midi_to_notes(sample_file)\n",
    "raw_notes.head()"
   ]
  },
  {
   "cell_type": "code",
   "execution_count": 14,
   "metadata": {},
   "outputs": [
    {
     "data": {
      "text/plain": [
       "array(['C2', 'D#3', 'G2', 'G3', 'C3', 'D#4', 'C3', 'D#4', 'G3', 'G4'],\n",
       "      dtype='<U3')"
      ]
     },
     "execution_count": 14,
     "metadata": {},
     "output_type": "execute_result"
    }
   ],
   "source": [
    "get_note_names = np.vectorize(pretty_midi.note_number_to_name)\n",
    "sample_note_names = get_note_names(raw_notes['pitch'])\n",
    "sample_note_names[:10]"
   ]
  },
  {
   "cell_type": "code",
   "execution_count": 15,
   "metadata": {},
   "outputs": [],
   "source": [
    "def plot_piano_roll(notes: pd.DataFrame, count: Optional[int] = None):\n",
    "  if count:\n",
    "    title = f'First {count} notes'\n",
    "  else:\n",
    "    title = f'Whole track'\n",
    "    count = len(notes['pitch'])\n",
    "  plt.figure(figsize=(20, 4))\n",
    "  plot_pitch = np.stack([notes['pitch'], notes['pitch']], axis=0)\n",
    "  plot_start_stop = np.stack([notes['start'], notes['end']], axis=0)\n",
    "  plt.plot(\n",
    "      plot_start_stop[:, :count], plot_pitch[:, :count], color=\"b\", marker=\".\")\n",
    "  plt.xlabel('Time [s]')\n",
    "  plt.ylabel('Pitch')\n",
    "  _ = plt.title(title)"
   ]
  },
  {
   "cell_type": "code",
   "execution_count": 16,
   "metadata": {},
   "outputs": [
    {
     "data": {
      "image/png": "[encoded data removed]",
      "text/plain": [
       "<Figure size 2000x400 with 1 Axes>"
      ]
     },
     "metadata": {},
     "output_type": "display_data"
    }
   ],
   "source": [
    "plot_piano_roll(raw_notes, count=100)\n"
   ]
  },
  {
   "cell_type": "code",
   "execution_count": 17,
   "metadata": {},
   "outputs": [
    {
     "data": {
      "image/png": "[encoded data removed]",
      "text/plain": [
       "<Figure size 2000x400 with 1 Axes>"
      ]
     },
     "metadata": {},
     "output_type": "display_data"
    }
   ],
   "source": [
    "plot_piano_roll(raw_notes)\n"
   ]
  },
  {
   "cell_type": "code",
   "execution_count": 18,
   "metadata": {},
   "outputs": [],
   "source": [
    "def plot_distributions(notes: pd.DataFrame, drop_percentile=2.5):\n",
    "  plt.figure(figsize=[15, 5])\n",
    "  plt.subplot(1, 3, 1)\n",
    "  sns.histplot(notes, x=\"pitch\", bins=20)\n",
    "\n",
    "  plt.subplot(1, 3, 2)\n",
    "  max_step = np.percentile(notes['step'], 100 - drop_percentile)\n",
    "  sns.histplot(notes, x=\"step\", bins=np.linspace(0, max_step, 21))\n",
    "\n",
    "  plt.subplot(1, 3, 3)\n",
    "  max_duration = np.percentile(notes['duration'], 100 - drop_percentile)\n",
    "  sns.histplot(notes, x=\"duration\", bins=np.linspace(0, max_duration, 21))"
   ]
  },
  {
   "cell_type": "code",
   "execution_count": 19,
   "metadata": {},
   "outputs": [
    {
     "data": {
      "image/png": "[encoded data removed]",
      "text/plain": [
       "<Figure size 1500x500 with 3 Axes>"
      ]
     },
     "metadata": {},
     "output_type": "display_data"
    }
   ],
   "source": [
    "plot_distributions(raw_notes)\n"
   ]
  },
  {
   "cell_type": "markdown",
   "metadata": {},
   "source": [
    "### Create a MIDI file"
   ]
  },
  {
   "cell_type": "code",
   "execution_count": 20,
   "metadata": {},
   "outputs": [],
   "source": [
    "def notes_to_midi(\n",
    "  notes: pd.DataFrame,\n",
    "  out_file: str, \n",
    "  instrument_name: str,\n",
    "  velocity: int = 100,  # note loudness\n",
    ") -> pretty_midi.PrettyMIDI:\n",
    "\n",
    "  pm = pretty_midi.PrettyMIDI()\n",
    "  instrument = pretty_midi.Instrument(\n",
    "      program=pretty_midi.instrument_name_to_program(\n",
    "          instrument_name))\n",
    "\n",
    "  prev_start = 0\n",
    "  for i, note in notes.iterrows():\n",
    "    start = float(prev_start + note['step'])\n",
    "    end = float(start + note['duration'])\n",
    "    note = pretty_midi.Note(\n",
    "        velocity=velocity,\n",
    "        pitch=int(note['pitch']),\n",
    "        start=start,\n",
    "        end=end,\n",
    "    )\n",
    "    instrument.notes.append(note)\n",
    "    prev_start = start\n",
    "\n",
    "  pm.instruments.append(instrument)\n",
    "  pm.write(out_file)\n",
    "  return pm"
   ]
  },
  {
   "cell_type": "code",
   "execution_count": 21,
   "metadata": {},
   "outputs": [],
   "source": [
    "example_file = 'example.midi'\n",
    "example_pm = notes_to_midi(\n",
    "    raw_notes, out_file=example_file, instrument_name=instrument_name)"
   ]
  },
  {
   "cell_type": "code",
   "execution_count": 23,
   "metadata": {},
   "outputs": [],
   "source": [
    "#display_audio(example_pm)"
   ]
  },
  {
   "cell_type": "markdown",
   "metadata": {},
   "source": [
    "### Create the training dataset"
   ]
  },
  {
   "cell_type": "code",
   "execution_count": 53,
   "metadata": {},
   "outputs": [],
   "source": [
    "num_files = 38\n",
    "all_notes = []\n",
    "for f in filenames[:num_files]:\n",
    "  notes = midi_to_notes(f)\n",
    "  all_notes.append(notes)\n",
    "\n",
    "all_notes = pd.concat(all_notes)"
   ]
  },
  {
   "cell_type": "code",
   "execution_count": 54,
   "metadata": {},
   "outputs": [
    {
     "name": "stdout",
     "output_type": "stream",
     "text": [
      "Number of notes parsed: 70288\n"
     ]
    }
   ],
   "source": [
    "n_notes = len(all_notes)\n",
    "print('Number of notes parsed:', n_notes)"
   ]
  },
  {
   "cell_type": "code",
   "execution_count": 55,
   "metadata": {},
   "outputs": [],
   "source": [
    "key_order = ['pitch', 'step', 'duration']\n",
    "train_notes = np.stack([all_notes[key] for key in key_order], axis=1)"
   ]
  },
  {
   "cell_type": "code",
   "execution_count": 56,
   "metadata": {},
   "outputs": [
    {
     "data": {
      "text/plain": [
       "TensorSpec(shape=(3,), dtype=tf.float64, name=None)"
      ]
     },
     "execution_count": 56,
     "metadata": {},
     "output_type": "execute_result"
    }
   ],
   "source": [
    "notes_ds = tf.data.Dataset.from_tensor_slices(train_notes)\n",
    "notes_ds.element_spec"
   ]
  },
  {
   "cell_type": "code",
   "execution_count": 57,
   "metadata": {},
   "outputs": [],
   "source": [
    "def create_sequences(\n",
    "    dataset: tf.data.Dataset, \n",
    "    seq_length: int,\n",
    "    vocab_size = 128,\n",
    ") -> tf.data.Dataset:\n",
    "  \"\"\"Returns TF Dataset of sequence and label examples.\"\"\"\n",
    "  seq_length = seq_length+1\n",
    "\n",
    "  # Take 1 extra for the labels\n",
    "  windows = dataset.window(seq_length, shift=1, stride=1,\n",
    "                              drop_remainder=True)\n",
    "\n",
    "  # `flat_map` flattens the\" dataset of datasets\" into a dataset of tensors\n",
    "  flatten = lambda x: x.batch(seq_length, drop_remainder=True)\n",
    "  sequences = windows.flat_map(flatten)\n",
    "\n",
    "  # Normalize note pitch\n",
    "  def scale_pitch(x):\n",
    "    x = x/[vocab_size,1.0,1.0]\n",
    "    return x\n",
    "\n",
    "  # Split the labels\n",
    "  def split_labels(sequences):\n",
    "    inputs = sequences[:-1]\n",
    "    labels_dense = sequences[-1]\n",
    "    labels = {key:labels_dense[i] for i,key in enumerate(key_order)}\n",
    "\n",
    "    return scale_pitch(inputs), labels\n",
    "\n",
    "  return sequences.map(split_labels, num_parallel_calls=tf.data.AUTOTUNE)"
   ]
  },
  {
   "cell_type": "code",
   "execution_count": 58,
   "metadata": {},
   "outputs": [
    {
     "data": {
      "text/plain": [
       "(TensorSpec(shape=(25, 3), dtype=tf.float64, name=None),\n",
       " {'pitch': TensorSpec(shape=(), dtype=tf.float64, name=None),\n",
       "  'step': TensorSpec(shape=(), dtype=tf.float64, name=None),\n",
       "  'duration': TensorSpec(shape=(), dtype=tf.float64, name=None)})"
      ]
     },
     "execution_count": 58,
     "metadata": {},
     "output_type": "execute_result"
    }
   ],
   "source": [
    "seq_length = 25\n",
    "vocab_size = 128\n",
    "seq_ds = create_sequences(notes_ds, seq_length, vocab_size)\n",
    "seq_ds.element_spec"
   ]
  },
  {
   "cell_type": "code",
   "execution_count": 59,
   "metadata": {},
   "outputs": [
    {
     "name": "stdout",
     "output_type": "stream",
     "text": [
      "sequence shape: (25, 3)\n",
      "sequence elements (first 10): tf.Tensor(\n",
      "[[0.3828125  0.         0.4031175 ]\n",
      " [0.6015625  0.         0.60467625]\n",
      " [0.4375     0.4031175  0.411173  ]\n",
      " [0.5703125  0.20155875 0.20961425]\n",
      " [0.53125    0.20961425 1.5375    ]\n",
      " [0.5078125  0.         1.5375    ]\n",
      " [0.4765625  0.         1.5375    ]\n",
      " [0.4375     0.4192285  0.36075965]\n",
      " [0.4375     0.379747   0.35403745]\n",
      " [0.4375     0.372671   0.34756082]], shape=(10, 3), dtype=float64)\n",
      "\n",
      "target: {'pitch': <tf.Tensor: shape=(), dtype=float64, numpy=56.0>, 'step': <tf.Tensor: shape=(), dtype=float64, numpy=0.4031174999999996>, 'duration': <tf.Tensor: shape=(), dtype=float64, numpy=0.4110149999999999>}\n"
     ]
    }
   ],
   "source": [
    "for seq, target in seq_ds.take(1):\n",
    "  print('sequence shape:', seq.shape)\n",
    "  print('sequence elements (first 10):', seq[0: 10])\n",
    "  print()\n",
    "  print('target:', target)"
   ]
  },
  {
   "cell_type": "code",
   "execution_count": 60,
   "metadata": {},
   "outputs": [],
   "source": [
    "batch_size = 64\n",
    "buffer_size = n_notes - seq_length  # the number of items in the dataset\n",
    "train_ds = (seq_ds\n",
    "            .shuffle(buffer_size)\n",
    "            .batch(batch_size, drop_remainder=True)\n",
    "            .cache()\n",
    "            .prefetch(tf.data.experimental.AUTOTUNE))"
   ]
  },
  {
   "cell_type": "code",
   "execution_count": 61,
   "metadata": {},
   "outputs": [
    {
     "data": {
      "text/plain": [
       "(TensorSpec(shape=(64, 25, 3), dtype=tf.float64, name=None),\n",
       " {'pitch': TensorSpec(shape=(64,), dtype=tf.float64, name=None),\n",
       "  'step': TensorSpec(shape=(64,), dtype=tf.float64, name=None),\n",
       "  'duration': TensorSpec(shape=(64,), dtype=tf.float64, name=None)})"
      ]
     },
     "execution_count": 61,
     "metadata": {},
     "output_type": "execute_result"
    }
   ],
   "source": [
    "train_ds.element_spec"
   ]
  },
  {
   "cell_type": "markdown",
   "metadata": {},
   "source": [
    "### Create and train the model"
   ]
  },
  {
   "cell_type": "code",
   "execution_count": 62,
   "metadata": {},
   "outputs": [],
   "source": [
    "def mse_with_positive_pressure(y_true: tf.Tensor, y_pred: tf.Tensor):\n",
    "  mse = (y_true - y_pred) ** 2\n",
    "  positive_pressure = 10 * tf.maximum(-y_pred, 0.0)\n",
    "  return tf.reduce_mean(mse + positive_pressure)"
   ]
  },
  {
   "cell_type": "code",
   "execution_count": 63,
   "metadata": {},
   "outputs": [
    {
     "name": "stdout",
     "output_type": "stream",
     "text": [
      "Model: \"model_1\"\n",
      "__________________________________________________________________________________________________\n",
      " Layer (type)                   Output Shape         Param #     Connected to                     \n",
      "==================================================================================================\n",
      " input_2 (InputLayer)           [(None, 25, 3)]      0           []                               \n",
      "                                                                                                  \n",
      " lstm_1 (LSTM)                  (None, 128)          67584       ['input_2[0][0]']                \n",
      "                                                                                                  \n",
      " duration (Dense)               (None, 1)            129         ['lstm_1[0][0]']                 \n",
      "                                                                                                  \n",
      " pitch (Dense)                  (None, 128)          16512       ['lstm_1[0][0]']                 \n",
      "                                                                                                  \n",
      " step (Dense)                   (None, 1)            129         ['lstm_1[0][0]']                 \n",
      "                                                                                                  \n",
      "==================================================================================================\n",
      "Total params: 84,354\n",
      "Trainable params: 84,354\n",
      "Non-trainable params: 0\n",
      "__________________________________________________________________________________________________\n"
     ]
    }
   ],
   "source": [
    "input_shape = (seq_length, 3)\n",
    "learning_rate = 0.005\n",
    "\n",
    "inputs = tf.keras.Input(input_shape)\n",
    "x = tf.keras.layers.LSTM(128)(inputs)\n",
    "\n",
    "outputs = {\n",
    "  'pitch': tf.keras.layers.Dense(128, name='pitch')(x),\n",
    "  'step': tf.keras.layers.Dense(1, name='step')(x),\n",
    "  'duration': tf.keras.layers.Dense(1, name='duration')(x),\n",
    "}\n",
    "\n",
    "model = tf.keras.Model(inputs, outputs)\n",
    "\n",
    "loss = {\n",
    "      'pitch': tf.keras.losses.SparseCategoricalCrossentropy(\n",
    "          from_logits=True),\n",
    "      'step': mse_with_positive_pressure,\n",
    "      'duration': mse_with_positive_pressure,\n",
    "}\n",
    "\n",
    "optimizer = tf.keras.optimizers.Adam(learning_rate=learning_rate)\n",
    "\n",
    "model.compile(loss=loss, optimizer=optimizer)\n",
    "\n",
    "model.summary()"
   ]
  },
  {
   "cell_type": "code",
   "execution_count": 64,
   "metadata": {},
   "outputs": [
    {
     "name": "stdout",
     "output_type": "stream",
     "text": [
      "1097/1097 [==============================] - 10s 6ms/step - loss: 5.9712 - duration_loss: 0.2597 - pitch_loss: 4.8530 - step_loss: 0.8585\n"
     ]
    },
    {
     "data": {
      "text/plain": [
       "{'loss': 5.971158981323242,\n",
       " 'duration_loss': 0.2596827447414398,\n",
       " 'pitch_loss': 4.852959156036377,\n",
       " 'step_loss': 0.8585200309753418}"
      ]
     },
     "execution_count": 64,
     "metadata": {},
     "output_type": "execute_result"
    }
   ],
   "source": [
    "losses = model.evaluate(train_ds, return_dict=True)\n",
    "losses"
   ]
  },
  {
   "cell_type": "code",
   "execution_count": 65,
   "metadata": {},
   "outputs": [],
   "source": [
    "model.compile(\n",
    "    loss=loss,\n",
    "    loss_weights={\n",
    "        'pitch': 0.05,\n",
    "        'step': 1.0,\n",
    "        'duration':1.0,\n",
    "    },\n",
    "    optimizer=optimizer,\n",
    ")"
   ]
  },
  {
   "cell_type": "code",
   "execution_count": 66,
   "metadata": {},
   "outputs": [
    {
     "name": "stdout",
     "output_type": "stream",
     "text": [
      "1097/1097 [==============================] - 6s 5ms/step - loss: 1.3609 - duration_loss: 0.2597 - pitch_loss: 4.8530 - step_loss: 0.8585\n"
     ]
    },
    {
     "data": {
      "text/plain": [
       "{'loss': 1.3608506917953491,\n",
       " 'duration_loss': 0.2596827447414398,\n",
       " 'pitch_loss': 4.852959156036377,\n",
       " 'step_loss': 0.8585200309753418}"
      ]
     },
     "execution_count": 66,
     "metadata": {},
     "output_type": "execute_result"
    }
   ],
   "source": [
    "model.evaluate(train_ds, return_dict=True)"
   ]
  },
  {
   "cell_type": "code",
   "execution_count": 67,
   "metadata": {},
   "outputs": [],
   "source": [
    "callbacks = [\n",
    "    tf.keras.callbacks.ModelCheckpoint(\n",
    "        filepath='./training_checkpoints/ckpt_{epoch}',\n",
    "        save_weights_only=True),\n",
    "    tf.keras.callbacks.EarlyStopping(\n",
    "        monitor='loss',\n",
    "        patience=5,\n",
    "        verbose=1,\n",
    "        restore_best_weights=True),\n",
    "]"
   ]
  },
  {
   "cell_type": "code",
   "execution_count": 68,
   "metadata": {},
   "outputs": [
    {
     "name": "stdout",
     "output_type": "stream",
     "text": [
      "Epoch 1/100\n",
      "1097/1097 [==============================] - 16s 14ms/step - loss: 0.3208 - duration_loss: 0.0985 - pitch_loss: 4.0378 - step_loss: 0.0204\n",
      "Epoch 2/100\n",
      "1097/1097 [==============================] - 16s 14ms/step - loss: 0.3077 - duration_loss: 0.0928 - pitch_loss: 3.9366 - step_loss: 0.0180\n",
      "Epoch 3/100\n",
      "1097/1097 [==============================] - 16s 14ms/step - loss: 0.3027 - duration_loss: 0.0905 - pitch_loss: 3.8916 - step_loss: 0.0176\n",
      "Epoch 4/100\n",
      "1097/1097 [==============================] - 15s 14ms/step - loss: 0.2986 - duration_loss: 0.0882 - pitch_loss: 3.8633 - step_loss: 0.0172\n",
      "Epoch 5/100\n",
      "1097/1097 [==============================] - 15s 14ms/step - loss: 0.2935 - duration_loss: 0.0841 - pitch_loss: 3.8471 - step_loss: 0.0170\n",
      "Epoch 6/100\n",
      "1097/1097 [==============================] - 16s 14ms/step - loss: 0.2894 - duration_loss: 0.0810 - pitch_loss: 3.8346 - step_loss: 0.0167\n",
      "Epoch 7/100\n",
      "1097/1097 [==============================] - 16s 14ms/step - loss: 0.2840 - duration_loss: 0.0768 - pitch_loss: 3.8199 - step_loss: 0.0162\n",
      "Epoch 8/100\n",
      "1097/1097 [==============================] - 15s 14ms/step - loss: 0.2869 - duration_loss: 0.0801 - pitch_loss: 3.8122 - step_loss: 0.0162\n",
      "Epoch 9/100\n",
      "1097/1097 [==============================] - 15s 14ms/step - loss: 0.2823 - duration_loss: 0.0765 - pitch_loss: 3.7982 - step_loss: 0.0159\n",
      "Epoch 10/100\n",
      "1097/1097 [==============================] - 16s 14ms/step - loss: 0.2790 - duration_loss: 0.0742 - pitch_loss: 3.7851 - step_loss: 0.0156\n",
      "Epoch 11/100\n",
      "1097/1097 [==============================] - 16s 14ms/step - loss: 0.2771 - duration_loss: 0.0726 - pitch_loss: 3.7750 - step_loss: 0.0158\n",
      "Epoch 12/100\n",
      "1097/1097 [==============================] - 16s 14ms/step - loss: 0.2737 - duration_loss: 0.0702 - pitch_loss: 3.7635 - step_loss: 0.0153\n",
      "Epoch 13/100\n",
      "1097/1097 [==============================] - 16s 15ms/step - loss: 0.2749 - duration_loss: 0.0708 - pitch_loss: 3.7681 - step_loss: 0.0158\n",
      "Epoch 14/100\n",
      "1097/1097 [==============================] - 16s 15ms/step - loss: 0.2679 - duration_loss: 0.0659 - pitch_loss: 3.7364 - step_loss: 0.0152\n",
      "Epoch 15/100\n",
      "1097/1097 [==============================] - 16s 14ms/step - loss: 0.2627 - duration_loss: 0.0622 - pitch_loss: 3.7141 - step_loss: 0.0148\n",
      "Epoch 16/100\n",
      "1097/1097 [==============================] - 16s 15ms/step - loss: 0.2602 - duration_loss: 0.0607 - pitch_loss: 3.6903 - step_loss: 0.0150\n",
      "Epoch 17/100\n",
      "1097/1097 [==============================] - 16s 15ms/step - loss: 0.2550 - duration_loss: 0.0571 - pitch_loss: 3.6671 - step_loss: 0.0145\n",
      "Epoch 18/100\n",
      "1097/1097 [==============================] - 16s 15ms/step - loss: 0.2524 - duration_loss: 0.0556 - pitch_loss: 3.6486 - step_loss: 0.0144\n",
      "Epoch 19/100\n",
      "1097/1097 [==============================] - 16s 15ms/step - loss: 0.2537 - duration_loss: 0.0575 - pitch_loss: 3.6338 - step_loss: 0.0144\n",
      "Epoch 20/100\n",
      "1097/1097 [==============================] - 16s 15ms/step - loss: 0.2488 - duration_loss: 0.0546 - pitch_loss: 3.6023 - step_loss: 0.0141\n",
      "Epoch 21/100\n",
      "1097/1097 [==============================] - 16s 15ms/step - loss: 0.2438 - duration_loss: 0.0515 - pitch_loss: 3.5736 - step_loss: 0.0136\n",
      "Epoch 22/100\n",
      "1097/1097 [==============================] - 16s 15ms/step - loss: 0.2421 - duration_loss: 0.0511 - pitch_loss: 3.5436 - step_loss: 0.0138\n",
      "Epoch 23/100\n",
      "1097/1097 [==============================] - 16s 15ms/step - loss: 0.2405 - duration_loss: 0.0498 - pitch_loss: 3.5380 - step_loss: 0.0138\n",
      "Epoch 24/100\n",
      "1097/1097 [==============================] - 16s 15ms/step - loss: 0.2337 - duration_loss: 0.0456 - pitch_loss: 3.4973 - step_loss: 0.0132\n",
      "Epoch 25/100\n",
      "1097/1097 [==============================] - 16s 15ms/step - loss: 0.2311 - duration_loss: 0.0440 - pitch_loss: 3.4821 - step_loss: 0.0131\n",
      "Epoch 26/100\n",
      "1097/1097 [==============================] - 16s 15ms/step - loss: 0.2283 - duration_loss: 0.0422 - pitch_loss: 3.4624 - step_loss: 0.0129\n",
      "Epoch 27/100\n",
      "1097/1097 [==============================] - 16s 15ms/step - loss: 0.2290 - duration_loss: 0.0441 - pitch_loss: 3.4414 - step_loss: 0.0128\n",
      "Epoch 28/100\n",
      "1097/1097 [==============================] - 16s 15ms/step - loss: 0.2311 - duration_loss: 0.0455 - pitch_loss: 3.4492 - step_loss: 0.0131\n",
      "Epoch 29/100\n",
      "1097/1097 [==============================] - 16s 15ms/step - loss: 0.2253 - duration_loss: 0.0423 - pitch_loss: 3.4116 - step_loss: 0.0124\n",
      "Epoch 30/100\n",
      "1097/1097 [==============================] - 16s 15ms/step - loss: 0.2271 - duration_loss: 0.0440 - pitch_loss: 3.4146 - step_loss: 0.0124\n",
      "Epoch 31/100\n",
      "1097/1097 [==============================] - 16s 15ms/step - loss: 0.2220 - duration_loss: 0.0407 - pitch_loss: 3.3773 - step_loss: 0.0125\n",
      "Epoch 32/100\n",
      "1097/1097 [==============================] - 16s 15ms/step - loss: 0.2200 - duration_loss: 0.0400 - pitch_loss: 3.3551 - step_loss: 0.0123\n",
      "Epoch 33/100\n",
      "1097/1097 [==============================] - 16s 15ms/step - loss: 0.2146 - duration_loss: 0.0363 - pitch_loss: 3.3310 - step_loss: 0.0117\n",
      "Epoch 34/100\n",
      "1097/1097 [==============================] - 16s 15ms/step - loss: 0.2122 - duration_loss: 0.0353 - pitch_loss: 3.3076 - step_loss: 0.0115\n",
      "Epoch 35/100\n",
      "1097/1097 [==============================] - 16s 15ms/step - loss: 0.2119 - duration_loss: 0.0350 - pitch_loss: 3.3044 - step_loss: 0.0116\n",
      "Epoch 36/100\n",
      "1097/1097 [==============================] - 16s 15ms/step - loss: 0.2099 - duration_loss: 0.0345 - pitch_loss: 3.2811 - step_loss: 0.0114\n",
      "Epoch 37/100\n",
      "1097/1097 [==============================] - 16s 15ms/step - loss: 0.2083 - duration_loss: 0.0336 - pitch_loss: 3.2681 - step_loss: 0.0113\n",
      "Epoch 38/100\n",
      "1097/1097 [==============================] - 16s 15ms/step - loss: 0.2084 - duration_loss: 0.0342 - pitch_loss: 3.2533 - step_loss: 0.0115\n",
      "Epoch 39/100\n",
      "1097/1097 [==============================] - 16s 15ms/step - loss: 0.2057 - duration_loss: 0.0330 - pitch_loss: 3.2296 - step_loss: 0.0113\n",
      "Epoch 40/100\n",
      "1097/1097 [==============================] - 16s 15ms/step - loss: 0.2034 - duration_loss: 0.0313 - pitch_loss: 3.2217 - step_loss: 0.0110\n",
      "Epoch 41/100\n",
      "1097/1097 [==============================] - 16s 15ms/step - loss: 0.2047 - duration_loss: 0.0323 - pitch_loss: 3.2262 - step_loss: 0.0111\n",
      "Epoch 42/100\n",
      "1097/1097 [==============================] - 16s 15ms/step - loss: 0.2045 - duration_loss: 0.0334 - pitch_loss: 3.2033 - step_loss: 0.0109\n",
      "Epoch 43/100\n",
      "1097/1097 [==============================] - 16s 15ms/step - loss: 0.2018 - duration_loss: 0.0315 - pitch_loss: 3.1896 - step_loss: 0.0108\n",
      "Epoch 44/100\n",
      "1097/1097 [==============================] - 16s 15ms/step - loss: 0.1964 - duration_loss: 0.0282 - pitch_loss: 3.1548 - step_loss: 0.0105\n",
      "Epoch 45/100\n",
      "1097/1097 [==============================] - 16s 15ms/step - loss: 0.1959 - duration_loss: 0.0285 - pitch_loss: 3.1415 - step_loss: 0.0104\n",
      "Epoch 46/100\n",
      "1097/1097 [==============================] - 16s 15ms/step - loss: 0.1954 - duration_loss: 0.0287 - pitch_loss: 3.1237 - step_loss: 0.0105\n",
      "Epoch 47/100\n",
      "1097/1097 [==============================] - 16s 15ms/step - loss: 0.1976 - duration_loss: 0.0306 - pitch_loss: 3.1313 - step_loss: 0.0105\n",
      "Epoch 48/100\n",
      "1097/1097 [==============================] - 16s 15ms/step - loss: 0.1941 - duration_loss: 0.0290 - pitch_loss: 3.0965 - step_loss: 0.0102\n",
      "Epoch 49/100\n",
      "1097/1097 [==============================] - 16s 15ms/step - loss: 0.1933 - duration_loss: 0.0279 - pitch_loss: 3.1070 - step_loss: 0.0101\n",
      "Epoch 50/100\n",
      "1097/1097 [==============================] - 16s 15ms/step - loss: 0.1917 - duration_loss: 0.0276 - pitch_loss: 3.0762 - step_loss: 0.0103\n",
      "Epoch 51/100\n",
      "1097/1097 [==============================] - 16s 15ms/step - loss: 0.1896 - duration_loss: 0.0268 - pitch_loss: 3.0559 - step_loss: 0.0100\n",
      "Epoch 52/100\n",
      "1097/1097 [==============================] - 16s 15ms/step - loss: 0.1909 - duration_loss: 0.0281 - pitch_loss: 3.0574 - step_loss: 0.0099\n",
      "Epoch 53/100\n",
      "1097/1097 [==============================] - 16s 15ms/step - loss: 0.1884 - duration_loss: 0.0261 - pitch_loss: 3.0502 - step_loss: 0.0098\n",
      "Epoch 54/100\n",
      "1097/1097 [==============================] - 16s 14ms/step - loss: 0.1897 - duration_loss: 0.0269 - pitch_loss: 3.0566 - step_loss: 0.0100\n",
      "Epoch 55/100\n",
      "1097/1097 [==============================] - 16s 14ms/step - loss: 0.1877 - duration_loss: 0.0268 - pitch_loss: 3.0240 - step_loss: 0.0097\n",
      "Epoch 56/100\n",
      "1097/1097 [==============================] - 16s 14ms/step - loss: 0.1867 - duration_loss: 0.0262 - pitch_loss: 3.0149 - step_loss: 0.0097\n",
      "Epoch 57/100\n",
      "1097/1097 [==============================] - 15s 14ms/step - loss: 0.1845 - duration_loss: 0.0254 - pitch_loss: 2.9923 - step_loss: 0.0095\n",
      "Epoch 58/100\n",
      "1097/1097 [==============================] - 16s 15ms/step - loss: 0.1821 - duration_loss: 0.0245 - pitch_loss: 2.9654 - step_loss: 0.0093\n",
      "Epoch 59/100\n",
      "1097/1097 [==============================] - 17s 15ms/step - loss: 0.1802 - duration_loss: 0.0235 - pitch_loss: 2.9525 - step_loss: 0.0091\n",
      "Epoch 60/100\n",
      "1097/1097 [==============================] - 17s 15ms/step - loss: 0.1809 - duration_loss: 0.0243 - pitch_loss: 2.9431 - step_loss: 0.0094\n",
      "Epoch 61/100\n",
      "1097/1097 [==============================] - 16s 15ms/step - loss: 0.1799 - duration_loss: 0.0235 - pitch_loss: 2.9470 - step_loss: 0.0091\n",
      "Epoch 62/100\n",
      "1097/1097 [==============================] - 16s 15ms/step - loss: 0.1842 - duration_loss: 0.0255 - pitch_loss: 2.9843 - step_loss: 0.0094\n",
      "Epoch 63/100\n",
      "1097/1097 [==============================] - 16s 15ms/step - loss: 0.1824 - duration_loss: 0.0252 - pitch_loss: 2.9548 - step_loss: 0.0095\n",
      "Epoch 64/100\n",
      "1097/1097 [==============================] - 16s 15ms/step - loss: 0.1758 - duration_loss: 0.0223 - pitch_loss: 2.8925 - step_loss: 0.0089\n",
      "Epoch 65/100\n",
      "1097/1097 [==============================] - 16s 15ms/step - loss: 0.1764 - duration_loss: 0.0229 - pitch_loss: 2.8871 - step_loss: 0.0092\n",
      "Epoch 66/100\n",
      "1097/1097 [==============================] - 16s 15ms/step - loss: 0.1754 - duration_loss: 0.0232 - pitch_loss: 2.8629 - step_loss: 0.0090\n",
      "Epoch 67/100\n",
      "1097/1097 [==============================] - 17s 15ms/step - loss: 0.1732 - duration_loss: 0.0216 - pitch_loss: 2.8530 - step_loss: 0.0089\n",
      "Epoch 68/100\n",
      "1097/1097 [==============================] - 16s 15ms/step - loss: 0.1745 - duration_loss: 0.0226 - pitch_loss: 2.8587 - step_loss: 0.0089\n",
      "Epoch 69/100\n",
      "1097/1097 [==============================] - 16s 15ms/step - loss: 0.1803 - duration_loss: 0.0275 - pitch_loss: 2.8707 - step_loss: 0.0092\n",
      "Epoch 70/100\n",
      "1097/1097 [==============================] - 16s 15ms/step - loss: 0.1789 - duration_loss: 0.0261 - pitch_loss: 2.8657 - step_loss: 0.0096\n",
      "Epoch 71/100\n",
      "1097/1097 [==============================] - 16s 15ms/step - loss: 0.1743 - duration_loss: 0.0236 - pitch_loss: 2.8289 - step_loss: 0.0093\n",
      "Epoch 72/100\n",
      "1097/1097 [==============================] - 16s 15ms/step - loss: 0.1696 - duration_loss: 0.0206 - pitch_loss: 2.7994 - step_loss: 0.0091\n",
      "Epoch 73/100\n",
      "1097/1097 [==============================] - 16s 15ms/step - loss: 0.1672 - duration_loss: 0.0198 - pitch_loss: 2.7759 - step_loss: 0.0086\n",
      "Epoch 74/100\n",
      "1097/1097 [==============================] - 17s 15ms/step - loss: 0.1658 - duration_loss: 0.0193 - pitch_loss: 2.7595 - step_loss: 0.0085\n",
      "Epoch 75/100\n",
      "1097/1097 [==============================] - 16s 15ms/step - loss: 0.1651 - duration_loss: 0.0191 - pitch_loss: 2.7516 - step_loss: 0.0084\n",
      "Epoch 76/100\n",
      "1097/1097 [==============================] - 16s 15ms/step - loss: 0.1657 - duration_loss: 0.0198 - pitch_loss: 2.7457 - step_loss: 0.0086\n",
      "Epoch 77/100\n",
      "1097/1097 [==============================] - 16s 15ms/step - loss: 0.1684 - duration_loss: 0.0214 - pitch_loss: 2.7629 - step_loss: 0.0088\n",
      "Epoch 78/100\n",
      "1097/1097 [==============================] - 16s 15ms/step - loss: 0.1660 - duration_loss: 0.0203 - pitch_loss: 2.7437 - step_loss: 0.0085\n",
      "Epoch 79/100\n",
      "1097/1097 [==============================] - 16s 15ms/step - loss: 0.1713 - duration_loss: 0.0231 - pitch_loss: 2.7857 - step_loss: 0.0090\n",
      "Epoch 80/100\n",
      "1096/1097 [============================>.] - ETA: 0s - loss: 0.1674 - duration_loss: 0.0213 - pitch_loss: 2.7498 - step_loss: 0.0087Restoring model weights from the end of the best epoch: 75.\n",
      "1097/1097 [==============================] - 16s 15ms/step - loss: 0.1674 - duration_loss: 0.0213 - pitch_loss: 2.7499 - step_loss: 0.0087\n",
      "Epoch 80: early stopping\n",
      "CPU times: user 32min 52s, sys: 7min 57s, total: 40min 49s\n",
      "Wall time: 21min 34s\n"
     ]
    }
   ],
   "source": [
    "%%time\n",
    "epochs = 100\n",
    "\n",
    "history = model.fit(\n",
    "    train_ds,\n",
    "    epochs=epochs,\n",
    "    callbacks=callbacks,\n",
    ")"
   ]
  },
  {
   "cell_type": "code",
   "execution_count": 69,
   "metadata": {},
   "outputs": [
    {
     "data": {
      "image/png": "[encoded data removed]",
      "text/plain": [
       "<Figure size 640x480 with 1 Axes>"
      ]
     },
     "metadata": {},
     "output_type": "display_data"
    }
   ],
   "source": [
    "plt.plot(history.epoch, history.history['loss'], label='total loss')\n",
    "plt.show()"
   ]
  },
  {
   "cell_type": "code",
   "execution_count": 70,
   "metadata": {},
   "outputs": [],
   "source": [
    "def predict_next_note(\n",
    "    notes: np.ndarray, \n",
    "    keras_model: tf.keras.Model, \n",
    "    temperature: float = 1.0) -> int:\n",
    "  \"\"\"Generates a note IDs using a trained sequence model.\"\"\"\n",
    "\n",
    "  assert temperature > 0\n",
    "\n",
    "  # Add batch dimension\n",
    "  inputs = tf.expand_dims(notes, 0)\n",
    "\n",
    "  predictions = model.predict(inputs)\n",
    "  pitch_logits = predictions['pitch']\n",
    "  step = predictions['step']\n",
    "  duration = predictions['duration']\n",
    "\n",
    "  pitch_logits /= temperature\n",
    "  pitch = tf.random.categorical(pitch_logits, num_samples=1)\n",
    "  pitch = tf.squeeze(pitch, axis=-1)\n",
    "  duration = tf.squeeze(duration, axis=-1)\n",
    "  step = tf.squeeze(step, axis=-1)\n",
    "\n",
    "  # `step` and `duration` values should be non-negative\n",
    "  step = tf.maximum(0, step)\n",
    "  duration = tf.maximum(0, duration)\n",
    "\n",
    "  return int(pitch), float(step), float(duration)"
   ]
  },
  {
   "cell_type": "code",
   "execution_count": 71,
   "metadata": {},
   "outputs": [
    {
     "name": "stdout",
     "output_type": "stream",
     "text": [
      "1/1 [==============================] - 0s 443ms/step\n",
      "1/1 [==============================] - 0s 12ms/step\n",
      "1/1 [==============================] - 0s 11ms/step\n",
      "1/1 [==============================] - 0s 11ms/step\n",
      "1/1 [==============================] - 0s 11ms/step\n",
      "1/1 [==============================] - 0s 10ms/step\n",
      "1/1 [==============================] - 0s 10ms/step\n",
      "1/1 [==============================] - 0s 10ms/step\n",
      "1/1 [==============================] - 0s 10ms/step\n",
      "1/1 [==============================] - 0s 10ms/step\n",
      "1/1 [==============================] - 0s 10ms/step\n",
      "1/1 [==============================] - 0s 11ms/step\n",
      "1/1 [==============================] - 0s 10ms/step\n",
      "1/1 [==============================] - 0s 10ms/step\n",
      "1/1 [==============================] - 0s 10ms/step\n",
      "1/1 [==============================] - 0s 10ms/step\n",
      "1/1 [==============================] - 0s 10ms/step\n",
      "1/1 [==============================] - 0s 11ms/step\n",
      "1/1 [==============================] - 0s 10ms/step\n",
      "1/1 [==============================] - 0s 9ms/step\n",
      "1/1 [==============================] - 0s 10ms/step\n",
      "1/1 [==============================] - 0s 10ms/step\n",
      "1/1 [==============================] - 0s 10ms/step\n",
      "1/1 [==============================] - 0s 9ms/step\n",
      "1/1 [==============================] - 0s 10ms/step\n",
      "1/1 [==============================] - 0s 10ms/step\n",
      "1/1 [==============================] - 0s 11ms/step\n",
      "1/1 [==============================] - 0s 10ms/step\n",
      "1/1 [==============================] - 0s 10ms/step\n",
      "1/1 [==============================] - 0s 10ms/step\n",
      "1/1 [==============================] - 0s 11ms/step\n",
      "1/1 [==============================] - 0s 10ms/step\n",
      "1/1 [==============================] - 0s 11ms/step\n",
      "1/1 [==============================] - 0s 10ms/step\n",
      "1/1 [==============================] - 0s 11ms/step\n",
      "1/1 [==============================] - 0s 11ms/step\n",
      "1/1 [==============================] - 0s 10ms/step\n",
      "1/1 [==============================] - 0s 10ms/step\n",
      "1/1 [==============================] - 0s 10ms/step\n",
      "1/1 [==============================] - 0s 11ms/step\n",
      "1/1 [==============================] - 0s 10ms/step\n",
      "1/1 [==============================] - 0s 11ms/step\n",
      "1/1 [==============================] - 0s 10ms/step\n",
      "1/1 [==============================] - 0s 11ms/step\n",
      "1/1 [==============================] - 0s 11ms/step\n",
      "1/1 [==============================] - 0s 10ms/step\n",
      "1/1 [==============================] - 0s 11ms/step\n",
      "1/1 [==============================] - 0s 11ms/step\n",
      "1/1 [==============================] - 0s 11ms/step\n",
      "1/1 [==============================] - 0s 10ms/step\n",
      "1/1 [==============================] - 0s 11ms/step\n",
      "1/1 [==============================] - 0s 11ms/step\n",
      "1/1 [==============================] - 0s 11ms/step\n",
      "1/1 [==============================] - 0s 11ms/step\n",
      "1/1 [==============================] - 0s 11ms/step\n",
      "1/1 [==============================] - 0s 10ms/step\n",
      "1/1 [==============================] - 0s 10ms/step\n",
      "1/1 [==============================] - 0s 11ms/step\n",
      "1/1 [==============================] - 0s 10ms/step\n",
      "1/1 [==============================] - 0s 11ms/step\n",
      "1/1 [==============================] - 0s 12ms/step\n",
      "1/1 [==============================] - 0s 10ms/step\n",
      "1/1 [==============================] - 0s 10ms/step\n",
      "1/1 [==============================] - 0s 11ms/step\n",
      "1/1 [==============================] - 0s 10ms/step\n",
      "1/1 [==============================] - 0s 10ms/step\n",
      "1/1 [==============================] - 0s 10ms/step\n",
      "1/1 [==============================] - 0s 11ms/step\n",
      "1/1 [==============================] - 0s 10ms/step\n",
      "1/1 [==============================] - 0s 11ms/step\n",
      "1/1 [==============================] - 0s 10ms/step\n",
      "1/1 [==============================] - 0s 10ms/step\n",
      "1/1 [==============================] - 0s 10ms/step\n",
      "1/1 [==============================] - 0s 10ms/step\n",
      "1/1 [==============================] - 0s 10ms/step\n",
      "1/1 [==============================] - 0s 10ms/step\n",
      "1/1 [==============================] - 0s 10ms/step\n",
      "1/1 [==============================] - 0s 10ms/step\n",
      "1/1 [==============================] - 0s 10ms/step\n",
      "1/1 [==============================] - 0s 11ms/step\n",
      "1/1 [==============================] - 0s 10ms/step\n",
      "1/1 [==============================] - 0s 10ms/step\n",
      "1/1 [==============================] - 0s 10ms/step\n",
      "1/1 [==============================] - 0s 10ms/step\n",
      "1/1 [==============================] - 0s 10ms/step\n",
      "1/1 [==============================] - 0s 10ms/step\n",
      "1/1 [==============================] - 0s 10ms/step\n",
      "1/1 [==============================] - 0s 10ms/step\n",
      "1/1 [==============================] - 0s 10ms/step\n",
      "1/1 [==============================] - 0s 10ms/step\n",
      "1/1 [==============================] - 0s 10ms/step\n",
      "1/1 [==============================] - 0s 10ms/step\n",
      "1/1 [==============================] - 0s 10ms/step\n",
      "1/1 [==============================] - 0s 11ms/step\n",
      "1/1 [==============================] - 0s 10ms/step\n",
      "1/1 [==============================] - 0s 10ms/step\n",
      "1/1 [==============================] - 0s 10ms/step\n",
      "1/1 [==============================] - 0s 11ms/step\n",
      "1/1 [==============================] - 0s 10ms/step\n",
      "1/1 [==============================] - 0s 10ms/step\n",
      "1/1 [==============================] - 0s 10ms/step\n",
      "1/1 [==============================] - 0s 10ms/step\n",
      "1/1 [==============================] - 0s 11ms/step\n",
      "1/1 [==============================] - 0s 11ms/step\n",
      "1/1 [==============================] - 0s 10ms/step\n",
      "1/1 [==============================] - 0s 10ms/step\n",
      "1/1 [==============================] - 0s 10ms/step\n",
      "1/1 [==============================] - 0s 10ms/step\n",
      "1/1 [==============================] - 0s 10ms/step\n",
      "1/1 [==============================] - 0s 10ms/step\n",
      "1/1 [==============================] - 0s 10ms/step\n",
      "1/1 [==============================] - 0s 11ms/step\n",
      "1/1 [==============================] - 0s 10ms/step\n",
      "1/1 [==============================] - 0s 10ms/step\n",
      "1/1 [==============================] - 0s 10ms/step\n",
      "1/1 [==============================] - 0s 10ms/step\n",
      "1/1 [==============================] - 0s 10ms/step\n",
      "1/1 [==============================] - 0s 10ms/step\n",
      "1/1 [==============================] - 0s 10ms/step\n",
      "1/1 [==============================] - 0s 11ms/step\n"
     ]
    }
   ],
   "source": [
    "temperature = 2.0\n",
    "num_predictions = 120\n",
    "\n",
    "sample_notes = np.stack([raw_notes[key] for key in key_order], axis=1)\n",
    "\n",
    "# The initial sequence of notes; pitch is normalized similar to training\n",
    "# sequences\n",
    "input_notes = (\n",
    "    sample_notes[:seq_length] / np.array([vocab_size, 1, 1]))\n",
    "\n",
    "generated_notes = []\n",
    "prev_start = 0\n",
    "for _ in range(num_predictions):\n",
    "  pitch, step, duration = predict_next_note(input_notes, model, temperature)\n",
    "  start = prev_start + step\n",
    "  end = start + duration\n",
    "  input_note = (pitch, step, duration)\n",
    "  generated_notes.append((*input_note, start, end))\n",
    "  input_notes = np.delete(input_notes, 0, axis=0)\n",
    "  input_notes = np.append(input_notes, np.expand_dims(input_note, 0), axis=0)\n",
    "  prev_start = start\n",
    "\n",
    "generated_notes = pd.DataFrame(\n",
    "    generated_notes, columns=(*key_order, 'start', 'end'))"
   ]
  },
  {
   "cell_type": "code",
   "execution_count": 72,
   "metadata": {},
   "outputs": [
    {
     "data": {
      "text/html": [
       "<div>\n",
       "<style scoped>\n",
       "    .dataframe tbody tr th:only-of-type {\n",
       "        vertical-align: middle;\n",
       "    }\n",
       "\n",
       "    .dataframe tbody tr th {\n",
       "        vertical-align: top;\n",
       "    }\n",
       "\n",
       "    .dataframe thead th {\n",
       "        text-align: right;\n",
       "    }\n",
       "</style>\n",
       "<table border=\"1\" class=\"dataframe\">\n",
       "  <thead>\n",
       "    <tr style=\"text-align: right;\">\n",
       "      <th></th>\n",
       "      <th>pitch</th>\n",
       "      <th>step</th>\n",
       "      <th>duration</th>\n",
       "      <th>start</th>\n",
       "      <th>end</th>\n",
       "    </tr>\n",
       "  </thead>\n",
       "  <tbody>\n",
       "    <tr>\n",
       "      <th>0</th>\n",
       "      <td>43</td>\n",
       "      <td>0.053811</td>\n",
       "      <td>0.084075</td>\n",
       "      <td>0.053811</td>\n",
       "      <td>0.137886</td>\n",
       "    </tr>\n",
       "    <tr>\n",
       "      <th>1</th>\n",
       "      <td>77</td>\n",
       "      <td>0.064905</td>\n",
       "      <td>0.100874</td>\n",
       "      <td>0.118715</td>\n",
       "      <td>0.219589</td>\n",
       "    </tr>\n",
       "    <tr>\n",
       "      <th>2</th>\n",
       "      <td>76</td>\n",
       "      <td>0.072092</td>\n",
       "      <td>0.072006</td>\n",
       "      <td>0.190808</td>\n",
       "      <td>0.262814</td>\n",
       "    </tr>\n",
       "    <tr>\n",
       "      <th>3</th>\n",
       "      <td>76</td>\n",
       "      <td>0.071706</td>\n",
       "      <td>0.050835</td>\n",
       "      <td>0.262513</td>\n",
       "      <td>0.313348</td>\n",
       "    </tr>\n",
       "    <tr>\n",
       "      <th>4</th>\n",
       "      <td>69</td>\n",
       "      <td>0.072946</td>\n",
       "      <td>0.039757</td>\n",
       "      <td>0.335459</td>\n",
       "      <td>0.375216</td>\n",
       "    </tr>\n",
       "    <tr>\n",
       "      <th>5</th>\n",
       "      <td>99</td>\n",
       "      <td>0.076934</td>\n",
       "      <td>0.053615</td>\n",
       "      <td>0.412393</td>\n",
       "      <td>0.466009</td>\n",
       "    </tr>\n",
       "    <tr>\n",
       "      <th>6</th>\n",
       "      <td>46</td>\n",
       "      <td>0.076647</td>\n",
       "      <td>0.047861</td>\n",
       "      <td>0.489040</td>\n",
       "      <td>0.536901</td>\n",
       "    </tr>\n",
       "    <tr>\n",
       "      <th>7</th>\n",
       "      <td>69</td>\n",
       "      <td>0.082406</td>\n",
       "      <td>0.064770</td>\n",
       "      <td>0.571445</td>\n",
       "      <td>0.636215</td>\n",
       "    </tr>\n",
       "    <tr>\n",
       "      <th>8</th>\n",
       "      <td>65</td>\n",
       "      <td>0.084644</td>\n",
       "      <td>0.072671</td>\n",
       "      <td>0.656089</td>\n",
       "      <td>0.728760</td>\n",
       "    </tr>\n",
       "    <tr>\n",
       "      <th>9</th>\n",
       "      <td>98</td>\n",
       "      <td>0.088047</td>\n",
       "      <td>0.087846</td>\n",
       "      <td>0.744137</td>\n",
       "      <td>0.831983</td>\n",
       "    </tr>\n",
       "  </tbody>\n",
       "</table>\n",
       "</div>"
      ],
      "text/plain": [
       "   pitch      step  duration     start       end\n",
       "0     43  0.053811  0.084075  0.053811  0.137886\n",
       "1     77  0.064905  0.100874  0.118715  0.219589\n",
       "2     76  0.072092  0.072006  0.190808  0.262814\n",
       "3     76  0.071706  0.050835  0.262513  0.313348\n",
       "4     69  0.072946  0.039757  0.335459  0.375216\n",
       "5     99  0.076934  0.053615  0.412393  0.466009\n",
       "6     46  0.076647  0.047861  0.489040  0.536901\n",
       "7     69  0.082406  0.064770  0.571445  0.636215\n",
       "8     65  0.084644  0.072671  0.656089  0.728760\n",
       "9     98  0.088047  0.087846  0.744137  0.831983"
      ]
     },
     "execution_count": 72,
     "metadata": {},
     "output_type": "execute_result"
    }
   ],
   "source": [
    "generated_notes.head(10)"
   ]
  },
  {
   "cell_type": "code",
   "execution_count": 73,
   "metadata": {},
   "outputs": [],
   "source": [
    "out_file = 'output.mid'\n",
    "out_pm = notes_to_midi(\n",
    "    generated_notes, out_file=out_file, instrument_name=instrument_name)\n",
    "#display_audio(out_pm)"
   ]
  },
  {
   "cell_type": "code",
   "execution_count": 74,
   "metadata": {},
   "outputs": [],
   "source": [
    "test_directory_path = '../raw_data/tests/'\n",
    "filename = 'tensorflow_baseline_output.mid'\n",
    "out_pm.write(os.path.join(test_directory_path, filename))"
   ]
  },
  {
   "cell_type": "code",
   "execution_count": 75,
   "metadata": {},
   "outputs": [
    {
     "data": {
      "image/png": "[encoded data removed]",
      "text/plain": [
       "<Figure size 2000x400 with 1 Axes>"
      ]
     },
     "metadata": {},
     "output_type": "display_data"
    }
   ],
   "source": [
    "plot_piano_roll(generated_notes)"
   ]
  },
  {
   "cell_type": "code",
   "execution_count": 76,
   "metadata": {},
   "outputs": [
    {
     "data": {
      "image/png": "[encoded data removed]",
      "text/plain": [
       "<Figure size 1500x500 with 3 Axes>"
      ]
     },
     "metadata": {},
     "output_type": "display_data"
    }
   ],
   "source": [
    "plot_distributions(generated_notes)"
   ]
  },
  {
   "cell_type": "code",
   "execution_count": null,
   "metadata": {},
   "outputs": [],
   "source": []
  }
 ],
 "metadata": {
  "kernelspec": {
   "display_name": "Python 3.10.6 64-bit ('lewagon')",
   "language": "python",
   "name": "python3"
  },
  "language_info": {
   "codemirror_mode": {
    "name": "ipython",
    "version": 3
   },
   "file_extension": ".py",
   "mimetype": "text/x-python",
   "name": "python",
   "nbconvert_exporter": "python",
   "pygments_lexer": "ipython3",
   "version": "3.10.6"
  },
  "orig_nbformat": 4,
  "vscode": {
   "interpreter": {
    "hash": "a8a7570021751e1e44b5cb6f7d3a7e2449aa165f08b1cd960c3a5a6b6868a712"
   }
  }
 },
 "nbformat": 4,
 "nbformat_minor": 2
}
