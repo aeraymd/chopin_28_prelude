{
 "cells": [
  {
   "cell_type": "code",
   "execution_count": 32,
   "id": "f84e0fdf",
   "metadata": {},
   "outputs": [],
   "source": [
    "import music21 "
   ]
  },
  {
   "cell_type": "code",
   "execution_count": null,
   "id": "3041c2f5",
   "metadata": {},
   "outputs": [],
   "source": [
    "music21.midi"
   ]
  },
  {
   "cell_type": "markdown",
   "id": "2252ee4f",
   "metadata": {
    "id": "e90c000a"
   },
   "source": [
    "# Generate music with an RNN\n"
   ]
  },
  {
   "cell_type": "markdown",
   "id": "a450ce46",
   "metadata": {
    "id": "d87c9ca0"
   },
   "source": [
    "## Setup"
   ]
  },
  {
   "cell_type": "code",
   "execution_count": 20,
   "id": "ffcc435a",
   "metadata": {
    "executionInfo": {
     "elapsed": 4312,
     "status": "ok",
     "timestamp": 1670585006481,
     "user": {
      "displayName": "Anh Dao HO",
      "userId": "09566735134384187092"
     },
     "user_tz": -60
    },
    "id": "22fa3202"
   },
   "outputs": [],
   "source": [
    "import collections\n",
    "import datetime\n",
    "import fluidsynth\n",
    "import glob\n",
    "import numpy as np\n",
    "import pathlib\n",
    "import pandas as pd\n",
    "import pretty_midi\n",
    "import seaborn as sns\n",
    "import tensorflow as tf\n",
    "import os\n",
    "\n",
    "from IPython import display\n",
    "from matplotlib import pyplot as plt\n",
    "from typing import Dict, List, Optional, Sequence, Tuple\n",
    "\n",
    "import keras\n",
    "from keras.preprocessing import sequence\n",
    "from keras.models import Sequential\n",
    "from keras.layers import Dense, Dropout, Embedding, LSTM, Bidirectional\n",
    "from keras.datasets import imdb\n",
    "from keras_self_attention import SeqSelfAttention"
   ]
  },
  {
   "cell_type": "markdown",
   "id": "f8c0f668",
   "metadata": {
    "heading_collapsed": true,
    "id": "b8a53a57"
   },
   "source": [
    "## Functions"
   ]
  },
  {
   "cell_type": "code",
   "execution_count": 21,
   "id": "88543c66",
   "metadata": {
    "executionInfo": {
     "elapsed": 196,
     "status": "ok",
     "timestamp": 1670585017758,
     "user": {
      "displayName": "Anh Dao HO",
      "userId": "09566735134384187092"
     },
     "user_tz": -60
    },
    "hidden": true,
    "id": "1c9328b0"
   },
   "outputs": [],
   "source": [
    "def display_audio(pm: pretty_midi.PrettyMIDI, seconds=30):\n",
    "  waveform = pm.fluidsynth(fs=_SAMPLING_RATE)\n",
    "  # Take a sample of the generated waveform to mitigate kernel resets\n",
    "  waveform_short = waveform[:seconds*_SAMPLING_RATE]\n",
    "  return display.Audio(waveform_short, rate=_SAMPLING_RATE)"
   ]
  },
  {
   "cell_type": "code",
   "execution_count": 22,
   "id": "6aef9735",
   "metadata": {
    "executionInfo": {
     "elapsed": 3,
     "status": "ok",
     "timestamp": 1670585017968,
     "user": {
      "displayName": "Anh Dao HO",
      "userId": "09566735134384187092"
     },
     "user_tz": -60
    },
    "hidden": true,
    "id": "5a1647b4"
   },
   "outputs": [],
   "source": [
    "def midi_to_notes(midi_file: str) -> pd.DataFrame:\n",
    "  pm = pretty_midi.PrettyMIDI(midi_file)\n",
    "  instrument = pm.instruments[0]\n",
    "  notes = collections.defaultdict(list)\n",
    "\n",
    "  # Sort the notes by start time\n",
    "  sorted_notes = sorted(instrument.notes, key=lambda note: note.start)\n",
    "  prev_start = sorted_notes[0].start\n",
    "\n",
    "  for note in sorted_notes:\n",
    "    start = note.start\n",
    "    end = note.end\n",
    "    notes['pitch'].append(note.pitch)\n",
    "    notes['start'].append(start)\n",
    "    notes['end'].append(end)\n",
    "    notes['step'].append(start - prev_start)\n",
    "    notes['duration'].append(end - start)\n",
    "    prev_start = start\n",
    "\n",
    "  return pd.DataFrame({name: np.array(value) for name, value in notes.items()})"
   ]
  },
  {
   "cell_type": "code",
   "execution_count": 23,
   "id": "31268fca",
   "metadata": {
    "executionInfo": {
     "elapsed": 3,
     "status": "ok",
     "timestamp": 1670585017968,
     "user": {
      "displayName": "Anh Dao HO",
      "userId": "09566735134384187092"
     },
     "user_tz": -60
    },
    "hidden": true,
    "id": "09ce1d85"
   },
   "outputs": [],
   "source": [
    "def plot_piano_roll(notes: pd.DataFrame, count: Optional[int] = None):\n",
    "  if count:\n",
    "    title = f'First {count} notes'\n",
    "  else:\n",
    "    title = f'Whole track'\n",
    "    count = len(notes['pitch'])\n",
    "  plt.figure(figsize=(20, 4))\n",
    "  plot_pitch = np.stack([notes['pitch'], notes['pitch']], axis=0)\n",
    "  plot_start_stop = np.stack([notes['start'], notes['end']], axis=0)\n",
    "  plt.plot(\n",
    "      plot_start_stop[:, :count], plot_pitch[:, :count], color=\"b\", marker=\".\")\n",
    "  plt.xlabel('Time [s]')\n",
    "  plt.ylabel('Pitch')\n",
    "  _ = plt.title(title)"
   ]
  },
  {
   "cell_type": "code",
   "execution_count": 24,
   "id": "dd2d8546",
   "metadata": {
    "executionInfo": {
     "elapsed": 343,
     "status": "ok",
     "timestamp": 1670585018309,
     "user": {
      "displayName": "Anh Dao HO",
      "userId": "09566735134384187092"
     },
     "user_tz": -60
    },
    "hidden": true,
    "id": "8a597697"
   },
   "outputs": [],
   "source": [
    "def plot_distributions(notes: pd.DataFrame, drop_percentile=2.5):\n",
    "  plt.figure(figsize=[15, 5])\n",
    "  plt.subplot(1, 3, 1)\n",
    "  sns.histplot(notes, x=\"pitch\", bins=20)\n",
    "\n",
    "  plt.subplot(1, 3, 2)\n",
    "  max_step = np.percentile(notes['step'], 100 - drop_percentile)\n",
    "  sns.histplot(notes, x=\"step\", bins=np.linspace(0, max_step, 21))\n",
    "\n",
    "  plt.subplot(1, 3, 3)\n",
    "  max_duration = np.percentile(notes['duration'], 100 - drop_percentile)\n",
    "  sns.histplot(notes, x=\"duration\", bins=np.linspace(0, max_duration, 21))"
   ]
  },
  {
   "cell_type": "code",
   "execution_count": 25,
   "id": "1b2fe658",
   "metadata": {
    "executionInfo": {
     "elapsed": 3,
     "status": "ok",
     "timestamp": 1670585018309,
     "user": {
      "displayName": "Anh Dao HO",
      "userId": "09566735134384187092"
     },
     "user_tz": -60
    },
    "hidden": true,
    "id": "a96f5a05"
   },
   "outputs": [],
   "source": [
    "def notes_to_midi(\n",
    "  notes: pd.DataFrame,\n",
    "  out_file: str, \n",
    "  instrument_name: str,\n",
    "  velocity: int = 100,  # note loudness\n",
    ") -> pretty_midi.PrettyMIDI:\n",
    "\n",
    "  pm = pretty_midi.PrettyMIDI()\n",
    "  instrument = pretty_midi.Instrument(\n",
    "      program=pretty_midi.instrument_name_to_program(\n",
    "          instrument_name))\n",
    "\n",
    "  prev_start = 0\n",
    "  for i, note in notes.iterrows():\n",
    "    start = float(prev_start + note['step'])\n",
    "    end = float(start + note['duration'])\n",
    "    note = pretty_midi.Note(\n",
    "        velocity=velocity,\n",
    "        pitch=int(note['pitch']),\n",
    "        start=start,\n",
    "        end=end,\n",
    "    )\n",
    "    instrument.notes.append(note)\n",
    "    prev_start = start\n",
    "\n",
    "  pm.instruments.append(instrument)\n",
    "  pm.write(out_file)\n",
    "  return pm"
   ]
  },
  {
   "cell_type": "code",
   "execution_count": 26,
   "id": "013322bb",
   "metadata": {
    "executionInfo": {
     "elapsed": 3,
     "status": "ok",
     "timestamp": 1670585018309,
     "user": {
      "displayName": "Anh Dao HO",
      "userId": "09566735134384187092"
     },
     "user_tz": -60
    },
    "hidden": true,
    "id": "d1829675"
   },
   "outputs": [],
   "source": [
    "# TODO : Add padding on each piano records \n",
    "# TODO : Discuss/Ask about scaling for duration, steps \n",
    "\n",
    "def create_sequences(\n",
    "    dataset: tf.data.Dataset, \n",
    "    seq_length: int,\n",
    "    vocab_size = 128,\n",
    ") -> tf.data.Dataset:\n",
    "  \"\"\"Returns TF Dataset of sequence and label examples.\"\"\"\n",
    "  seq_length = seq_length+1\n",
    "\n",
    "  # Take 1 extra for the labels = targets = predicted notes\n",
    "  # shift : spacing between two windows\n",
    "  # stride : inside a given window, spacing between two notes ==> we don't want to skip notes so we take stride = 1*\n",
    "  # drop_remainder : representing whether the last windows should be dropped if their size is smaller than size\n",
    "    \n",
    "  windows = dataset.window(seq_length, shift=1, stride=1,\n",
    "                              drop_remainder=True)\n",
    "\n",
    "  # `flat_map` flattens the\" dataset of datasets\" into a dataset of tensors\n",
    "  flatten = lambda x: x.batch(seq_length, drop_remainder=True)\n",
    "  sequences = windows.flat_map(flatten)\n",
    "\n",
    "  # Normalize note pitch\n",
    "  def scale_pitch(x):\n",
    "    x = x/[vocab_size,1.0,1.0]\n",
    "    return x\n",
    "\n",
    "  # Split the labels\n",
    "  def split_labels(sequences):\n",
    "    inputs = sequences[:-1]\n",
    "    labels_dense = sequences[-1]\n",
    "    labels = {key:labels_dense[i] for i,key in enumerate(key_order)}\n",
    "\n",
    "    return scale_pitch(inputs), labels\n",
    "\n",
    "  return sequences.map(split_labels, num_parallel_calls=tf.data.AUTOTUNE)"
   ]
  },
  {
   "cell_type": "code",
   "execution_count": 9,
   "id": "adec2171",
   "metadata": {
    "executionInfo": {
     "elapsed": 4,
     "status": "ok",
     "timestamp": 1670585018310,
     "user": {
      "displayName": "Anh Dao HO",
      "userId": "09566735134384187092"
     },
     "user_tz": -60
    },
    "hidden": true,
    "id": "674844f7"
   },
   "outputs": [],
   "source": [
    "def mse_with_positive_pressure(y_true: tf.Tensor, y_pred: tf.Tensor):\n",
    "  mse = (y_true - y_pred) ** 2\n",
    "  positive_pressure = 10 * tf.maximum(-y_pred, 0.0)\n",
    "  return tf.reduce_mean(mse + positive_pressure)"
   ]
  },
  {
   "cell_type": "code",
   "execution_count": 10,
   "id": "1653e1e4",
   "metadata": {
    "executionInfo": {
     "elapsed": 3,
     "status": "ok",
     "timestamp": 1670585018310,
     "user": {
      "displayName": "Anh Dao HO",
      "userId": "09566735134384187092"
     },
     "user_tz": -60
    },
    "hidden": true,
    "id": "327d511c"
   },
   "outputs": [],
   "source": [
    "def predict_next_note(\n",
    "    notes: np.ndarray, \n",
    "    keras_model: tf.keras.Model, \n",
    "    temperature: float = 1.0) -> int:\n",
    "  \"\"\"Generates a note IDs using a trained sequence model.\"\"\"\n",
    "\n",
    "  #assert temperature > 0\n",
    "\n",
    "  # Add batch dimension\n",
    "  inputs = tf.expand_dims(notes, 0)\n",
    "\n",
    "  predictions = model.predict(inputs)\n",
    "  note = predictions['note']\n",
    "  octave = predictions['octave']\n",
    "  #pitch_logits = predictions['pitch']\n",
    "  step = predictions['step']\n",
    "  duration = predictions['duration']\n",
    "\n",
    "  #pitch_logits /= temperature\n",
    "  note = tf.random.categorical(note, num_samples=1)\n",
    "  octave = tf.random.categorical(octave, num_samples=1)\n",
    "  note = tf.squeeze(note, axis=-1)\n",
    "  octave = tf.squeeze(octave, axis=-1)\n",
    "  duration = tf.squeeze(duration, axis=-1)\n",
    "  step = tf.squeeze(step, axis=-1)\n",
    "\n",
    "  # `step` and `duration` values should be non-negative\n",
    "  step = tf.maximum(0, step)\n",
    "  duration = tf.maximum(0, duration)\n",
    "\n",
    "  return int(note), int(octave), float(step), float(duration)"
   ]
  },
  {
   "cell_type": "markdown",
   "id": "98ff4ce8",
   "metadata": {
    "heading_collapsed": true,
    "id": "ANafahdmP4UP"
   },
   "source": [
    "## Parameters"
   ]
  },
  {
   "cell_type": "code",
   "execution_count": 27,
   "id": "afcfd15a",
   "metadata": {
    "colab": {
     "base_uri": "https://localhost:8080/"
    },
    "executionInfo": {
     "elapsed": 287,
     "status": "ok",
     "timestamp": 1670585285168,
     "user": {
      "displayName": "Anh Dao HO",
      "userId": "09566735134384187092"
     },
     "user_tz": -60
    },
    "hidden": true,
    "id": "efea000a",
    "outputId": "1fb1802a-87a5-4de4-91cc-0f0b67a0098c",
    "scrolled": true
   },
   "outputs": [
    {
     "name": "stdout",
     "output_type": "stream",
     "text": [
      "Number of files: 131\n"
     ]
    }
   ],
   "source": [
    "data_folder = 'midi_chopin_format_0_dataset' #to input as a string\n",
    "data_path = os.path.join('..','..','..','raw_data', data_folder)\n",
    "data_path = pathlib.Path(data_path)\n",
    "#data_path = pathlib.Path('drive/MyDrive/Colab Notebooks/music-generation/data/chopin_2channels')\n",
    "filenames = glob.glob(str(data_path/\"*.mid\"))\n",
    "print('Number of files:', len(filenames))"
   ]
  },
  {
   "cell_type": "code",
   "execution_count": 28,
   "id": "08cff49c",
   "metadata": {
    "executionInfo": {
     "elapsed": 4,
     "status": "ok",
     "timestamp": 1670585285374,
     "user": {
      "displayName": "Anh Dao HO",
      "userId": "09566735134384187092"
     },
     "user_tz": -60
    },
    "hidden": true,
    "id": "801914b9"
   },
   "outputs": [],
   "source": [
    "# General parameters \n",
    "seed = 42\n",
    "tf.random.set_seed(seed)\n",
    "np.random.seed(seed)\n",
    "_SAMPLING_RATE = 16000 # Sampling rate for audio playback\n",
    "vocab_size = 128 # Represents the number of note pitches \n",
    "key_order = ['note', 'octave', 'step', 'duration'] # Features we keep\n",
    "\n",
    "# Hyper-parameters \n",
    "seq_length = 50\n",
    "batch_size = 16\n",
    "note_weight= 1.0\n",
    "octave_weight= 0.25\n",
    "step_weight = 1.0\n",
    "duration_weight = 1.0\n",
    "patience = 5\n",
    "epochs = 100\n",
    "learning_rate = 0.0005\n",
    "\n",
    "# Parameters used to generate the music notes\n",
    "temperature = 2\n",
    "file_number = 1 #Choose one file among the existing file to start the prediction \n",
    "sample_file = filenames[file_number]\n",
    "raw_notes = midi_to_notes(sample_file)\n",
    "#example_file = 'example.midi'\n",
    "#example_pm = notes_to_midi(\n",
    "#    raw_notes, out_file=example_file, instrument_name=instrument_name)\n",
    "pm = pretty_midi.PrettyMIDI(sample_file)\n",
    "instrument = pm.instruments[0]\n",
    "instrument_name = pretty_midi.program_to_instrument_name(instrument.program)"
   ]
  },
  {
   "cell_type": "code",
   "execution_count": 38,
   "id": "cb43b36f",
   "metadata": {
    "colab": {
     "base_uri": "https://localhost:8080/",
     "height": 0
    },
    "executionInfo": {
     "elapsed": 314,
     "status": "ok",
     "timestamp": 1670585285684,
     "user": {
      "displayName": "Anh Dao HO",
      "userId": "09566735134384187092"
     },
     "user_tz": -60
    },
    "hidden": true,
    "id": "DYWXWlVORL6M",
    "outputId": "946bc599-bf27-40c4-9e8b-7d71519a8008"
   },
   "outputs": [
    {
     "data": {
      "application/javascript": [
       "\n",
       "    async function download(id, filename, size) {\n",
       "      if (!google.colab.kernel.accessAllowed) {\n",
       "        return;\n",
       "      }\n",
       "      const div = document.createElement('div');\n",
       "      const label = document.createElement('label');\n",
       "      label.textContent = `Downloading \"${filename}\": `;\n",
       "      div.appendChild(label);\n",
       "      const progress = document.createElement('progress');\n",
       "      progress.max = size;\n",
       "      div.appendChild(progress);\n",
       "      document.body.appendChild(div);\n",
       "\n",
       "      const buffers = [];\n",
       "      let downloaded = 0;\n",
       "\n",
       "      const channel = await google.colab.kernel.comms.open(id);\n",
       "      // Send a message to notify the kernel that we're ready.\n",
       "      channel.send({})\n",
       "\n",
       "      for await (const message of channel.messages) {\n",
       "        // Send a message to notify the kernel that we're ready.\n",
       "        channel.send({})\n",
       "        if (message.buffers) {\n",
       "          for (const buffer of message.buffers) {\n",
       "            buffers.push(buffer);\n",
       "            downloaded += buffer.byteLength;\n",
       "            progress.value = downloaded;\n",
       "          }\n",
       "        }\n",
       "      }\n",
       "      const blob = new Blob(buffers, {type: 'application/binary'});\n",
       "      const a = document.createElement('a');\n",
       "      a.href = window.URL.createObjectURL(blob);\n",
       "      a.download = filename;\n",
       "      div.appendChild(a);\n",
       "      a.click();\n",
       "      div.remove();\n",
       "    }\n",
       "  "
      ],
      "text/plain": [
       "<IPython.core.display.Javascript object>"
      ]
     },
     "metadata": {},
     "output_type": "display_data"
    },
    {
     "data": {
      "application/javascript": [
       "download(\"download_774f1b50-d606-4abb-9129-0dc232ab9f8f\", \"sample_midi_2channels.mid\", 1284)"
      ],
      "text/plain": [
       "<IPython.core.display.Javascript object>"
      ]
     },
     "metadata": {},
     "output_type": "display_data"
    }
   ],
   "source": [
    "sample_midi_2channels = midi_to_notes('drive/MyDrive/Colab Notebooks/music-generation/data/chopin_28prelude_2channels/chpn-p1.mid')\n",
    "notes_to_midi(\n",
    "  sample_midi_2channels,\n",
    "  'sample_midi_2channels.mid', \n",
    "  instrument_name,\n",
    "  100)\n",
    "files.download('sample_midi_2channels.mid')"
   ]
  },
  {
   "cell_type": "code",
   "execution_count": 39,
   "id": "cafef3aa",
   "metadata": {
    "colab": {
     "base_uri": "https://localhost:8080/",
     "height": 0
    },
    "executionInfo": {
     "elapsed": 4,
     "status": "ok",
     "timestamp": 1670585285684,
     "user": {
      "displayName": "Anh Dao HO",
      "userId": "09566735134384187092"
     },
     "user_tz": -60
    },
    "hidden": true,
    "id": "oU9M1fqyQhbw",
    "outputId": "45495edd-3ff8-43c3-d4a1-71bba2d0b9c1"
   },
   "outputs": [
    {
     "data": {
      "text/html": [
       "\n",
       "  <div id=\"df-2d534f2d-8eb0-437a-a12a-fdff653dd8c0\">\n",
       "    <div class=\"colab-df-container\">\n",
       "      <div>\n",
       "<style scoped>\n",
       "    .dataframe tbody tr th:only-of-type {\n",
       "        vertical-align: middle;\n",
       "    }\n",
       "\n",
       "    .dataframe tbody tr th {\n",
       "        vertical-align: top;\n",
       "    }\n",
       "\n",
       "    .dataframe thead th {\n",
       "        text-align: right;\n",
       "    }\n",
       "</style>\n",
       "<table border=\"1\" class=\"dataframe\">\n",
       "  <thead>\n",
       "    <tr style=\"text-align: right;\">\n",
       "      <th></th>\n",
       "      <th>pitch</th>\n",
       "      <th>start</th>\n",
       "      <th>end</th>\n",
       "      <th>step</th>\n",
       "      <th>duration</th>\n",
       "    </tr>\n",
       "  </thead>\n",
       "  <tbody>\n",
       "    <tr>\n",
       "      <th>0</th>\n",
       "      <td>36</td>\n",
       "      <td>0.001812</td>\n",
       "      <td>0.144201</td>\n",
       "      <td>0.000000</td>\n",
       "      <td>0.142389</td>\n",
       "    </tr>\n",
       "    <tr>\n",
       "      <th>1</th>\n",
       "      <td>43</td>\n",
       "      <td>0.144201</td>\n",
       "      <td>0.285500</td>\n",
       "      <td>0.142389</td>\n",
       "      <td>0.141300</td>\n",
       "    </tr>\n",
       "    <tr>\n",
       "      <th>2</th>\n",
       "      <td>55</td>\n",
       "      <td>0.144201</td>\n",
       "      <td>0.701601</td>\n",
       "      <td>0.000000</td>\n",
       "      <td>0.557401</td>\n",
       "    </tr>\n",
       "    <tr>\n",
       "      <th>3</th>\n",
       "      <td>52</td>\n",
       "      <td>0.285500</td>\n",
       "      <td>0.423867</td>\n",
       "      <td>0.141300</td>\n",
       "      <td>0.138367</td>\n",
       "    </tr>\n",
       "    <tr>\n",
       "      <th>4</th>\n",
       "      <td>60</td>\n",
       "      <td>0.285500</td>\n",
       "      <td>0.423867</td>\n",
       "      <td>0.000000</td>\n",
       "      <td>0.138367</td>\n",
       "    </tr>\n",
       "    <tr>\n",
       "      <th>...</th>\n",
       "      <td>...</td>\n",
       "      <td>...</td>\n",
       "      <td>...</td>\n",
       "      <td>...</td>\n",
       "      <td>...</td>\n",
       "    </tr>\n",
       "    <tr>\n",
       "      <th>322</th>\n",
       "      <td>48</td>\n",
       "      <td>26.492982</td>\n",
       "      <td>29.438509</td>\n",
       "      <td>0.216820</td>\n",
       "      <td>2.945527</td>\n",
       "    </tr>\n",
       "    <tr>\n",
       "      <th>323</th>\n",
       "      <td>52</td>\n",
       "      <td>26.717091</td>\n",
       "      <td>29.438509</td>\n",
       "      <td>0.224109</td>\n",
       "      <td>2.721418</td>\n",
       "    </tr>\n",
       "    <tr>\n",
       "      <th>324</th>\n",
       "      <td>55</td>\n",
       "      <td>26.948997</td>\n",
       "      <td>29.438509</td>\n",
       "      <td>0.231906</td>\n",
       "      <td>2.489512</td>\n",
       "    </tr>\n",
       "    <tr>\n",
       "      <th>325</th>\n",
       "      <td>60</td>\n",
       "      <td>27.189261</td>\n",
       "      <td>29.438509</td>\n",
       "      <td>0.240264</td>\n",
       "      <td>2.249248</td>\n",
       "    </tr>\n",
       "    <tr>\n",
       "      <th>326</th>\n",
       "      <td>64</td>\n",
       "      <td>27.438509</td>\n",
       "      <td>29.438509</td>\n",
       "      <td>0.249248</td>\n",
       "      <td>2.000000</td>\n",
       "    </tr>\n",
       "  </tbody>\n",
       "</table>\n",
       "<p>327 rows × 5 columns</p>\n",
       "</div>\n",
       "      <button class=\"colab-df-convert\" onclick=\"convertToInteractive('df-2d534f2d-8eb0-437a-a12a-fdff653dd8c0')\"\n",
       "              title=\"Convert this dataframe to an interactive table.\"\n",
       "              style=\"display:none;\">\n",
       "        \n",
       "  <svg xmlns=\"http://www.w3.org/2000/svg\" height=\"24px\"viewBox=\"0 0 24 24\"\n",
       "       width=\"24px\">\n",
       "    <path d=\"M0 0h24v24H0V0z\" fill=\"none\"/>\n",
       "    <path d=\"M18.56 5.44l.94 2.06.94-2.06 2.06-.94-2.06-.94-.94-2.06-.94 2.06-2.06.94zm-11 1L8.5 8.5l.94-2.06 2.06-.94-2.06-.94L8.5 2.5l-.94 2.06-2.06.94zm10 10l.94 2.06.94-2.06 2.06-.94-2.06-.94-.94-2.06-.94 2.06-2.06.94z\"/><path d=\"M17.41 7.96l-1.37-1.37c-.4-.4-.92-.59-1.43-.59-.52 0-1.04.2-1.43.59L10.3 9.45l-7.72 7.72c-.78.78-.78 2.05 0 2.83L4 21.41c.39.39.9.59 1.41.59.51 0 1.02-.2 1.41-.59l7.78-7.78 2.81-2.81c.8-.78.8-2.07 0-2.86zM5.41 20L4 18.59l7.72-7.72 1.47 1.35L5.41 20z\"/>\n",
       "  </svg>\n",
       "      </button>\n",
       "      \n",
       "  <style>\n",
       "    .colab-df-container {\n",
       "      display:flex;\n",
       "      flex-wrap:wrap;\n",
       "      gap: 12px;\n",
       "    }\n",
       "\n",
       "    .colab-df-convert {\n",
       "      background-color: #E8F0FE;\n",
       "      border: none;\n",
       "      border-radius: 50%;\n",
       "      cursor: pointer;\n",
       "      display: none;\n",
       "      fill: #1967D2;\n",
       "      height: 32px;\n",
       "      padding: 0 0 0 0;\n",
       "      width: 32px;\n",
       "    }\n",
       "\n",
       "    .colab-df-convert:hover {\n",
       "      background-color: #E2EBFA;\n",
       "      box-shadow: 0px 1px 2px rgba(60, 64, 67, 0.3), 0px 1px 3px 1px rgba(60, 64, 67, 0.15);\n",
       "      fill: #174EA6;\n",
       "    }\n",
       "\n",
       "    [theme=dark] .colab-df-convert {\n",
       "      background-color: #3B4455;\n",
       "      fill: #D2E3FC;\n",
       "    }\n",
       "\n",
       "    [theme=dark] .colab-df-convert:hover {\n",
       "      background-color: #434B5C;\n",
       "      box-shadow: 0px 1px 3px 1px rgba(0, 0, 0, 0.15);\n",
       "      filter: drop-shadow(0px 1px 2px rgba(0, 0, 0, 0.3));\n",
       "      fill: #FFFFFF;\n",
       "    }\n",
       "  </style>\n",
       "\n",
       "      <script>\n",
       "        const buttonEl =\n",
       "          document.querySelector('#df-2d534f2d-8eb0-437a-a12a-fdff653dd8c0 button.colab-df-convert');\n",
       "        buttonEl.style.display =\n",
       "          google.colab.kernel.accessAllowed ? 'block' : 'none';\n",
       "\n",
       "        async function convertToInteractive(key) {\n",
       "          const element = document.querySelector('#df-2d534f2d-8eb0-437a-a12a-fdff653dd8c0');\n",
       "          const dataTable =\n",
       "            await google.colab.kernel.invokeFunction('convertToInteractive',\n",
       "                                                     [key], {});\n",
       "          if (!dataTable) return;\n",
       "\n",
       "          const docLinkHtml = 'Like what you see? Visit the ' +\n",
       "            '<a target=\"_blank\" href=https://colab.research.google.com/notebooks/data_table.ipynb>data table notebook</a>'\n",
       "            + ' to learn more about interactive tables.';\n",
       "          element.innerHTML = '';\n",
       "          dataTable['output_type'] = 'display_data';\n",
       "          await google.colab.output.renderOutput(dataTable, element);\n",
       "          const docLink = document.createElement('div');\n",
       "          docLink.innerHTML = docLinkHtml;\n",
       "          element.appendChild(docLink);\n",
       "        }\n",
       "      </script>\n",
       "    </div>\n",
       "  </div>\n",
       "  "
      ],
      "text/plain": [
       "     pitch      start        end      step  duration\n",
       "0       36   0.001812   0.144201  0.000000  0.142389\n",
       "1       43   0.144201   0.285500  0.142389  0.141300\n",
       "2       55   0.144201   0.701601  0.000000  0.557401\n",
       "3       52   0.285500   0.423867  0.141300  0.138367\n",
       "4       60   0.285500   0.423867  0.000000  0.138367\n",
       "..     ...        ...        ...       ...       ...\n",
       "322     48  26.492982  29.438509  0.216820  2.945527\n",
       "323     52  26.717091  29.438509  0.224109  2.721418\n",
       "324     55  26.948997  29.438509  0.231906  2.489512\n",
       "325     60  27.189261  29.438509  0.240264  2.249248\n",
       "326     64  27.438509  29.438509  0.249248  2.000000\n",
       "\n",
       "[327 rows x 5 columns]"
      ]
     },
     "execution_count": 39,
     "metadata": {},
     "output_type": "execute_result"
    }
   ],
   "source": [
    "sample_midi_format0 = midi_to_notes('drive/MyDrive/Colab Notebooks/music-generation/data/midi_chopin_format_0_dataset/chpn-p1_format0.mid')\n",
    "sample_midi_format0"
   ]
  },
  {
   "cell_type": "markdown",
   "id": "b6e482ed",
   "metadata": {
    "id": "1dfa87d0"
   },
   "source": [
    "## Create the training dataset"
   ]
  },
  {
   "cell_type": "code",
   "execution_count": 31,
   "id": "33faad3d",
   "metadata": {
    "executionInfo": {
     "elapsed": 190,
     "status": "ok",
     "timestamp": 1670585290098,
     "user": {
      "displayName": "Anh Dao HO",
      "userId": "09566735134384187092"
     },
     "user_tz": -60
    },
    "id": "9ba012cc"
   },
   "outputs": [],
   "source": [
    "def create_train_ds_per_file(filename) :\n",
    "\n",
    "    notes = midi_to_notes(filename)\n",
    "\n",
    "    #converting the value of the note to its corresponding note and octave \n",
    "\n",
    "    notes_dict = {0:0, 12:0, 24:0, 36:0, 48:0, 60:0, 72:0, 84:0, 96:0, 108:0, 120:0,\n",
    "        1:1, 13:1, 25:1, 37:1, 49:1, 61:1, 73:1, 85:1, 97:1, 109:1, 121:1,\n",
    "        2:2, 14:2, 26:2, 38:2, 50:2, 62:2, 74:2, 86:2, 98:2, 110:2, 122:2,\n",
    "        3:3, 15:3, 27:3, 39:3, 51:3, 63:3, 75:3, 87:3, 99:3, 111:3, 123:3,\n",
    "        4:4, 16:4, 28:4, 40:4, 52:4, 64:4, 76:4, 88:4, 100:4, 112:4, 124:4,\n",
    "        5:5, 17:5, 29:5, 41:5, 53:5, 65:5, 77:5, 89:5, 101:5, 113:5, 125:5, \n",
    "        6:6, 18:6, 30:6, 42:6, 54:6, 66:6, 78:6, 90:6, 102:6, 114:6, 126:6,\n",
    "        7:7, 19:7, 31:7, 43:7, 55:7, 67:7, 79:7, 91:7, 103:7, 115:7, 127:7,\n",
    "        8:8, 20:8, 32:8, 44:8, 56:8, 68:8, 80:8, 92:8, 104:8, 116:8, \n",
    "        9:9, 21:9, 33:9, 45:9, 57:9, 69:9, 81:9, 93:9, 105:9, 117:9, \n",
    "        10:10, 22:10, 34:10, 46:10, 58:10, 70:10, 82:10, 94:10, 106:10, 118:10, \n",
    "        11:11, 23:11, 35:11, 47:11, 59:11, 71:11, 83:11, 95:11, 107:11, 119:11}\n",
    "\n",
    "    octaves_dict = {}\n",
    "    for n in range(10) : \n",
    "      octave_dict = { i : n for i in range(n*12, (n+1)*12)}\n",
    "      octaves_dict = {**octaves_dict, **octave_dict}\n",
    "\n",
    "    octave_dix = { i : 10 for i in range(10*12, 128)}\n",
    "    octaves_dict = {**octaves_dict, **octave_dix}\n",
    "\n",
    "    #creating 2 new columns 'notes' (1:C, 2:C# ...) and 'octave' according to the table in slack \n",
    "    notes['note'] = [notes_dict[note] for note in notes['pitch']]\n",
    "    notes['octave'] = [octaves_dict[note] for note in notes['pitch']]\n",
    "\n",
    "    #Fetching features and transform to tensorflow dataset \n",
    "    train_notes = np.stack([notes[key] for key in key_order], axis=1) #Keeps columns of key_order and transform to numpy.ndarray format\n",
    "    notes_ds = tf.data.Dataset.from_tensor_slices(train_notes)\n",
    "\n",
    "    seq_length_temp = seq_length+1\n",
    "    #Creating windows \n",
    "    windows = notes_ds.window(seq_length_temp, shift=1, stride=1,\n",
    "                                  drop_remainder=True)\n",
    "    # `flat_map` flattens the\" dataset of datasets\" into a dataset of tensors\n",
    "    flatten = lambda x: x.batch(seq_length_temp, drop_remainder=True)\n",
    "    sequences = windows.flat_map(flatten)\n",
    "\n",
    "    '''# Normalize note pitch\n",
    "    def scale_pitch(x):\n",
    "        x = x/[vocab_size,1.0,1.0]\n",
    "        return x'''\n",
    "\n",
    "    # Split the labels\n",
    "    def split_labels(sequences):\n",
    "        inputs = sequences[:-1]\n",
    "        labels_dense = sequences[-1]\n",
    "        labels = {key:labels_dense[i] for i,key in enumerate(key_order)}\n",
    "\n",
    "        return inputs, labels\n",
    "\n",
    "    seq_ds = sequences.map(split_labels, num_parallel_calls=tf.data.AUTOTUNE)\n",
    "        \n",
    "    return seq_ds "
   ]
  },
  {
   "cell_type": "code",
   "execution_count": 30,
   "id": "6150ec33",
   "metadata": {
    "executionInfo": {
     "elapsed": 3243,
     "status": "ok",
     "timestamp": 1670585293576,
     "user": {
      "displayName": "Anh Dao HO",
      "userId": "09566735134384187092"
     },
     "user_tz": -60
    },
    "id": "839cbb10"
   },
   "outputs": [
    {
     "name": "stderr",
     "output_type": "stream",
     "text": [
      "/home/chibidao/.pyenv/versions/3.10.6/envs/lewagon/lib/python3.10/site-packages/pretty_midi/pretty_midi.py:97: RuntimeWarning: Tempo, Key or Time signature change events found on non-zero tracks.  This is not a valid type 0 or type 1 MIDI file.  Tempo, Key or Time Signature may be wrong.\n",
      "  warnings.warn(\n",
      "/home/chibidao/.pyenv/versions/3.10.6/envs/lewagon/lib/python3.10/site-packages/pretty_midi/pretty_midi.py:97: RuntimeWarning: Tempo, Key or Time signature change events found on non-zero tracks.  This is not a valid type 0 or type 1 MIDI file.  Tempo, Key or Time Signature may be wrong.\n",
      "  warnings.warn(\n",
      "/home/chibidao/.pyenv/versions/3.10.6/envs/lewagon/lib/python3.10/site-packages/pretty_midi/pretty_midi.py:97: RuntimeWarning: Tempo, Key or Time signature change events found on non-zero tracks.  This is not a valid type 0 or type 1 MIDI file.  Tempo, Key or Time Signature may be wrong.\n",
      "  warnings.warn(\n",
      "/home/chibidao/.pyenv/versions/3.10.6/envs/lewagon/lib/python3.10/site-packages/pretty_midi/pretty_midi.py:97: RuntimeWarning: Tempo, Key or Time signature change events found on non-zero tracks.  This is not a valid type 0 or type 1 MIDI file.  Tempo, Key or Time Signature may be wrong.\n",
      "  warnings.warn(\n",
      "/home/chibidao/.pyenv/versions/3.10.6/envs/lewagon/lib/python3.10/site-packages/pretty_midi/pretty_midi.py:97: RuntimeWarning: Tempo, Key or Time signature change events found on non-zero tracks.  This is not a valid type 0 or type 1 MIDI file.  Tempo, Key or Time Signature may be wrong.\n",
      "  warnings.warn(\n",
      "/home/chibidao/.pyenv/versions/3.10.6/envs/lewagon/lib/python3.10/site-packages/pretty_midi/pretty_midi.py:97: RuntimeWarning: Tempo, Key or Time signature change events found on non-zero tracks.  This is not a valid type 0 or type 1 MIDI file.  Tempo, Key or Time Signature may be wrong.\n",
      "  warnings.warn(\n",
      "/home/chibidao/.pyenv/versions/3.10.6/envs/lewagon/lib/python3.10/site-packages/pretty_midi/pretty_midi.py:97: RuntimeWarning: Tempo, Key or Time signature change events found on non-zero tracks.  This is not a valid type 0 or type 1 MIDI file.  Tempo, Key or Time Signature may be wrong.\n",
      "  warnings.warn(\n",
      "/home/chibidao/.pyenv/versions/3.10.6/envs/lewagon/lib/python3.10/site-packages/pretty_midi/pretty_midi.py:97: RuntimeWarning: Tempo, Key or Time signature change events found on non-zero tracks.  This is not a valid type 0 or type 1 MIDI file.  Tempo, Key or Time Signature may be wrong.\n",
      "  warnings.warn(\n",
      "/home/chibidao/.pyenv/versions/3.10.6/envs/lewagon/lib/python3.10/site-packages/pretty_midi/pretty_midi.py:97: RuntimeWarning: Tempo, Key or Time signature change events found on non-zero tracks.  This is not a valid type 0 or type 1 MIDI file.  Tempo, Key or Time Signature may be wrong.\n",
      "  warnings.warn(\n",
      "/home/chibidao/.pyenv/versions/3.10.6/envs/lewagon/lib/python3.10/site-packages/pretty_midi/pretty_midi.py:97: RuntimeWarning: Tempo, Key or Time signature change events found on non-zero tracks.  This is not a valid type 0 or type 1 MIDI file.  Tempo, Key or Time Signature may be wrong.\n",
      "  warnings.warn(\n",
      "/home/chibidao/.pyenv/versions/3.10.6/envs/lewagon/lib/python3.10/site-packages/pretty_midi/pretty_midi.py:97: RuntimeWarning: Tempo, Key or Time signature change events found on non-zero tracks.  This is not a valid type 0 or type 1 MIDI file.  Tempo, Key or Time Signature may be wrong.\n",
      "  warnings.warn(\n",
      "/home/chibidao/.pyenv/versions/3.10.6/envs/lewagon/lib/python3.10/site-packages/pretty_midi/pretty_midi.py:97: RuntimeWarning: Tempo, Key or Time signature change events found on non-zero tracks.  This is not a valid type 0 or type 1 MIDI file.  Tempo, Key or Time Signature may be wrong.\n",
      "  warnings.warn(\n",
      "/home/chibidao/.pyenv/versions/3.10.6/envs/lewagon/lib/python3.10/site-packages/pretty_midi/pretty_midi.py:97: RuntimeWarning: Tempo, Key or Time signature change events found on non-zero tracks.  This is not a valid type 0 or type 1 MIDI file.  Tempo, Key or Time Signature may be wrong.\n",
      "  warnings.warn(\n"
     ]
    }
   ],
   "source": [
    "def generate_train_ds(filenames) :\n",
    "    #Concatenate all batches of sequences by instanciating on the first file\n",
    "    seq_ds_all = create_train_ds_per_file(filenames[0])\n",
    "\n",
    "    for filename in filenames[1:] :\n",
    "        seq_ds = create_train_ds_per_file(filename)\n",
    "        seq_ds_all = seq_ds_all.concatenate(seq_ds)\n",
    "        \n",
    "    #Shuffling batches and optmizing the training dataset for CPU speed\n",
    "    nb_elem_all = 247489 #HARDCODED - To discuss \n",
    "    buffer_size = nb_elem_all - seq_length  # TO REDEFINE\n",
    "    train_ds = (seq_ds\n",
    "                .shuffle(buffer_size)\n",
    "                .batch(batch_size, drop_remainder=True)\n",
    "                .cache()\n",
    "                .prefetch(tf.data.experimental.AUTOTUNE))\n",
    "    \n",
    "    return train_ds \n",
    "\n",
    "train_ds = generate_train_ds(filenames)"
   ]
  },
  {
   "cell_type": "markdown",
   "id": "0fd60cb4",
   "metadata": {
    "id": "ea892afb"
   },
   "source": [
    "## Create and train the model"
   ]
  },
  {
   "cell_type": "code",
   "execution_count": 19,
   "id": "a08db9dc",
   "metadata": {
    "executionInfo": {
     "elapsed": 1418,
     "status": "ok",
     "timestamp": 1670585381102,
     "user": {
      "displayName": "Anh Dao HO",
      "userId": "09566735134384187092"
     },
     "user_tz": -60
    },
    "id": "79d1b042"
   },
   "outputs": [
    {
     "ename": "NameError",
     "evalue": "name 'Bidirectional' is not defined",
     "output_type": "error",
     "traceback": [
      "\u001b[0;31m---------------------------------------------------------------------------\u001b[0m",
      "\u001b[0;31mNameError\u001b[0m                                 Traceback (most recent call last)",
      "Cell \u001b[0;32mIn [19], line 52\u001b[0m\n\u001b[1;32m     39\u001b[0m     model\u001b[38;5;241m.\u001b[39mcompile(\n\u001b[1;32m     40\u001b[0m     loss\u001b[38;5;241m=\u001b[39mloss,\n\u001b[1;32m     41\u001b[0m     loss_weights\u001b[38;5;241m=\u001b[39m{\n\u001b[0;32m   (...)\u001b[0m\n\u001b[1;32m     47\u001b[0m     optimizer\u001b[38;5;241m=\u001b[39moptimizer,\n\u001b[1;32m     48\u001b[0m     )\n\u001b[1;32m     50\u001b[0m     \u001b[38;5;28;01mreturn\u001b[39;00m model \n\u001b[0;32m---> 52\u001b[0m model \u001b[38;5;241m=\u001b[39m \u001b[43mbuild_model\u001b[49m\u001b[43m(\u001b[49m\u001b[43m)\u001b[49m\n",
      "Cell \u001b[0;32mIn [19], line 8\u001b[0m, in \u001b[0;36mbuild_model\u001b[0;34m()\u001b[0m\n\u001b[1;32m      6\u001b[0m input_shape \u001b[38;5;241m=\u001b[39m (seq_length, \u001b[38;5;241m4\u001b[39m)\n\u001b[1;32m      7\u001b[0m inputs \u001b[38;5;241m=\u001b[39m tf\u001b[38;5;241m.\u001b[39mkeras\u001b[38;5;241m.\u001b[39mInput(input_shape)\n\u001b[0;32m----> 8\u001b[0m x1 \u001b[38;5;241m=\u001b[39m \u001b[43mBidirectional\u001b[49m(LSTM(\u001b[38;5;241m128\u001b[39m, return_sequences\u001b[38;5;241m=\u001b[39m\u001b[38;5;28;01mTrue\u001b[39;00m))(inputs)\n\u001b[1;32m      9\u001b[0m x2 \u001b[38;5;241m=\u001b[39m SeqSelfAttention(attention_activation\u001b[38;5;241m=\u001b[39m\u001b[38;5;124m'\u001b[39m\u001b[38;5;124msigmoid\u001b[39m\u001b[38;5;124m'\u001b[39m)(x1)\n\u001b[1;32m     10\u001b[0m x3 \u001b[38;5;241m=\u001b[39m Bidirectional(LSTM(\u001b[38;5;241m128\u001b[39m, return_sequences\u001b[38;5;241m=\u001b[39m\u001b[38;5;28;01mTrue\u001b[39;00m))(x2)\n",
      "\u001b[0;31mNameError\u001b[0m: name 'Bidirectional' is not defined"
     ]
    }
   ],
   "source": [
    "def build_model() :\n",
    "    \n",
    "    ###################\n",
    "    ###**STRUCTURE**###\n",
    "    ###################\n",
    "    input_shape = (seq_length, 4)\n",
    "    inputs = tf.keras.Input(input_shape)\n",
    "    x1 = Bidirectional(LSTM(128, return_sequences=True))(inputs)\n",
    "    x2 = SeqSelfAttention(attention_activation='sigmoid')(x1)\n",
    "    x3 = Bidirectional(LSTM(128, return_sequences=True))(x2)\n",
    "    x4 = SeqSelfAttention(attention_activation='sigmoid')(x3)\n",
    "    x5 = tf.keras.layers.Dropout(0.3)(x4)\n",
    "    x6 = LSTM(128)(x5)\n",
    "\n",
    "    outputs = {\n",
    "    'note': tf.keras.layers.Dense(128, name='note')(x6),\n",
    "    'octave': tf.keras.layers.Dense(128, name='octave')(x6),\n",
    "    'step': tf.keras.layers.Dense(1, name='step')(x6),\n",
    "    'duration': tf.keras.layers.Dense(1, name='duration')(x6),\n",
    "    }\n",
    "\n",
    "\n",
    "    model = tf.keras.Model(inputs, outputs)\n",
    "\n",
    "    loss = {\n",
    "          'note': tf.keras.losses.SparseCategoricalCrossentropy(\n",
    "              from_logits=True),\n",
    "          'octave': tf.keras.losses.SparseCategoricalCrossentropy(\n",
    "              from_logits=True),\n",
    "          'step': mse_with_positive_pressure,\n",
    "          'duration': mse_with_positive_pressure,\n",
    "    }\n",
    "    \n",
    "    ###################\n",
    "    ###**COMPILING**###\n",
    "    ###################\n",
    "    optimizer = tf.keras.optimizers.Adam(learning_rate=learning_rate)\n",
    "\n",
    "    model.compile(\n",
    "    loss=loss,\n",
    "    loss_weights={\n",
    "        'note': note_weight,\n",
    "        'octave': octave_weight,\n",
    "        'step': step_weight,\n",
    "        'duration': duration_weight,\n",
    "    },\n",
    "    optimizer=optimizer,\n",
    "    )\n",
    "\n",
    "    return model \n",
    "\n",
    "model = build_model()"
   ]
  },
  {
   "cell_type": "code",
   "execution_count": 44,
   "id": "420b8650",
   "metadata": {
    "colab": {
     "base_uri": "https://localhost:8080/"
    },
    "executionInfo": {
     "elapsed": 10,
     "status": "ok",
     "timestamp": 1670585381102,
     "user": {
      "displayName": "Anh Dao HO",
      "userId": "09566735134384187092"
     },
     "user_tz": -60
    },
    "id": "58d23263",
    "outputId": "04a5b8b9-264b-418a-c70f-48ff4082a280"
   },
   "outputs": [
    {
     "name": "stdout",
     "output_type": "stream",
     "text": [
      "Model: \"model_1\"\n",
      "__________________________________________________________________________________________________\n",
      " Layer (type)                   Output Shape         Param #     Connected to                     \n",
      "==================================================================================================\n",
      " input_2 (InputLayer)           [(None, 50, 4)]      0           []                               \n",
      "                                                                                                  \n",
      " bidirectional_2 (Bidirectional  (None, 50, 256)     136192      ['input_2[0][0]']                \n",
      " )                                                                                                \n",
      "                                                                                                  \n",
      " seq_self_attention_2 (SeqSelfA  (None, 50, 256)     16449       ['bidirectional_2[0][0]']        \n",
      " ttention)                                                                                        \n",
      "                                                                                                  \n",
      " bidirectional_3 (Bidirectional  (None, 50, 256)     394240      ['seq_self_attention_2[0][0]']   \n",
      " )                                                                                                \n",
      "                                                                                                  \n",
      " seq_self_attention_3 (SeqSelfA  (None, 50, 256)     16449       ['bidirectional_3[0][0]']        \n",
      " ttention)                                                                                        \n",
      "                                                                                                  \n",
      " dropout_1 (Dropout)            (None, 50, 256)      0           ['seq_self_attention_3[0][0]']   \n",
      "                                                                                                  \n",
      " lstm_5 (LSTM)                  (None, 128)          197120      ['dropout_1[0][0]']              \n",
      "                                                                                                  \n",
      " duration (Dense)               (None, 1)            129         ['lstm_5[0][0]']                 \n",
      "                                                                                                  \n",
      " note (Dense)                   (None, 128)          16512       ['lstm_5[0][0]']                 \n",
      "                                                                                                  \n",
      " octave (Dense)                 (None, 128)          16512       ['lstm_5[0][0]']                 \n",
      "                                                                                                  \n",
      " step (Dense)                   (None, 1)            129         ['lstm_5[0][0]']                 \n",
      "                                                                                                  \n",
      "==================================================================================================\n",
      "Total params: 793,732\n",
      "Trainable params: 793,732\n",
      "Non-trainable params: 0\n",
      "__________________________________________________________________________________________________\n"
     ]
    }
   ],
   "source": [
    "model.summary()"
   ]
  },
  {
   "cell_type": "code",
   "execution_count": 45,
   "id": "99615d07",
   "metadata": {
    "executionInfo": {
     "elapsed": 2,
     "status": "ok",
     "timestamp": 1670585381102,
     "user": {
      "displayName": "Anh Dao HO",
      "userId": "09566735134384187092"
     },
     "user_tz": -60
    },
    "id": "df498f69"
   },
   "outputs": [],
   "source": [
    "callbacks = [\n",
    "    tf.keras.callbacks.ModelCheckpoint(\n",
    "        filepath='./training_checkpoints/ckpt_{epoch}',\n",
    "        save_weights_only=True),\n",
    "    tf.keras.callbacks.EarlyStopping(\n",
    "        monitor='loss',\n",
    "        patience=patience,\n",
    "        verbose=1,\n",
    "        restore_best_weights=True),\n",
    "]"
   ]
  },
  {
   "cell_type": "code",
   "execution_count": 46,
   "id": "9db05b55",
   "metadata": {
    "colab": {
     "base_uri": "https://localhost:8080/"
    },
    "executionInfo": {
     "elapsed": 166399,
     "status": "ok",
     "timestamp": 1670585547499,
     "user": {
      "displayName": "Anh Dao HO",
      "userId": "09566735134384187092"
     },
     "user_tz": -60
    },
    "id": "45221967",
    "outputId": "85c7f419-3108-4c7e-c940-9977fb8b00b9",
    "scrolled": true
   },
   "outputs": [
    {
     "name": "stdout",
     "output_type": "stream",
     "text": [
      "Epoch 1/35\n",
      "18/18 [==============================] - 13s 214ms/step - loss: 6.0833 - duration_loss: 0.1076 - note_loss: 4.4561 - octave_loss: 4.6455 - step_loss: 0.3582\n",
      "Epoch 2/35\n",
      "18/18 [==============================] - 4s 207ms/step - loss: 4.6437 - duration_loss: 0.0303 - note_loss: 3.5619 - octave_loss: 4.0061 - step_loss: 0.0501\n",
      "Epoch 3/35\n",
      "18/18 [==============================] - 4s 209ms/step - loss: 3.2005 - duration_loss: 0.0216 - note_loss: 2.5103 - octave_loss: 2.6457 - step_loss: 0.0072\n",
      "Epoch 4/35\n",
      "18/18 [==============================] - 4s 207ms/step - loss: 2.5261 - duration_loss: 0.0272 - note_loss: 2.0783 - octave_loss: 1.6500 - step_loss: 0.0080\n",
      "Epoch 5/35\n",
      "18/18 [==============================] - 4s 205ms/step - loss: 2.3531 - duration_loss: 0.0057 - note_loss: 1.9971 - octave_loss: 1.3749 - step_loss: 0.0065\n",
      "Epoch 6/35\n",
      "18/18 [==============================] - 4s 209ms/step - loss: 2.3133 - duration_loss: 0.0103 - note_loss: 1.9705 - octave_loss: 1.3111 - step_loss: 0.0048\n",
      "Epoch 7/35\n",
      "18/18 [==============================] - 4s 212ms/step - loss: 2.2971 - duration_loss: 0.0052 - note_loss: 1.9657 - octave_loss: 1.2936 - step_loss: 0.0029\n",
      "Epoch 8/35\n",
      "18/18 [==============================] - 4s 244ms/step - loss: 2.2900 - duration_loss: 0.0064 - note_loss: 1.9609 - octave_loss: 1.2822 - step_loss: 0.0022\n",
      "Epoch 9/35\n",
      "18/18 [==============================] - 4s 207ms/step - loss: 2.2889 - duration_loss: 0.0095 - note_loss: 1.9589 - octave_loss: 1.2733 - step_loss: 0.0022\n",
      "Epoch 10/35\n",
      "18/18 [==============================] - 4s 205ms/step - loss: 2.2860 - duration_loss: 0.0098 - note_loss: 1.9553 - octave_loss: 1.2742 - step_loss: 0.0023\n",
      "Epoch 11/35\n",
      "18/18 [==============================] - 4s 209ms/step - loss: 2.2842 - duration_loss: 0.0139 - note_loss: 1.9505 - octave_loss: 1.2703 - step_loss: 0.0022\n",
      "Epoch 12/35\n",
      "18/18 [==============================] - 4s 207ms/step - loss: 2.2719 - duration_loss: 0.0050 - note_loss: 1.9483 - octave_loss: 1.2663 - step_loss: 0.0021\n",
      "Epoch 13/35\n",
      "18/18 [==============================] - 4s 206ms/step - loss: 2.2727 - duration_loss: 0.0047 - note_loss: 1.9504 - octave_loss: 1.2636 - step_loss: 0.0017\n",
      "Epoch 14/35\n",
      "18/18 [==============================] - 4s 206ms/step - loss: 2.2719 - duration_loss: 0.0049 - note_loss: 1.9483 - octave_loss: 1.2684 - step_loss: 0.0017\n",
      "Epoch 15/35\n",
      "18/18 [==============================] - 4s 224ms/step - loss: 2.2663 - duration_loss: 0.0043 - note_loss: 1.9442 - octave_loss: 1.2630 - step_loss: 0.0021\n",
      "Epoch 16/35\n",
      "18/18 [==============================] - 4s 212ms/step - loss: 2.2631 - duration_loss: 0.0039 - note_loss: 1.9427 - octave_loss: 1.2590 - step_loss: 0.0018\n",
      "Epoch 17/35\n",
      "18/18 [==============================] - 4s 207ms/step - loss: 2.2576 - duration_loss: 0.0040 - note_loss: 1.9374 - octave_loss: 1.2565 - step_loss: 0.0020\n",
      "Epoch 18/35\n",
      "18/18 [==============================] - 4s 217ms/step - loss: 2.2516 - duration_loss: 0.0047 - note_loss: 1.9314 - octave_loss: 1.2536 - step_loss: 0.0022\n",
      "Epoch 19/35\n",
      "18/18 [==============================] - 5s 256ms/step - loss: 2.2511 - duration_loss: 0.0047 - note_loss: 1.9324 - octave_loss: 1.2495 - step_loss: 0.0016\n",
      "Epoch 20/35\n",
      "18/18 [==============================] - 4s 207ms/step - loss: 2.2553 - duration_loss: 0.0041 - note_loss: 1.9372 - octave_loss: 1.2481 - step_loss: 0.0019\n",
      "Epoch 21/35\n",
      "18/18 [==============================] - 4s 206ms/step - loss: 2.2537 - duration_loss: 0.0040 - note_loss: 1.9352 - octave_loss: 1.2495 - step_loss: 0.0022\n",
      "Epoch 22/35\n",
      "18/18 [==============================] - 4s 208ms/step - loss: 2.2473 - duration_loss: 0.0039 - note_loss: 1.9330 - octave_loss: 1.2353 - step_loss: 0.0016\n",
      "Epoch 23/35\n",
      "18/18 [==============================] - 4s 208ms/step - loss: 2.2388 - duration_loss: 0.0045 - note_loss: 1.9272 - octave_loss: 1.2225 - step_loss: 0.0015\n",
      "Epoch 24/35\n",
      "18/18 [==============================] - 4s 206ms/step - loss: 2.2386 - duration_loss: 0.0044 - note_loss: 1.9269 - octave_loss: 1.2218 - step_loss: 0.0018\n",
      "Epoch 25/35\n",
      "18/18 [==============================] - 4s 212ms/step - loss: 2.2245 - duration_loss: 0.0039 - note_loss: 1.9232 - octave_loss: 1.1815 - step_loss: 0.0021\n",
      "Epoch 26/35\n",
      "18/18 [==============================] - 4s 207ms/step - loss: 2.2285 - duration_loss: 0.0062 - note_loss: 1.9190 - octave_loss: 1.2063 - step_loss: 0.0017\n",
      "Epoch 27/35\n",
      "18/18 [==============================] - 4s 206ms/step - loss: 2.2609 - duration_loss: 0.0050 - note_loss: 1.9397 - octave_loss: 1.2584 - step_loss: 0.0016\n",
      "Epoch 28/35\n",
      "18/18 [==============================] - 4s 208ms/step - loss: 2.2482 - duration_loss: 0.0042 - note_loss: 1.9307 - octave_loss: 1.2472 - step_loss: 0.0015\n",
      "Epoch 29/35\n",
      "18/18 [==============================] - 4s 211ms/step - loss: 2.2254 - duration_loss: 0.0041 - note_loss: 1.9140 - octave_loss: 1.2221 - step_loss: 0.0018\n",
      "Epoch 30/35\n",
      "18/18 [==============================] - 4s 208ms/step - loss: 2.2099 - duration_loss: 0.0040 - note_loss: 1.9066 - octave_loss: 1.1875 - step_loss: 0.0025\n",
      "Epoch 31/35\n",
      "18/18 [==============================] - 4s 207ms/step - loss: 2.2283 - duration_loss: 0.0040 - note_loss: 1.9199 - octave_loss: 1.2091 - step_loss: 0.0020\n",
      "Epoch 32/35\n",
      "18/18 [==============================] - 4s 207ms/step - loss: 2.1879 - duration_loss: 0.0042 - note_loss: 1.8910 - octave_loss: 1.1590 - step_loss: 0.0029\n",
      "Epoch 33/35\n",
      "18/18 [==============================] - 4s 210ms/step - loss: 2.2246 - duration_loss: 0.0105 - note_loss: 1.9166 - octave_loss: 1.1664 - step_loss: 0.0058\n",
      "Epoch 34/35\n",
      "18/18 [==============================] - 4s 208ms/step - loss: 2.2310 - duration_loss: 0.0230 - note_loss: 1.9075 - octave_loss: 1.1807 - step_loss: 0.0054\n",
      "Epoch 35/35\n",
      "18/18 [==============================] - 4s 209ms/step - loss: 2.3430 - duration_loss: 0.1186 - note_loss: 1.9159 - octave_loss: 1.1851 - step_loss: 0.0122\n",
      "CPU times: user 3min 47s, sys: 17.7 s, total: 4min 5s\n",
      "Wall time: 2min 45s\n"
     ]
    }
   ],
   "source": [
    "%%time\n",
    "history = model.fit(\n",
    "    train_ds,\n",
    "    epochs=35,\n",
    "    callbacks=callbacks,\n",
    ")"
   ]
  },
  {
   "cell_type": "code",
   "execution_count": 47,
   "id": "4ab09295",
   "metadata": {
    "colab": {
     "base_uri": "https://localhost:8080/",
     "height": 0
    },
    "executionInfo": {
     "elapsed": 364,
     "status": "ok",
     "timestamp": 1670585547852,
     "user": {
      "displayName": "Anh Dao HO",
      "userId": "09566735134384187092"
     },
     "user_tz": -60
    },
    "id": "e99b14d0",
    "outputId": "023a9303-f5fb-4b3b-9e9c-86960c61c573"
   },
   "outputs": [
    {
     "data": {
      "image/png": "[encoded data removed]",
      "text/plain": [
       "<Figure size 432x288 with 1 Axes>"
      ]
     },
     "metadata": {
      "needs_background": "light"
     },
     "output_type": "display_data"
    }
   ],
   "source": [
    "plt.plot(history.epoch, history.history['loss'], label='total');\n",
    "plt.plot(history.epoch, history.history['duration_loss'], label='duration');\n",
    "plt.plot(history.epoch, history.history['note_loss'], label='note');\n",
    "plt.plot(history.epoch, history.history['octave_loss'], label='octave');\n",
    "plt.plot(history.epoch, history.history['step_loss'], label='step');\n",
    "plt.legend()\n",
    "plt.show()\n"
   ]
  },
  {
   "cell_type": "code",
   "execution_count": 48,
   "id": "ef25f4ba",
   "metadata": {
    "colab": {
     "base_uri": "https://localhost:8080/"
    },
    "executionInfo": {
     "elapsed": 4,
     "status": "ok",
     "timestamp": 1670585547853,
     "user": {
      "displayName": "Anh Dao HO",
      "userId": "09566735134384187092"
     },
     "user_tz": -60
    },
    "id": "QBilMqd4ZiUP",
    "outputId": "2f225cba-72a5-4146-9cd1-f2ef01f4dc45"
   },
   "outputs": [
    {
     "data": {
      "text/plain": [
       "dict_keys(['loss', 'duration_loss', 'note_loss', 'octave_loss', 'step_loss'])"
      ]
     },
     "execution_count": 48,
     "metadata": {},
     "output_type": "execute_result"
    }
   ],
   "source": [
    "history.history.keys()"
   ]
  },
  {
   "cell_type": "markdown",
   "id": "55f2cb6a",
   "metadata": {
    "id": "e3428699"
   },
   "source": [
    "## Generate notes"
   ]
  },
  {
   "cell_type": "code",
   "execution_count": 32,
   "id": "410f3955",
   "metadata": {
    "colab": {
     "base_uri": "https://localhost:8080/",
     "height": 206
    },
    "executionInfo": {
     "elapsed": 223,
     "status": "ok",
     "timestamp": 1670579169680,
     "user": {
      "displayName": "Anh Dao HO",
      "userId": "09566735134384187092"
     },
     "user_tz": -60
    },
    "id": "DN_3cDKdQEA4",
    "outputId": "2773804c-2218-4a2b-dac7-5e880455aadf"
   },
   "outputs": [
    {
     "data": {
      "text/html": [
       "\n",
       "  <div id=\"df-66c40731-0610-468e-b30d-3b271b56083b\">\n",
       "    <div class=\"colab-df-container\">\n",
       "      <div>\n",
       "<style scoped>\n",
       "    .dataframe tbody tr th:only-of-type {\n",
       "        vertical-align: middle;\n",
       "    }\n",
       "\n",
       "    .dataframe tbody tr th {\n",
       "        vertical-align: top;\n",
       "    }\n",
       "\n",
       "    .dataframe thead th {\n",
       "        text-align: right;\n",
       "    }\n",
       "</style>\n",
       "<table border=\"1\" class=\"dataframe\">\n",
       "  <thead>\n",
       "    <tr style=\"text-align: right;\">\n",
       "      <th></th>\n",
       "      <th>pitch</th>\n",
       "      <th>start</th>\n",
       "      <th>end</th>\n",
       "      <th>step</th>\n",
       "      <th>duration</th>\n",
       "      <th>note</th>\n",
       "      <th>octave</th>\n",
       "    </tr>\n",
       "  </thead>\n",
       "  <tbody>\n",
       "    <tr>\n",
       "      <th>0</th>\n",
       "      <td>90</td>\n",
       "      <td>0.001078</td>\n",
       "      <td>0.087284</td>\n",
       "      <td>0.000000</td>\n",
       "      <td>0.086207</td>\n",
       "      <td>6</td>\n",
       "      <td>7</td>\n",
       "    </tr>\n",
       "    <tr>\n",
       "      <th>1</th>\n",
       "      <td>94</td>\n",
       "      <td>0.086207</td>\n",
       "      <td>0.172414</td>\n",
       "      <td>0.085129</td>\n",
       "      <td>0.086207</td>\n",
       "      <td>10</td>\n",
       "      <td>7</td>\n",
       "    </tr>\n",
       "    <tr>\n",
       "      <th>2</th>\n",
       "      <td>85</td>\n",
       "      <td>0.172414</td>\n",
       "      <td>0.258621</td>\n",
       "      <td>0.086207</td>\n",
       "      <td>0.086207</td>\n",
       "      <td>1</td>\n",
       "      <td>7</td>\n",
       "    </tr>\n",
       "    <tr>\n",
       "      <th>3</th>\n",
       "      <td>90</td>\n",
       "      <td>0.258621</td>\n",
       "      <td>0.344827</td>\n",
       "      <td>0.086207</td>\n",
       "      <td>0.086207</td>\n",
       "      <td>6</td>\n",
       "      <td>7</td>\n",
       "    </tr>\n",
       "    <tr>\n",
       "      <th>4</th>\n",
       "      <td>87</td>\n",
       "      <td>0.344827</td>\n",
       "      <td>0.431034</td>\n",
       "      <td>0.086207</td>\n",
       "      <td>0.086207</td>\n",
       "      <td>3</td>\n",
       "      <td>7</td>\n",
       "    </tr>\n",
       "  </tbody>\n",
       "</table>\n",
       "</div>\n",
       "      <button class=\"colab-df-convert\" onclick=\"convertToInteractive('df-66c40731-0610-468e-b30d-3b271b56083b')\"\n",
       "              title=\"Convert this dataframe to an interactive table.\"\n",
       "              style=\"display:none;\">\n",
       "        \n",
       "  <svg xmlns=\"http://www.w3.org/2000/svg\" height=\"24px\"viewBox=\"0 0 24 24\"\n",
       "       width=\"24px\">\n",
       "    <path d=\"M0 0h24v24H0V0z\" fill=\"none\"/>\n",
       "    <path d=\"M18.56 5.44l.94 2.06.94-2.06 2.06-.94-2.06-.94-.94-2.06-.94 2.06-2.06.94zm-11 1L8.5 8.5l.94-2.06 2.06-.94-2.06-.94L8.5 2.5l-.94 2.06-2.06.94zm10 10l.94 2.06.94-2.06 2.06-.94-2.06-.94-.94-2.06-.94 2.06-2.06.94z\"/><path d=\"M17.41 7.96l-1.37-1.37c-.4-.4-.92-.59-1.43-.59-.52 0-1.04.2-1.43.59L10.3 9.45l-7.72 7.72c-.78.78-.78 2.05 0 2.83L4 21.41c.39.39.9.59 1.41.59.51 0 1.02-.2 1.41-.59l7.78-7.78 2.81-2.81c.8-.78.8-2.07 0-2.86zM5.41 20L4 18.59l7.72-7.72 1.47 1.35L5.41 20z\"/>\n",
       "  </svg>\n",
       "      </button>\n",
       "      \n",
       "  <style>\n",
       "    .colab-df-container {\n",
       "      display:flex;\n",
       "      flex-wrap:wrap;\n",
       "      gap: 12px;\n",
       "    }\n",
       "\n",
       "    .colab-df-convert {\n",
       "      background-color: #E8F0FE;\n",
       "      border: none;\n",
       "      border-radius: 50%;\n",
       "      cursor: pointer;\n",
       "      display: none;\n",
       "      fill: #1967D2;\n",
       "      height: 32px;\n",
       "      padding: 0 0 0 0;\n",
       "      width: 32px;\n",
       "    }\n",
       "\n",
       "    .colab-df-convert:hover {\n",
       "      background-color: #E2EBFA;\n",
       "      box-shadow: 0px 1px 2px rgba(60, 64, 67, 0.3), 0px 1px 3px 1px rgba(60, 64, 67, 0.15);\n",
       "      fill: #174EA6;\n",
       "    }\n",
       "\n",
       "    [theme=dark] .colab-df-convert {\n",
       "      background-color: #3B4455;\n",
       "      fill: #D2E3FC;\n",
       "    }\n",
       "\n",
       "    [theme=dark] .colab-df-convert:hover {\n",
       "      background-color: #434B5C;\n",
       "      box-shadow: 0px 1px 3px 1px rgba(0, 0, 0, 0.15);\n",
       "      filter: drop-shadow(0px 1px 2px rgba(0, 0, 0, 0.3));\n",
       "      fill: #FFFFFF;\n",
       "    }\n",
       "  </style>\n",
       "\n",
       "      <script>\n",
       "        const buttonEl =\n",
       "          document.querySelector('#df-66c40731-0610-468e-b30d-3b271b56083b button.colab-df-convert');\n",
       "        buttonEl.style.display =\n",
       "          google.colab.kernel.accessAllowed ? 'block' : 'none';\n",
       "\n",
       "        async function convertToInteractive(key) {\n",
       "          const element = document.querySelector('#df-66c40731-0610-468e-b30d-3b271b56083b');\n",
       "          const dataTable =\n",
       "            await google.colab.kernel.invokeFunction('convertToInteractive',\n",
       "                                                     [key], {});\n",
       "          if (!dataTable) return;\n",
       "\n",
       "          const docLinkHtml = 'Like what you see? Visit the ' +\n",
       "            '<a target=\"_blank\" href=https://colab.research.google.com/notebooks/data_table.ipynb>data table notebook</a>'\n",
       "            + ' to learn more about interactive tables.';\n",
       "          element.innerHTML = '';\n",
       "          dataTable['output_type'] = 'display_data';\n",
       "          await google.colab.output.renderOutput(dataTable, element);\n",
       "          const docLink = document.createElement('div');\n",
       "          docLink.innerHTML = docLinkHtml;\n",
       "          element.appendChild(docLink);\n",
       "        }\n",
       "      </script>\n",
       "    </div>\n",
       "  </div>\n",
       "  "
      ],
      "text/plain": [
       "   pitch     start       end      step  duration  note  octave\n",
       "0     90  0.001078  0.087284  0.000000  0.086207     6       7\n",
       "1     94  0.086207  0.172414  0.085129  0.086207    10       7\n",
       "2     85  0.172414  0.258621  0.086207  0.086207     1       7\n",
       "3     90  0.258621  0.344827  0.086207  0.086207     6       7\n",
       "4     87  0.344827  0.431034  0.086207  0.086207     3       7"
      ]
     },
     "execution_count": 32,
     "metadata": {},
     "output_type": "execute_result"
    }
   ],
   "source": [
    "#you need to see note and octave. If not, re-run raw_notes at the begining of the notebook \n",
    "notes_dict = {0:0, 12:0, 24:0, 36:0, 48:0, 60:0, 72:0, 84:0, 96:0, 108:0, 120:0,\n",
    "        1:1, 13:1, 25:1, 37:1, 49:1, 61:1, 73:1, 85:1, 97:1, 109:1, 121:1,\n",
    "        2:2, 14:2, 26:2, 38:2, 50:2, 62:2, 74:2, 86:2, 98:2, 110:2, 122:2,\n",
    "        3:3, 15:3, 27:3, 39:3, 51:3, 63:3, 75:3, 87:3, 99:3, 111:3, 123:3,\n",
    "        4:4, 16:4, 28:4, 40:4, 52:4, 64:4, 76:4, 88:4, 100:4, 112:4, 124:4,\n",
    "        5:5, 17:5, 29:5, 41:5, 53:5, 65:5, 77:5, 89:5, 101:5, 113:5, 125:5, \n",
    "        6:6, 18:6, 30:6, 42:6, 54:6, 66:6, 78:6, 90:6, 102:6, 114:6, 126:6,\n",
    "        7:7, 19:7, 31:7, 43:7, 55:7, 67:7, 79:7, 91:7, 103:7, 115:7, 127:7,\n",
    "        8:8, 20:8, 32:8, 44:8, 56:8, 68:8, 80:8, 92:8, 104:8, 116:8, \n",
    "        9:9, 21:9, 33:9, 45:9, 57:9, 69:9, 81:9, 93:9, 105:9, 117:9, \n",
    "        10:10, 22:10, 34:10, 46:10, 58:10, 70:10, 82:10, 94:10, 106:10, 118:10, \n",
    "        11:11, 23:11, 35:11, 47:11, 59:11, 71:11, 83:11, 95:11, 107:11, 119:11}\n",
    "\n",
    "octaves_dict = {}\n",
    "for n in range(10) : \n",
    "  octave_dict = { i : n for i in range(n*12, (n+1)*12)}\n",
    "  octaves_dict = {**octaves_dict, **octave_dict}\n",
    "\n",
    "octave_dix = { i : 10 for i in range(10*12, 128)}\n",
    "octaves_dict = {**octaves_dict, **octave_dix}\n",
    "    \n",
    "#creating the sample dataset \n",
    "raw_notes['note'] = [notes_dict[note] for note in raw_notes['pitch']]\n",
    "raw_notes['octave'] = [octaves_dict[note] for note in raw_notes['pitch']]\n",
    "\n",
    "raw_notes.head()"
   ]
  },
  {
   "cell_type": "code",
   "execution_count": 41,
   "id": "49a2d95a",
   "metadata": {
    "colab": {
     "base_uri": "https://localhost:8080/"
    },
    "executionInfo": {
     "elapsed": 8599,
     "status": "ok",
     "timestamp": 1670579303528,
     "user": {
      "displayName": "Anh Dao HO",
      "userId": "09566735134384187092"
     },
     "user_tz": -60
    },
    "id": "2544b946",
    "outputId": "b846a40b-f1c6-4d01-aad8-2bfe5b4e6610"
   },
   "outputs": [
    {
     "name": "stdout",
     "output_type": "stream",
     "text": [
      "1/1 [==============================] - 0s 32ms/step\n",
      "1/1 [==============================] - 0s 31ms/step\n",
      "1/1 [==============================] - 0s 30ms/step\n",
      "1/1 [==============================] - 0s 31ms/step\n",
      "1/1 [==============================] - 0s 30ms/step\n",
      "1/1 [==============================] - 0s 29ms/step\n",
      "1/1 [==============================] - 0s 31ms/step\n",
      "1/1 [==============================] - 0s 30ms/step\n",
      "1/1 [==============================] - 0s 31ms/step\n",
      "1/1 [==============================] - 0s 35ms/step\n",
      "1/1 [==============================] - 0s 28ms/step\n",
      "1/1 [==============================] - 0s 33ms/step\n",
      "1/1 [==============================] - 0s 30ms/step\n",
      "1/1 [==============================] - 0s 30ms/step\n",
      "1/1 [==============================] - 0s 30ms/step\n",
      "1/1 [==============================] - 0s 31ms/step\n",
      "1/1 [==============================] - 0s 36ms/step\n",
      "1/1 [==============================] - 0s 31ms/step\n",
      "1/1 [==============================] - 0s 32ms/step\n",
      "1/1 [==============================] - 0s 28ms/step\n",
      "1/1 [==============================] - 0s 29ms/step\n",
      "1/1 [==============================] - 0s 27ms/step\n",
      "1/1 [==============================] - 0s 27ms/step\n",
      "1/1 [==============================] - 0s 30ms/step\n",
      "1/1 [==============================] - 0s 29ms/step\n",
      "1/1 [==============================] - 0s 30ms/step\n",
      "1/1 [==============================] - 0s 28ms/step\n",
      "1/1 [==============================] - 0s 29ms/step\n",
      "1/1 [==============================] - 0s 29ms/step\n",
      "1/1 [==============================] - 0s 28ms/step\n",
      "1/1 [==============================] - 0s 27ms/step\n",
      "1/1 [==============================] - 0s 27ms/step\n",
      "1/1 [==============================] - 0s 27ms/step\n",
      "1/1 [==============================] - 0s 27ms/step\n",
      "1/1 [==============================] - 0s 30ms/step\n",
      "1/1 [==============================] - 0s 29ms/step\n",
      "1/1 [==============================] - 0s 32ms/step\n",
      "1/1 [==============================] - 0s 30ms/step\n",
      "1/1 [==============================] - 0s 27ms/step\n",
      "1/1 [==============================] - 0s 30ms/step\n",
      "1/1 [==============================] - 0s 30ms/step\n",
      "1/1 [==============================] - 0s 27ms/step\n",
      "1/1 [==============================] - 0s 33ms/step\n",
      "1/1 [==============================] - 0s 27ms/step\n",
      "1/1 [==============================] - 0s 27ms/step\n",
      "1/1 [==============================] - 0s 28ms/step\n",
      "1/1 [==============================] - 0s 35ms/step\n",
      "1/1 [==============================] - 0s 28ms/step\n",
      "1/1 [==============================] - 0s 31ms/step\n",
      "1/1 [==============================] - 0s 27ms/step\n",
      "1/1 [==============================] - 0s 29ms/step\n",
      "1/1 [==============================] - 0s 31ms/step\n",
      "1/1 [==============================] - 0s 30ms/step\n",
      "1/1 [==============================] - 0s 30ms/step\n",
      "1/1 [==============================] - 0s 31ms/step\n",
      "1/1 [==============================] - 0s 29ms/step\n",
      "1/1 [==============================] - 0s 31ms/step\n",
      "1/1 [==============================] - 0s 30ms/step\n",
      "1/1 [==============================] - 0s 30ms/step\n",
      "1/1 [==============================] - 0s 29ms/step\n",
      "1/1 [==============================] - 0s 36ms/step\n",
      "1/1 [==============================] - 0s 28ms/step\n",
      "1/1 [==============================] - 0s 28ms/step\n",
      "1/1 [==============================] - 0s 31ms/step\n",
      "1/1 [==============================] - 0s 31ms/step\n",
      "1/1 [==============================] - 0s 29ms/step\n",
      "1/1 [==============================] - 0s 30ms/step\n",
      "1/1 [==============================] - 0s 28ms/step\n",
      "1/1 [==============================] - 0s 28ms/step\n",
      "1/1 [==============================] - 0s 37ms/step\n",
      "1/1 [==============================] - 0s 30ms/step\n",
      "1/1 [==============================] - 0s 29ms/step\n",
      "1/1 [==============================] - 0s 36ms/step\n",
      "1/1 [==============================] - 0s 26ms/step\n",
      "1/1 [==============================] - 0s 33ms/step\n",
      "1/1 [==============================] - 0s 27ms/step\n",
      "1/1 [==============================] - 0s 30ms/step\n",
      "1/1 [==============================] - 0s 27ms/step\n",
      "1/1 [==============================] - 0s 32ms/step\n",
      "1/1 [==============================] - 0s 30ms/step\n",
      "1/1 [==============================] - 0s 30ms/step\n",
      "1/1 [==============================] - 0s 27ms/step\n",
      "1/1 [==============================] - 0s 47ms/step\n",
      "1/1 [==============================] - 0s 29ms/step\n",
      "1/1 [==============================] - 0s 33ms/step\n",
      "1/1 [==============================] - 0s 28ms/step\n",
      "1/1 [==============================] - 0s 31ms/step\n",
      "1/1 [==============================] - 0s 39ms/step\n",
      "1/1 [==============================] - 0s 30ms/step\n",
      "1/1 [==============================] - 0s 31ms/step\n",
      "1/1 [==============================] - 0s 30ms/step\n",
      "1/1 [==============================] - 0s 30ms/step\n",
      "1/1 [==============================] - 0s 29ms/step\n",
      "1/1 [==============================] - 0s 27ms/step\n",
      "1/1 [==============================] - 0s 30ms/step\n",
      "1/1 [==============================] - 0s 29ms/step\n",
      "1/1 [==============================] - 0s 31ms/step\n",
      "1/1 [==============================] - 0s 28ms/step\n",
      "1/1 [==============================] - 0s 33ms/step\n",
      "1/1 [==============================] - 0s 30ms/step\n",
      "1/1 [==============================] - 0s 27ms/step\n",
      "1/1 [==============================] - 0s 27ms/step\n",
      "1/1 [==============================] - 0s 27ms/step\n",
      "1/1 [==============================] - 0s 29ms/step\n",
      "1/1 [==============================] - 0s 30ms/step\n",
      "1/1 [==============================] - 0s 30ms/step\n",
      "1/1 [==============================] - 0s 30ms/step\n",
      "1/1 [==============================] - 0s 27ms/step\n",
      "1/1 [==============================] - 0s 30ms/step\n",
      "1/1 [==============================] - 0s 32ms/step\n",
      "1/1 [==============================] - 0s 28ms/step\n",
      "1/1 [==============================] - 0s 29ms/step\n",
      "1/1 [==============================] - 0s 27ms/step\n",
      "1/1 [==============================] - 0s 31ms/step\n",
      "1/1 [==============================] - 0s 30ms/step\n",
      "1/1 [==============================] - 0s 31ms/step\n",
      "1/1 [==============================] - 0s 28ms/step\n",
      "1/1 [==============================] - 0s 29ms/step\n",
      "1/1 [==============================] - 0s 30ms/step\n",
      "1/1 [==============================] - 0s 33ms/step\n"
     ]
    }
   ],
   "source": [
    "temperature = temperature\n",
    "num_predictions = 120\n",
    "\n",
    "sample_notes = np.stack([raw_notes[key] for key in key_order], axis=1)\n",
    "\n",
    "# The initial sequence of notes; pitch is normalized similar to training\n",
    "# sequences\n",
    "input_notes = sample_notes[:seq_length] \n",
    "\n",
    "generated_notes = []\n",
    "prev_start = 0\n",
    "for _ in range(num_predictions):\n",
    "  note, octave, step, duration = predict_next_note(input_notes, model, temperature)\n",
    "  #pitch, step, duration = predict_next_note(input_notes, model, temperature)\n",
    "  start = prev_start + step\n",
    "  end = start + duration\n",
    "  #reconverting note and octave into pitch\n",
    "  #pitch = note + octave*12\n",
    "  input_note = (note, octave, step, duration)\n",
    "  generated_notes.append((*input_note, start, end))\n",
    "  input_notes = np.delete(input_notes, 0, axis=0)\n",
    "  input_notes = np.append(input_notes, np.expand_dims(input_note, 0), axis=0)\n",
    "  prev_start = start\n",
    "\n",
    "generated_notes = pd.DataFrame(\n",
    "   generated_notes, columns=(*key_order, 'start', 'end'))\n",
    "\n",
    "generated_notes['pitch'] = generated_notes['note'] + generated_notes['octave']*12\n",
    "generated_notes = generated_notes[['pitch', 'step', 'duration', 'start','end']]"
   ]
  },
  {
   "cell_type": "code",
   "execution_count": 64,
   "id": "cfab040f",
   "metadata": {
    "colab": {
     "base_uri": "https://localhost:8080/",
     "height": 363
    },
    "executionInfo": {
     "elapsed": 252,
     "status": "ok",
     "timestamp": 1670583431227,
     "user": {
      "displayName": "Anh Dao HO",
      "userId": "09566735134384187092"
     },
     "user_tz": -60
    },
    "id": "b1946111",
    "outputId": "032f979e-ecf3-4e64-fedb-48d17452d5fe"
   },
   "outputs": [
    {
     "data": {
      "text/html": [
       "\n",
       "  <div id=\"df-c42c3638-a2d2-487c-90b9-398114797723\">\n",
       "    <div class=\"colab-df-container\">\n",
       "      <div>\n",
       "<style scoped>\n",
       "    .dataframe tbody tr th:only-of-type {\n",
       "        vertical-align: middle;\n",
       "    }\n",
       "\n",
       "    .dataframe tbody tr th {\n",
       "        vertical-align: top;\n",
       "    }\n",
       "\n",
       "    .dataframe thead th {\n",
       "        text-align: right;\n",
       "    }\n",
       "</style>\n",
       "<table border=\"1\" class=\"dataframe\">\n",
       "  <thead>\n",
       "    <tr style=\"text-align: right;\">\n",
       "      <th></th>\n",
       "      <th>pitch</th>\n",
       "      <th>step</th>\n",
       "      <th>duration</th>\n",
       "      <th>start</th>\n",
       "      <th>end</th>\n",
       "    </tr>\n",
       "  </thead>\n",
       "  <tbody>\n",
       "    <tr>\n",
       "      <th>0</th>\n",
       "      <td>79</td>\n",
       "      <td>0.140067</td>\n",
       "      <td>0.158214</td>\n",
       "      <td>0.140067</td>\n",
       "      <td>0.298281</td>\n",
       "    </tr>\n",
       "    <tr>\n",
       "      <th>1</th>\n",
       "      <td>74</td>\n",
       "      <td>0.139066</td>\n",
       "      <td>0.158397</td>\n",
       "      <td>0.279133</td>\n",
       "      <td>0.437530</td>\n",
       "    </tr>\n",
       "    <tr>\n",
       "      <th>2</th>\n",
       "      <td>94</td>\n",
       "      <td>0.140551</td>\n",
       "      <td>0.158094</td>\n",
       "      <td>0.419685</td>\n",
       "      <td>0.577778</td>\n",
       "    </tr>\n",
       "    <tr>\n",
       "      <th>3</th>\n",
       "      <td>69</td>\n",
       "      <td>0.138176</td>\n",
       "      <td>0.158618</td>\n",
       "      <td>0.557861</td>\n",
       "      <td>0.716478</td>\n",
       "    </tr>\n",
       "    <tr>\n",
       "      <th>4</th>\n",
       "      <td>84</td>\n",
       "      <td>0.137001</td>\n",
       "      <td>0.158714</td>\n",
       "      <td>0.694861</td>\n",
       "      <td>0.853575</td>\n",
       "    </tr>\n",
       "    <tr>\n",
       "      <th>5</th>\n",
       "      <td>81</td>\n",
       "      <td>0.137555</td>\n",
       "      <td>0.158870</td>\n",
       "      <td>0.832416</td>\n",
       "      <td>0.991286</td>\n",
       "    </tr>\n",
       "    <tr>\n",
       "      <th>6</th>\n",
       "      <td>82</td>\n",
       "      <td>0.136816</td>\n",
       "      <td>0.158918</td>\n",
       "      <td>0.969232</td>\n",
       "      <td>1.128150</td>\n",
       "    </tr>\n",
       "    <tr>\n",
       "      <th>7</th>\n",
       "      <td>81</td>\n",
       "      <td>0.135206</td>\n",
       "      <td>0.158935</td>\n",
       "      <td>1.104439</td>\n",
       "      <td>1.263373</td>\n",
       "    </tr>\n",
       "    <tr>\n",
       "      <th>8</th>\n",
       "      <td>91</td>\n",
       "      <td>0.134621</td>\n",
       "      <td>0.158809</td>\n",
       "      <td>1.239060</td>\n",
       "      <td>1.397869</td>\n",
       "    </tr>\n",
       "    <tr>\n",
       "      <th>9</th>\n",
       "      <td>81</td>\n",
       "      <td>0.135199</td>\n",
       "      <td>0.158706</td>\n",
       "      <td>1.374259</td>\n",
       "      <td>1.532965</td>\n",
       "    </tr>\n",
       "  </tbody>\n",
       "</table>\n",
       "</div>\n",
       "      <button class=\"colab-df-convert\" onclick=\"convertToInteractive('df-c42c3638-a2d2-487c-90b9-398114797723')\"\n",
       "              title=\"Convert this dataframe to an interactive table.\"\n",
       "              style=\"display:none;\">\n",
       "        \n",
       "  <svg xmlns=\"http://www.w3.org/2000/svg\" height=\"24px\"viewBox=\"0 0 24 24\"\n",
       "       width=\"24px\">\n",
       "    <path d=\"M0 0h24v24H0V0z\" fill=\"none\"/>\n",
       "    <path d=\"M18.56 5.44l.94 2.06.94-2.06 2.06-.94-2.06-.94-.94-2.06-.94 2.06-2.06.94zm-11 1L8.5 8.5l.94-2.06 2.06-.94-2.06-.94L8.5 2.5l-.94 2.06-2.06.94zm10 10l.94 2.06.94-2.06 2.06-.94-2.06-.94-.94-2.06-.94 2.06-2.06.94z\"/><path d=\"M17.41 7.96l-1.37-1.37c-.4-.4-.92-.59-1.43-.59-.52 0-1.04.2-1.43.59L10.3 9.45l-7.72 7.72c-.78.78-.78 2.05 0 2.83L4 21.41c.39.39.9.59 1.41.59.51 0 1.02-.2 1.41-.59l7.78-7.78 2.81-2.81c.8-.78.8-2.07 0-2.86zM5.41 20L4 18.59l7.72-7.72 1.47 1.35L5.41 20z\"/>\n",
       "  </svg>\n",
       "      </button>\n",
       "      \n",
       "  <style>\n",
       "    .colab-df-container {\n",
       "      display:flex;\n",
       "      flex-wrap:wrap;\n",
       "      gap: 12px;\n",
       "    }\n",
       "\n",
       "    .colab-df-convert {\n",
       "      background-color: #E8F0FE;\n",
       "      border: none;\n",
       "      border-radius: 50%;\n",
       "      cursor: pointer;\n",
       "      display: none;\n",
       "      fill: #1967D2;\n",
       "      height: 32px;\n",
       "      padding: 0 0 0 0;\n",
       "      width: 32px;\n",
       "    }\n",
       "\n",
       "    .colab-df-convert:hover {\n",
       "      background-color: #E2EBFA;\n",
       "      box-shadow: 0px 1px 2px rgba(60, 64, 67, 0.3), 0px 1px 3px 1px rgba(60, 64, 67, 0.15);\n",
       "      fill: #174EA6;\n",
       "    }\n",
       "\n",
       "    [theme=dark] .colab-df-convert {\n",
       "      background-color: #3B4455;\n",
       "      fill: #D2E3FC;\n",
       "    }\n",
       "\n",
       "    [theme=dark] .colab-df-convert:hover {\n",
       "      background-color: #434B5C;\n",
       "      box-shadow: 0px 1px 3px 1px rgba(0, 0, 0, 0.15);\n",
       "      filter: drop-shadow(0px 1px 2px rgba(0, 0, 0, 0.3));\n",
       "      fill: #FFFFFF;\n",
       "    }\n",
       "  </style>\n",
       "\n",
       "      <script>\n",
       "        const buttonEl =\n",
       "          document.querySelector('#df-c42c3638-a2d2-487c-90b9-398114797723 button.colab-df-convert');\n",
       "        buttonEl.style.display =\n",
       "          google.colab.kernel.accessAllowed ? 'block' : 'none';\n",
       "\n",
       "        async function convertToInteractive(key) {\n",
       "          const element = document.querySelector('#df-c42c3638-a2d2-487c-90b9-398114797723');\n",
       "          const dataTable =\n",
       "            await google.colab.kernel.invokeFunction('convertToInteractive',\n",
       "                                                     [key], {});\n",
       "          if (!dataTable) return;\n",
       "\n",
       "          const docLinkHtml = 'Like what you see? Visit the ' +\n",
       "            '<a target=\"_blank\" href=https://colab.research.google.com/notebooks/data_table.ipynb>data table notebook</a>'\n",
       "            + ' to learn more about interactive tables.';\n",
       "          element.innerHTML = '';\n",
       "          dataTable['output_type'] = 'display_data';\n",
       "          await google.colab.output.renderOutput(dataTable, element);\n",
       "          const docLink = document.createElement('div');\n",
       "          docLink.innerHTML = docLinkHtml;\n",
       "          element.appendChild(docLink);\n",
       "        }\n",
       "      </script>\n",
       "    </div>\n",
       "  </div>\n",
       "  "
      ],
      "text/plain": [
       "   pitch      step  duration     start       end\n",
       "0     79  0.140067  0.158214  0.140067  0.298281\n",
       "1     74  0.139066  0.158397  0.279133  0.437530\n",
       "2     94  0.140551  0.158094  0.419685  0.577778\n",
       "3     69  0.138176  0.158618  0.557861  0.716478\n",
       "4     84  0.137001  0.158714  0.694861  0.853575\n",
       "5     81  0.137555  0.158870  0.832416  0.991286\n",
       "6     82  0.136816  0.158918  0.969232  1.128150\n",
       "7     81  0.135206  0.158935  1.104439  1.263373\n",
       "8     91  0.134621  0.158809  1.239060  1.397869\n",
       "9     81  0.135199  0.158706  1.374259  1.532965"
      ]
     },
     "execution_count": 64,
     "metadata": {},
     "output_type": "execute_result"
    }
   ],
   "source": [
    "generated_notes.head(10)"
   ]
  },
  {
   "cell_type": "code",
   "execution_count": 45,
   "id": "57bf3340",
   "metadata": {
    "colab": {
     "base_uri": "https://localhost:8080/"
    },
    "executionInfo": {
     "elapsed": 431,
     "status": "ok",
     "timestamp": 1670581147395,
     "user": {
      "displayName": "Anh Dao HO",
      "userId": "09566735134384187092"
     },
     "user_tz": -60
    },
    "id": "jivuThWjSWDH",
    "outputId": "7c1e52f4-84db-4322-f281-13a5aedd87ac"
   },
   "outputs": [
    {
     "data": {
      "text/plain": [
       "103"
      ]
     },
     "execution_count": 45,
     "metadata": {},
     "output_type": "execute_result"
    }
   ],
   "source": [
    "min(generated_notes['pitch']), max(generated_notes['pitch'])"
   ]
  },
  {
   "cell_type": "code",
   "execution_count": 30,
   "id": "06063325",
   "metadata": {
    "colab": {
     "base_uri": "https://localhost:8080/",
     "height": 235
    },
    "executionInfo": {
     "elapsed": 524,
     "status": "error",
     "timestamp": 1670585137364,
     "user": {
      "displayName": "Anh Dao HO",
      "userId": "09566735134384187092"
     },
     "user_tz": -60
    },
    "id": "99275540",
    "outputId": "3db110b2-29f4-45c2-d205-aa5bae2f9678"
   },
   "outputs": [
    {
     "ename": "NameError",
     "evalue": "ignored",
     "output_type": "error",
     "traceback": [
      "\u001b[0;31m---------------------------------------------------------------------------\u001b[0m",
      "\u001b[0;31mNameError\u001b[0m                                 Traceback (most recent call last)",
      "\u001b[0;32m<ipython-input-30-f0346d05606e>\u001b[0m in \u001b[0;36m<module>\u001b[0;34m\u001b[0m\n\u001b[1;32m      1\u001b[0m \u001b[0mout_file\u001b[0m \u001b[0;34m=\u001b[0m \u001b[0;34mf\"{learning_rate}lrate_{batch_size}batch{epochs}epoch_{seq_length}seqlength_from_file_nb{file_number}.mid\"\u001b[0m\u001b[0;34m\u001b[0m\u001b[0;34m\u001b[0m\u001b[0m\n\u001b[1;32m      2\u001b[0m out_pm = notes_to_midi(\n\u001b[0;32m----> 3\u001b[0;31m     generated_notes, out_file=out_file, instrument_name=instrument_name)\n\u001b[0m\u001b[1;32m      4\u001b[0m \u001b[0;31m#display_audio(out_pm)\u001b[0m\u001b[0;34m\u001b[0m\u001b[0;34m\u001b[0m\u001b[0;34m\u001b[0m\u001b[0m\n\u001b[1;32m      5\u001b[0m \u001b[0mfiles\u001b[0m\u001b[0;34m.\u001b[0m\u001b[0mdownload\u001b[0m\u001b[0;34m(\u001b[0m\u001b[0mout_file\u001b[0m\u001b[0;34m)\u001b[0m\u001b[0;34m\u001b[0m\u001b[0;34m\u001b[0m\u001b[0m\n",
      "\u001b[0;31mNameError\u001b[0m: name 'generated_notes' is not defined"
     ]
    }
   ],
   "source": [
    "out_file = f\"{learning_rate}lrate_{batch_size}batch{epochs}epoch_{seq_length}seqlength_from_file_nb{file_number}.mid\"\n",
    "out_pm = notes_to_midi(\n",
    "    generated_notes, out_file=out_file, instrument_name=instrument_name)\n",
    "#display_audio(out_pm)\n",
    "files.download(out_file)"
   ]
  },
  {
   "cell_type": "code",
   "execution_count": 33,
   "id": "7bdd8d42",
   "metadata": {
    "colab": {
     "base_uri": "https://localhost:8080/",
     "height": 618
    },
    "executionInfo": {
     "elapsed": 201,
     "status": "error",
     "timestamp": 1670585202385,
     "user": {
      "displayName": "Anh Dao HO",
      "userId": "09566735134384187092"
     },
     "user_tz": -60
    },
    "id": "p2muMvSlouLJ",
    "outputId": "76ec598a-2f7e-4810-bb10-62df43a40bc1"
   },
   "outputs": [
    {
     "ename": "ValueError",
     "evalue": "ignored",
     "output_type": "error",
     "traceback": [
      "\u001b[0;31m---------------------------------------------------------------------------\u001b[0m",
      "\u001b[0;31mValueError\u001b[0m                                Traceback (most recent call last)",
      "\u001b[0;32m<ipython-input-33-309c054054f5>\u001b[0m in \u001b[0;36m<module>\u001b[0;34m\u001b[0m\n\u001b[0;32m----> 1\u001b[0;31m \u001b[0mplot_distributions\u001b[0m\u001b[0;34m(\u001b[0m\u001b[0mall_notes\u001b[0m\u001b[0;34m)\u001b[0m\u001b[0;34m\u001b[0m\u001b[0;34m\u001b[0m\u001b[0m\n\u001b[0m",
      "\u001b[0;32m<ipython-input-16-01198c686165>\u001b[0m in \u001b[0;36mplot_distributions\u001b[0;34m(notes, drop_percentile)\u001b[0m\n\u001b[1;32m      2\u001b[0m   \u001b[0mplt\u001b[0m\u001b[0;34m.\u001b[0m\u001b[0mfigure\u001b[0m\u001b[0;34m(\u001b[0m\u001b[0mfigsize\u001b[0m\u001b[0;34m=\u001b[0m\u001b[0;34m[\u001b[0m\u001b[0;36m15\u001b[0m\u001b[0;34m,\u001b[0m \u001b[0;36m5\u001b[0m\u001b[0;34m]\u001b[0m\u001b[0;34m)\u001b[0m\u001b[0;34m\u001b[0m\u001b[0;34m\u001b[0m\u001b[0m\n\u001b[1;32m      3\u001b[0m   \u001b[0mplt\u001b[0m\u001b[0;34m.\u001b[0m\u001b[0msubplot\u001b[0m\u001b[0;34m(\u001b[0m\u001b[0;36m1\u001b[0m\u001b[0;34m,\u001b[0m \u001b[0;36m3\u001b[0m\u001b[0;34m,\u001b[0m \u001b[0;36m1\u001b[0m\u001b[0;34m)\u001b[0m\u001b[0;34m\u001b[0m\u001b[0;34m\u001b[0m\u001b[0m\n\u001b[0;32m----> 4\u001b[0;31m   \u001b[0msns\u001b[0m\u001b[0;34m.\u001b[0m\u001b[0mhistplot\u001b[0m\u001b[0;34m(\u001b[0m\u001b[0mnotes\u001b[0m\u001b[0;34m,\u001b[0m \u001b[0mx\u001b[0m\u001b[0;34m=\u001b[0m\u001b[0;34m\"pitch\"\u001b[0m\u001b[0;34m,\u001b[0m \u001b[0mbins\u001b[0m\u001b[0;34m=\u001b[0m\u001b[0;36m20\u001b[0m\u001b[0;34m)\u001b[0m\u001b[0;34m\u001b[0m\u001b[0;34m\u001b[0m\u001b[0m\n\u001b[0m\u001b[1;32m      5\u001b[0m \u001b[0;34m\u001b[0m\u001b[0m\n\u001b[1;32m      6\u001b[0m   \u001b[0mplt\u001b[0m\u001b[0;34m.\u001b[0m\u001b[0msubplot\u001b[0m\u001b[0;34m(\u001b[0m\u001b[0;36m1\u001b[0m\u001b[0;34m,\u001b[0m \u001b[0;36m3\u001b[0m\u001b[0;34m,\u001b[0m \u001b[0;36m2\u001b[0m\u001b[0;34m)\u001b[0m\u001b[0;34m\u001b[0m\u001b[0;34m\u001b[0m\u001b[0m\n",
      "\u001b[0;32m/usr/local/lib/python3.8/dist-packages/seaborn/distributions.py\u001b[0m in \u001b[0;36mhistplot\u001b[0;34m(data, x, y, hue, weights, stat, bins, binwidth, binrange, discrete, cumulative, common_bins, common_norm, multiple, element, fill, shrink, kde, kde_kws, line_kws, thresh, pthresh, pmax, cbar, cbar_ax, cbar_kws, palette, hue_order, hue_norm, color, log_scale, legend, ax, **kwargs)\u001b[0m\n\u001b[1;32m   1428\u001b[0m ):\n\u001b[1;32m   1429\u001b[0m \u001b[0;34m\u001b[0m\u001b[0m\n\u001b[0;32m-> 1430\u001b[0;31m     p = _DistributionPlotter(\n\u001b[0m\u001b[1;32m   1431\u001b[0m         \u001b[0mdata\u001b[0m\u001b[0;34m=\u001b[0m\u001b[0mdata\u001b[0m\u001b[0;34m,\u001b[0m\u001b[0;34m\u001b[0m\u001b[0;34m\u001b[0m\u001b[0m\n\u001b[1;32m   1432\u001b[0m         \u001b[0mvariables\u001b[0m\u001b[0;34m=\u001b[0m\u001b[0m_DistributionPlotter\u001b[0m\u001b[0;34m.\u001b[0m\u001b[0mget_semantics\u001b[0m\u001b[0;34m(\u001b[0m\u001b[0mlocals\u001b[0m\u001b[0;34m(\u001b[0m\u001b[0;34m)\u001b[0m\u001b[0;34m)\u001b[0m\u001b[0;34m\u001b[0m\u001b[0;34m\u001b[0m\u001b[0m\n",
      "\u001b[0;32m/usr/local/lib/python3.8/dist-packages/seaborn/distributions.py\u001b[0m in \u001b[0;36m__init__\u001b[0;34m(self, data, variables)\u001b[0m\n\u001b[1;32m    109\u001b[0m     ):\n\u001b[1;32m    110\u001b[0m \u001b[0;34m\u001b[0m\u001b[0m\n\u001b[0;32m--> 111\u001b[0;31m         \u001b[0msuper\u001b[0m\u001b[0;34m(\u001b[0m\u001b[0;34m)\u001b[0m\u001b[0;34m.\u001b[0m\u001b[0m__init__\u001b[0m\u001b[0;34m(\u001b[0m\u001b[0mdata\u001b[0m\u001b[0;34m=\u001b[0m\u001b[0mdata\u001b[0m\u001b[0;34m,\u001b[0m \u001b[0mvariables\u001b[0m\u001b[0;34m=\u001b[0m\u001b[0mvariables\u001b[0m\u001b[0;34m)\u001b[0m\u001b[0;34m\u001b[0m\u001b[0;34m\u001b[0m\u001b[0m\n\u001b[0m\u001b[1;32m    112\u001b[0m \u001b[0;34m\u001b[0m\u001b[0m\n\u001b[1;32m    113\u001b[0m     \u001b[0;34m@\u001b[0m\u001b[0mproperty\u001b[0m\u001b[0;34m\u001b[0m\u001b[0;34m\u001b[0m\u001b[0m\n",
      "\u001b[0;32m/usr/local/lib/python3.8/dist-packages/seaborn/_core.py\u001b[0m in \u001b[0;36m__init__\u001b[0;34m(self, data, variables)\u001b[0m\n\u001b[1;32m    603\u001b[0m     \u001b[0;32mdef\u001b[0m \u001b[0m__init__\u001b[0m\u001b[0;34m(\u001b[0m\u001b[0mself\u001b[0m\u001b[0;34m,\u001b[0m \u001b[0mdata\u001b[0m\u001b[0;34m=\u001b[0m\u001b[0;32mNone\u001b[0m\u001b[0;34m,\u001b[0m \u001b[0mvariables\u001b[0m\u001b[0;34m=\u001b[0m\u001b[0;34m{\u001b[0m\u001b[0;34m}\u001b[0m\u001b[0;34m)\u001b[0m\u001b[0;34m:\u001b[0m\u001b[0;34m\u001b[0m\u001b[0;34m\u001b[0m\u001b[0m\n\u001b[1;32m    604\u001b[0m \u001b[0;34m\u001b[0m\u001b[0m\n\u001b[0;32m--> 605\u001b[0;31m         \u001b[0mself\u001b[0m\u001b[0;34m.\u001b[0m\u001b[0massign_variables\u001b[0m\u001b[0;34m(\u001b[0m\u001b[0mdata\u001b[0m\u001b[0;34m,\u001b[0m \u001b[0mvariables\u001b[0m\u001b[0;34m)\u001b[0m\u001b[0;34m\u001b[0m\u001b[0;34m\u001b[0m\u001b[0m\n\u001b[0m\u001b[1;32m    606\u001b[0m \u001b[0;34m\u001b[0m\u001b[0m\n\u001b[1;32m    607\u001b[0m         \u001b[0;32mfor\u001b[0m \u001b[0mvar\u001b[0m\u001b[0;34m,\u001b[0m \u001b[0mcls\u001b[0m \u001b[0;32min\u001b[0m \u001b[0mself\u001b[0m\u001b[0;34m.\u001b[0m\u001b[0m_semantic_mappings\u001b[0m\u001b[0;34m.\u001b[0m\u001b[0mitems\u001b[0m\u001b[0;34m(\u001b[0m\u001b[0;34m)\u001b[0m\u001b[0;34m:\u001b[0m\u001b[0;34m\u001b[0m\u001b[0;34m\u001b[0m\u001b[0m\n",
      "\u001b[0;32m/usr/local/lib/python3.8/dist-packages/seaborn/_core.py\u001b[0m in \u001b[0;36massign_variables\u001b[0;34m(self, data, variables)\u001b[0m\n\u001b[1;32m    666\u001b[0m         \u001b[0;32melse\u001b[0m\u001b[0;34m:\u001b[0m\u001b[0;34m\u001b[0m\u001b[0;34m\u001b[0m\u001b[0m\n\u001b[1;32m    667\u001b[0m             \u001b[0mself\u001b[0m\u001b[0;34m.\u001b[0m\u001b[0minput_format\u001b[0m \u001b[0;34m=\u001b[0m \u001b[0;34m\"long\"\u001b[0m\u001b[0;34m\u001b[0m\u001b[0;34m\u001b[0m\u001b[0m\n\u001b[0;32m--> 668\u001b[0;31m             plot_data, variables = self._assign_variables_longform(\n\u001b[0m\u001b[1;32m    669\u001b[0m                 \u001b[0mdata\u001b[0m\u001b[0;34m,\u001b[0m \u001b[0;34m**\u001b[0m\u001b[0mvariables\u001b[0m\u001b[0;34m,\u001b[0m\u001b[0;34m\u001b[0m\u001b[0;34m\u001b[0m\u001b[0m\n\u001b[1;32m    670\u001b[0m             )\n",
      "\u001b[0;32m/usr/local/lib/python3.8/dist-packages/seaborn/_core.py\u001b[0m in \u001b[0;36m_assign_variables_longform\u001b[0;34m(self, data, **kwargs)\u001b[0m\n\u001b[1;32m    880\u001b[0m             \u001b[0;32mtry\u001b[0m\u001b[0;34m:\u001b[0m\u001b[0;34m\u001b[0m\u001b[0;34m\u001b[0m\u001b[0m\n\u001b[1;32m    881\u001b[0m                 val_as_data_key = (\n\u001b[0;32m--> 882\u001b[0;31m                     \u001b[0mval\u001b[0m \u001b[0;32min\u001b[0m \u001b[0mdata\u001b[0m\u001b[0;34m\u001b[0m\u001b[0;34m\u001b[0m\u001b[0m\n\u001b[0m\u001b[1;32m    883\u001b[0m                     \u001b[0;32mor\u001b[0m \u001b[0;34m(\u001b[0m\u001b[0misinstance\u001b[0m\u001b[0;34m(\u001b[0m\u001b[0mval\u001b[0m\u001b[0;34m,\u001b[0m \u001b[0;34m(\u001b[0m\u001b[0mstr\u001b[0m\u001b[0;34m,\u001b[0m \u001b[0mbytes\u001b[0m\u001b[0;34m)\u001b[0m\u001b[0;34m)\u001b[0m \u001b[0;32mand\u001b[0m \u001b[0mval\u001b[0m \u001b[0;32min\u001b[0m \u001b[0mindex\u001b[0m\u001b[0;34m)\u001b[0m\u001b[0;34m\u001b[0m\u001b[0;34m\u001b[0m\u001b[0m\n\u001b[1;32m    884\u001b[0m                 )\n",
      "\u001b[0;32m/usr/local/lib/python3.8/dist-packages/pandas/core/generic.py\u001b[0m in \u001b[0;36m__nonzero__\u001b[0;34m(self)\u001b[0m\n\u001b[1;32m   1535\u001b[0m     \u001b[0;34m@\u001b[0m\u001b[0mfinal\u001b[0m\u001b[0;34m\u001b[0m\u001b[0;34m\u001b[0m\u001b[0m\n\u001b[1;32m   1536\u001b[0m     \u001b[0;32mdef\u001b[0m \u001b[0m__nonzero__\u001b[0m\u001b[0;34m(\u001b[0m\u001b[0mself\u001b[0m\u001b[0;34m)\u001b[0m\u001b[0;34m:\u001b[0m\u001b[0;34m\u001b[0m\u001b[0;34m\u001b[0m\u001b[0m\n\u001b[0;32m-> 1537\u001b[0;31m         raise ValueError(\n\u001b[0m\u001b[1;32m   1538\u001b[0m             \u001b[0;34mf\"The truth value of a {type(self).__name__} is ambiguous. \"\u001b[0m\u001b[0;34m\u001b[0m\u001b[0;34m\u001b[0m\u001b[0m\n\u001b[1;32m   1539\u001b[0m             \u001b[0;34m\"Use a.empty, a.bool(), a.item(), a.any() or a.all().\"\u001b[0m\u001b[0;34m\u001b[0m\u001b[0;34m\u001b[0m\u001b[0m\n",
      "\u001b[0;31mValueError\u001b[0m: The truth value of a DataFrame is ambiguous. Use a.empty, a.bool(), a.item(), a.any() or a.all()."
     ]
    },
    {
     "data": {
      "image/png": "[encoded data removed]",
      "text/plain": [
       "<Figure size 1080x360 with 1 Axes>"
      ]
     },
     "metadata": {
      "needs_background": "light"
     },
     "output_type": "display_data"
    }
   ],
   "source": [
    "plot_distributions(all_notes)"
   ]
  },
  {
   "cell_type": "code",
   "execution_count": 34,
   "id": "dba4ba12",
   "metadata": {
    "colab": {
     "base_uri": "https://localhost:8080/",
     "height": 166
    },
    "executionInfo": {
     "elapsed": 4,
     "status": "error",
     "timestamp": 1670585218764,
     "user": {
      "displayName": "Anh Dao HO",
      "userId": "09566735134384187092"
     },
     "user_tz": -60
    },
    "id": "1CMtoEtYo2EF",
    "outputId": "7d15e25a-8b02-4830-a30f-8f517876aff3"
   },
   "outputs": [
    {
     "ename": "NameError",
     "evalue": "ignored",
     "output_type": "error",
     "traceback": [
      "\u001b[0;31m---------------------------------------------------------------------------\u001b[0m",
      "\u001b[0;31mNameError\u001b[0m                                 Traceback (most recent call last)",
      "\u001b[0;32m<ipython-input-34-4069e14d24fb>\u001b[0m in \u001b[0;36m<module>\u001b[0;34m\u001b[0m\n\u001b[0;32m----> 1\u001b[0;31m \u001b[0mtype\u001b[0m\u001b[0;34m(\u001b[0m\u001b[0mgenerated_notes\u001b[0m\u001b[0;34m)\u001b[0m\u001b[0;34m\u001b[0m\u001b[0;34m\u001b[0m\u001b[0m\n\u001b[0m",
      "\u001b[0;31mNameError\u001b[0m: name 'generated_notes' is not defined"
     ]
    }
   ],
   "source": [
    "type(generated_notes)"
   ]
  },
  {
   "cell_type": "code",
   "execution_count": 46,
   "id": "9b34b042",
   "metadata": {
    "colab": {
     "base_uri": "https://localhost:8080/",
     "height": 334
    },
    "executionInfo": {
     "elapsed": 754,
     "status": "ok",
     "timestamp": 1670581168142,
     "user": {
      "displayName": "Anh Dao HO",
      "userId": "09566735134384187092"
     },
     "user_tz": -60
    },
    "id": "25ba0af0",
    "outputId": "95d58899-adab-4873-d62d-4616473cc8eb"
   },
   "outputs": [
    {
     "data": {
      "image/png": "[encoded data removed]",
      "text/plain": [
       "<Figure size 1080x360 with 3 Axes>"
      ]
     },
     "metadata": {
      "needs_background": "light"
     },
     "output_type": "display_data"
    }
   ],
   "source": [
    "plot_distributions(generated_notes)"
   ]
  },
  {
   "cell_type": "markdown",
   "id": "3729a665",
   "metadata": {
    "id": "MN45mewLpVK6"
   },
   "source": [
    "## Tests\n",
    "\n"
   ]
  },
  {
   "cell_type": "code",
   "execution_count": 32,
   "id": "68ed7593",
   "metadata": {
    "colab": {
     "base_uri": "https://localhost:8080/",
     "height": 708
    },
    "executionInfo": {
     "elapsed": 18307,
     "status": "error",
     "timestamp": 1670585190227,
     "user": {
      "displayName": "Anh Dao HO",
      "userId": "09566735134384187092"
     },
     "user_tz": -60
    },
    "id": "zxYOB4iWmqsY",
    "outputId": "14a80259-f904-4a2a-e34c-49581e4accc2"
   },
   "outputs": [
    {
     "name": "stderr",
     "output_type": "stream",
     "text": [
      "/usr/local/lib/python3.8/dist-packages/pretty_midi/pretty_midi.py:97: RuntimeWarning: Tempo, Key or Time signature change events found on non-zero tracks.  This is not a valid type 0 or type 1 MIDI file.  Tempo, Key or Time Signature may be wrong.\n",
      "  warnings.warn(\n"
     ]
    },
    {
     "ename": "ValueError",
     "evalue": "ignored",
     "output_type": "error",
     "traceback": [
      "\u001b[0;31m---------------------------------------------------------------------------\u001b[0m",
      "\u001b[0;31mValueError\u001b[0m                                Traceback (most recent call last)",
      "\u001b[0;32m<ipython-input-32-d942880c3354>\u001b[0m in \u001b[0;36m<module>\u001b[0;34m\u001b[0m\n\u001b[1;32m      7\u001b[0m \u001b[0;32mfor\u001b[0m \u001b[0mf\u001b[0m \u001b[0;32min\u001b[0m \u001b[0mfilenames\u001b[0m \u001b[0;34m:\u001b[0m\u001b[0;34m\u001b[0m\u001b[0;34m\u001b[0m\u001b[0m\n\u001b[1;32m      8\u001b[0m   \u001b[0mall_notes\u001b[0m\u001b[0;34m.\u001b[0m\u001b[0mappend\u001b[0m\u001b[0;34m(\u001b[0m\u001b[0mmidi_to_notes\u001b[0m\u001b[0;34m(\u001b[0m\u001b[0mf\u001b[0m\u001b[0;34m)\u001b[0m\u001b[0;34m)\u001b[0m\u001b[0;34m\u001b[0m\u001b[0;34m\u001b[0m\u001b[0m\n\u001b[0;32m----> 9\u001b[0;31m \u001b[0mplot_distributions\u001b[0m\u001b[0;34m(\u001b[0m\u001b[0mall_notes\u001b[0m\u001b[0;34m)\u001b[0m\u001b[0;34m\u001b[0m\u001b[0;34m\u001b[0m\u001b[0m\n\u001b[0m",
      "\u001b[0;32m<ipython-input-16-01198c686165>\u001b[0m in \u001b[0;36mplot_distributions\u001b[0;34m(notes, drop_percentile)\u001b[0m\n\u001b[1;32m      2\u001b[0m   \u001b[0mplt\u001b[0m\u001b[0;34m.\u001b[0m\u001b[0mfigure\u001b[0m\u001b[0;34m(\u001b[0m\u001b[0mfigsize\u001b[0m\u001b[0;34m=\u001b[0m\u001b[0;34m[\u001b[0m\u001b[0;36m15\u001b[0m\u001b[0;34m,\u001b[0m \u001b[0;36m5\u001b[0m\u001b[0;34m]\u001b[0m\u001b[0;34m)\u001b[0m\u001b[0;34m\u001b[0m\u001b[0;34m\u001b[0m\u001b[0m\n\u001b[1;32m      3\u001b[0m   \u001b[0mplt\u001b[0m\u001b[0;34m.\u001b[0m\u001b[0msubplot\u001b[0m\u001b[0;34m(\u001b[0m\u001b[0;36m1\u001b[0m\u001b[0;34m,\u001b[0m \u001b[0;36m3\u001b[0m\u001b[0;34m,\u001b[0m \u001b[0;36m1\u001b[0m\u001b[0;34m)\u001b[0m\u001b[0;34m\u001b[0m\u001b[0;34m\u001b[0m\u001b[0m\n\u001b[0;32m----> 4\u001b[0;31m   \u001b[0msns\u001b[0m\u001b[0;34m.\u001b[0m\u001b[0mhistplot\u001b[0m\u001b[0;34m(\u001b[0m\u001b[0mnotes\u001b[0m\u001b[0;34m,\u001b[0m \u001b[0mx\u001b[0m\u001b[0;34m=\u001b[0m\u001b[0;34m\"pitch\"\u001b[0m\u001b[0;34m,\u001b[0m \u001b[0mbins\u001b[0m\u001b[0;34m=\u001b[0m\u001b[0;36m20\u001b[0m\u001b[0;34m)\u001b[0m\u001b[0;34m\u001b[0m\u001b[0;34m\u001b[0m\u001b[0m\n\u001b[0m\u001b[1;32m      5\u001b[0m \u001b[0;34m\u001b[0m\u001b[0m\n\u001b[1;32m      6\u001b[0m   \u001b[0mplt\u001b[0m\u001b[0;34m.\u001b[0m\u001b[0msubplot\u001b[0m\u001b[0;34m(\u001b[0m\u001b[0;36m1\u001b[0m\u001b[0;34m,\u001b[0m \u001b[0;36m3\u001b[0m\u001b[0;34m,\u001b[0m \u001b[0;36m2\u001b[0m\u001b[0;34m)\u001b[0m\u001b[0;34m\u001b[0m\u001b[0;34m\u001b[0m\u001b[0m\n",
      "\u001b[0;32m/usr/local/lib/python3.8/dist-packages/seaborn/distributions.py\u001b[0m in \u001b[0;36mhistplot\u001b[0;34m(data, x, y, hue, weights, stat, bins, binwidth, binrange, discrete, cumulative, common_bins, common_norm, multiple, element, fill, shrink, kde, kde_kws, line_kws, thresh, pthresh, pmax, cbar, cbar_ax, cbar_kws, palette, hue_order, hue_norm, color, log_scale, legend, ax, **kwargs)\u001b[0m\n\u001b[1;32m   1428\u001b[0m ):\n\u001b[1;32m   1429\u001b[0m \u001b[0;34m\u001b[0m\u001b[0m\n\u001b[0;32m-> 1430\u001b[0;31m     p = _DistributionPlotter(\n\u001b[0m\u001b[1;32m   1431\u001b[0m         \u001b[0mdata\u001b[0m\u001b[0;34m=\u001b[0m\u001b[0mdata\u001b[0m\u001b[0;34m,\u001b[0m\u001b[0;34m\u001b[0m\u001b[0;34m\u001b[0m\u001b[0m\n\u001b[1;32m   1432\u001b[0m         \u001b[0mvariables\u001b[0m\u001b[0;34m=\u001b[0m\u001b[0m_DistributionPlotter\u001b[0m\u001b[0;34m.\u001b[0m\u001b[0mget_semantics\u001b[0m\u001b[0;34m(\u001b[0m\u001b[0mlocals\u001b[0m\u001b[0;34m(\u001b[0m\u001b[0;34m)\u001b[0m\u001b[0;34m)\u001b[0m\u001b[0;34m\u001b[0m\u001b[0;34m\u001b[0m\u001b[0m\n",
      "\u001b[0;32m/usr/local/lib/python3.8/dist-packages/seaborn/distributions.py\u001b[0m in \u001b[0;36m__init__\u001b[0;34m(self, data, variables)\u001b[0m\n\u001b[1;32m    109\u001b[0m     ):\n\u001b[1;32m    110\u001b[0m \u001b[0;34m\u001b[0m\u001b[0m\n\u001b[0;32m--> 111\u001b[0;31m         \u001b[0msuper\u001b[0m\u001b[0;34m(\u001b[0m\u001b[0;34m)\u001b[0m\u001b[0;34m.\u001b[0m\u001b[0m__init__\u001b[0m\u001b[0;34m(\u001b[0m\u001b[0mdata\u001b[0m\u001b[0;34m=\u001b[0m\u001b[0mdata\u001b[0m\u001b[0;34m,\u001b[0m \u001b[0mvariables\u001b[0m\u001b[0;34m=\u001b[0m\u001b[0mvariables\u001b[0m\u001b[0;34m)\u001b[0m\u001b[0;34m\u001b[0m\u001b[0;34m\u001b[0m\u001b[0m\n\u001b[0m\u001b[1;32m    112\u001b[0m \u001b[0;34m\u001b[0m\u001b[0m\n\u001b[1;32m    113\u001b[0m     \u001b[0;34m@\u001b[0m\u001b[0mproperty\u001b[0m\u001b[0;34m\u001b[0m\u001b[0;34m\u001b[0m\u001b[0m\n",
      "\u001b[0;32m/usr/local/lib/python3.8/dist-packages/seaborn/_core.py\u001b[0m in \u001b[0;36m__init__\u001b[0;34m(self, data, variables)\u001b[0m\n\u001b[1;32m    603\u001b[0m     \u001b[0;32mdef\u001b[0m \u001b[0m__init__\u001b[0m\u001b[0;34m(\u001b[0m\u001b[0mself\u001b[0m\u001b[0;34m,\u001b[0m \u001b[0mdata\u001b[0m\u001b[0;34m=\u001b[0m\u001b[0;32mNone\u001b[0m\u001b[0;34m,\u001b[0m \u001b[0mvariables\u001b[0m\u001b[0;34m=\u001b[0m\u001b[0;34m{\u001b[0m\u001b[0;34m}\u001b[0m\u001b[0;34m)\u001b[0m\u001b[0;34m:\u001b[0m\u001b[0;34m\u001b[0m\u001b[0;34m\u001b[0m\u001b[0m\n\u001b[1;32m    604\u001b[0m \u001b[0;34m\u001b[0m\u001b[0m\n\u001b[0;32m--> 605\u001b[0;31m         \u001b[0mself\u001b[0m\u001b[0;34m.\u001b[0m\u001b[0massign_variables\u001b[0m\u001b[0;34m(\u001b[0m\u001b[0mdata\u001b[0m\u001b[0;34m,\u001b[0m \u001b[0mvariables\u001b[0m\u001b[0;34m)\u001b[0m\u001b[0;34m\u001b[0m\u001b[0;34m\u001b[0m\u001b[0m\n\u001b[0m\u001b[1;32m    606\u001b[0m \u001b[0;34m\u001b[0m\u001b[0m\n\u001b[1;32m    607\u001b[0m         \u001b[0;32mfor\u001b[0m \u001b[0mvar\u001b[0m\u001b[0;34m,\u001b[0m \u001b[0mcls\u001b[0m \u001b[0;32min\u001b[0m \u001b[0mself\u001b[0m\u001b[0;34m.\u001b[0m\u001b[0m_semantic_mappings\u001b[0m\u001b[0;34m.\u001b[0m\u001b[0mitems\u001b[0m\u001b[0;34m(\u001b[0m\u001b[0;34m)\u001b[0m\u001b[0;34m:\u001b[0m\u001b[0;34m\u001b[0m\u001b[0;34m\u001b[0m\u001b[0m\n",
      "\u001b[0;32m/usr/local/lib/python3.8/dist-packages/seaborn/_core.py\u001b[0m in \u001b[0;36massign_variables\u001b[0;34m(self, data, variables)\u001b[0m\n\u001b[1;32m    666\u001b[0m         \u001b[0;32melse\u001b[0m\u001b[0;34m:\u001b[0m\u001b[0;34m\u001b[0m\u001b[0;34m\u001b[0m\u001b[0m\n\u001b[1;32m    667\u001b[0m             \u001b[0mself\u001b[0m\u001b[0;34m.\u001b[0m\u001b[0minput_format\u001b[0m \u001b[0;34m=\u001b[0m \u001b[0;34m\"long\"\u001b[0m\u001b[0;34m\u001b[0m\u001b[0;34m\u001b[0m\u001b[0m\n\u001b[0;32m--> 668\u001b[0;31m             plot_data, variables = self._assign_variables_longform(\n\u001b[0m\u001b[1;32m    669\u001b[0m                 \u001b[0mdata\u001b[0m\u001b[0;34m,\u001b[0m \u001b[0;34m**\u001b[0m\u001b[0mvariables\u001b[0m\u001b[0;34m,\u001b[0m\u001b[0;34m\u001b[0m\u001b[0;34m\u001b[0m\u001b[0m\n\u001b[1;32m    670\u001b[0m             )\n",
      "\u001b[0;32m/usr/local/lib/python3.8/dist-packages/seaborn/_core.py\u001b[0m in \u001b[0;36m_assign_variables_longform\u001b[0;34m(self, data, **kwargs)\u001b[0m\n\u001b[1;32m    880\u001b[0m             \u001b[0;32mtry\u001b[0m\u001b[0;34m:\u001b[0m\u001b[0;34m\u001b[0m\u001b[0;34m\u001b[0m\u001b[0m\n\u001b[1;32m    881\u001b[0m                 val_as_data_key = (\n\u001b[0;32m--> 882\u001b[0;31m                     \u001b[0mval\u001b[0m \u001b[0;32min\u001b[0m \u001b[0mdata\u001b[0m\u001b[0;34m\u001b[0m\u001b[0;34m\u001b[0m\u001b[0m\n\u001b[0m\u001b[1;32m    883\u001b[0m                     \u001b[0;32mor\u001b[0m \u001b[0;34m(\u001b[0m\u001b[0misinstance\u001b[0m\u001b[0;34m(\u001b[0m\u001b[0mval\u001b[0m\u001b[0;34m,\u001b[0m \u001b[0;34m(\u001b[0m\u001b[0mstr\u001b[0m\u001b[0;34m,\u001b[0m \u001b[0mbytes\u001b[0m\u001b[0;34m)\u001b[0m\u001b[0;34m)\u001b[0m \u001b[0;32mand\u001b[0m \u001b[0mval\u001b[0m \u001b[0;32min\u001b[0m \u001b[0mindex\u001b[0m\u001b[0;34m)\u001b[0m\u001b[0;34m\u001b[0m\u001b[0;34m\u001b[0m\u001b[0m\n\u001b[1;32m    884\u001b[0m                 )\n",
      "\u001b[0;32m/usr/local/lib/python3.8/dist-packages/pandas/core/generic.py\u001b[0m in \u001b[0;36m__nonzero__\u001b[0;34m(self)\u001b[0m\n\u001b[1;32m   1535\u001b[0m     \u001b[0;34m@\u001b[0m\u001b[0mfinal\u001b[0m\u001b[0;34m\u001b[0m\u001b[0;34m\u001b[0m\u001b[0m\n\u001b[1;32m   1536\u001b[0m     \u001b[0;32mdef\u001b[0m \u001b[0m__nonzero__\u001b[0m\u001b[0;34m(\u001b[0m\u001b[0mself\u001b[0m\u001b[0;34m)\u001b[0m\u001b[0;34m:\u001b[0m\u001b[0;34m\u001b[0m\u001b[0;34m\u001b[0m\u001b[0m\n\u001b[0;32m-> 1537\u001b[0;31m         raise ValueError(\n\u001b[0m\u001b[1;32m   1538\u001b[0m             \u001b[0;34mf\"The truth value of a {type(self).__name__} is ambiguous. \"\u001b[0m\u001b[0;34m\u001b[0m\u001b[0;34m\u001b[0m\u001b[0m\n\u001b[1;32m   1539\u001b[0m             \u001b[0;34m\"Use a.empty, a.bool(), a.item(), a.any() or a.all().\"\u001b[0m\u001b[0;34m\u001b[0m\u001b[0;34m\u001b[0m\u001b[0m\n",
      "\u001b[0;31mValueError\u001b[0m: The truth value of a DataFrame is ambiguous. Use a.empty, a.bool(), a.item(), a.any() or a.all()."
     ]
    },
    {
     "data": {
      "image/png": "[encoded data removed]",
      "text/plain": [
       "<Figure size 1080x360 with 1 Axes>"
      ]
     },
     "metadata": {
      "needs_background": "light"
     },
     "output_type": "display_data"
    }
   ],
   "source": [
    "import pathlib\n",
    "import glob\n",
    "data_path = pathlib.Path('drive/MyDrive/Colab Notebooks/music-generation/data/midi_chopin_format_0_dataset')\n",
    "filenames = glob.glob(str(data_path/\"*.mid\"))\n",
    "\n",
    "all_notes = []\n",
    "for f in filenames :\n",
    "  all_notes.append(midi_to_notes(f))"
   ]
  }
 ],
 "metadata": {
  "accelerator": "GPU",
  "colab": {
   "collapsed_sections": [
    "b8a53a57"
   ],
   "provenance": []
  },
  "gpuClass": "standard",
  "kernelspec": {
   "display_name": "Python 3 (ipykernel)",
   "language": "python",
   "name": "python3"
  },
  "language_info": {
   "codemirror_mode": {
    "name": "ipython",
    "version": 3
   },
   "file_extension": ".py",
   "mimetype": "text/x-python",
   "name": "python",
   "nbconvert_exporter": "python",
   "pygments_lexer": "ipython3",
   "version": "3.10.6"
  },
  "toc": {
   "base_numbering": 1,
   "nav_menu": {},
   "number_sections": true,
   "sideBar": true,
   "skip_h1_title": false,
   "title_cell": "Table of Contents",
   "title_sidebar": "Contents",
   "toc_cell": false,
   "toc_position": {},
   "toc_section_display": true,
   "toc_window_display": false
  },
  "vscode": {
   "interpreter": {
    "hash": "8268324a8e79dcc63d1c1f8eddc6cb10da52cf57da59d5aeb66c2f60d31396cf"
   }
  }
 },
 "nbformat": 4,
 "nbformat_minor": 5
}
